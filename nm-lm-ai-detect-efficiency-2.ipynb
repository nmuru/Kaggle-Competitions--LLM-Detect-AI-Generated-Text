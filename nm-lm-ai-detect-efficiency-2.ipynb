{
 "cells": [
  {
   "cell_type": "markdown",
   "id": "4e785db7",
   "metadata": {
    "papermill": {
     "duration": 0.010689,
     "end_time": "2024-01-20T09:59:34.342156",
     "exception": false,
     "start_time": "2024-01-20T09:59:34.331467",
     "status": "completed"
    },
    "tags": []
   },
   "source": [
    "# Credit\n",
    "\n",
    "BPE Encoding based custom tokenizer by @datafan07\n",
    "\n",
    "Ertuğrul Demir - https://www.kaggle.com/code/datafan07/train-your-own-tokenizer\n",
    "\n",
    "Dataset: Augmented dataset by @jdragonxherrera https://www.kaggle.com/competitions/llm-detect-ai-generated-text/discussion/456729\n",
    "\n",
    "Fork from https://www.kaggle.com/code/xiaocao123/ai-generated-text-detection-add-new-data\n",
    "\n",
    "https://www.kaggle.com/code/rsuhara/ai-generated-text-detection-quick-baseline\n",
    "\n",
    "Inspired by VLADIMIR DEMIDOV's work : <br>\n",
    "https://www.kaggle.com/code/yekenot/llm-detect-by-regression <br>\n",
    "https://www.kaggle.com/code/x75a40890/ai-generated-text-detection-quick-baseline\n",
    "\n",
    "Using new train dataset https://www.kaggle.com/datasets/thedrcat/daigt-v2-train-dataset/\n",
    "\n",
    "@chenbaoying\n",
    "https://www.kaggle.com/code/chenbaoying/0-911-ai-generated-text-detection-test-feature#Voting-Classifier\n",
    "\n",
    "And for all others who contributed through discussions/codes"
   ]
  },
  {
   "cell_type": "markdown",
   "id": "22a268aa",
   "metadata": {
    "papermill": {
     "duration": 0.010053,
     "end_time": "2024-01-20T09:59:34.362691",
     "exception": false,
     "start_time": "2024-01-20T09:59:34.352638",
     "status": "completed"
    },
    "tags": []
   },
   "source": [
    "# Importing library"
   ]
  },
  {
   "cell_type": "code",
   "execution_count": 1,
   "id": "9935a7dd",
   "metadata": {
    "execution": {
     "iopub.execute_input": "2024-01-20T09:59:34.385961Z",
     "iopub.status.busy": "2024-01-20T09:59:34.384835Z",
     "iopub.status.idle": "2024-01-20T09:59:38.057815Z",
     "shell.execute_reply": "2024-01-20T09:59:38.056707Z"
    },
    "papermill": {
     "duration": 3.687663,
     "end_time": "2024-01-20T09:59:38.060702",
     "exception": false,
     "start_time": "2024-01-20T09:59:34.373039",
     "status": "completed"
    },
    "tags": []
   },
   "outputs": [],
   "source": [
    "import numpy as np\n",
    "import pandas as pd\n",
    "from sklearn.linear_model import LogisticRegression\n",
    "from sklearn.naive_bayes import MultinomialNB\n",
    "from sklearn.feature_extraction.text import TfidfVectorizer\n",
    "from sklearn.ensemble import VotingClassifier\n",
    "from sklearn.linear_model import SGDClassifier \n",
    "\n",
    "from sklearn.model_selection import train_test_split\n",
    "from sklearn.metrics import accuracy_score, roc_auc_score\n",
    "from sklearn.model_selection import GridSearchCV\n",
    "from sklearn.metrics import make_scorer, accuracy_score\n",
    "import random,os,sys\n",
    "from concurrent.futures import ProcessPoolExecutor\n",
    "import re\n",
    "import joblib\n",
    "\n",
    "from sklearn.linear_model import SGDOneClassSVM\n",
    "from sklearn.svm import OneClassSVM\n",
    "from sklearn.ensemble import IsolationForest\n",
    "from sklearn.neighbors import LocalOutlierFactor\n",
    "from sklearn.covariance import EllipticEnvelope\n",
    "\n",
    "import xgboost as xgb\n",
    "import catboost as ctb\n",
    "import lightgbm as lgb\n",
    "from lightgbm import LGBMClassifier\n",
    "from catboost import  CatBoostClassifier"
   ]
  },
  {
   "cell_type": "code",
   "execution_count": 2,
   "id": "8ca67949",
   "metadata": {
    "execution": {
     "iopub.execute_input": "2024-01-20T09:59:38.084101Z",
     "iopub.status.busy": "2024-01-20T09:59:38.083732Z",
     "iopub.status.idle": "2024-01-20T09:59:44.135505Z",
     "shell.execute_reply": "2024-01-20T09:59:44.134616Z"
    },
    "papermill": {
     "duration": 6.066852,
     "end_time": "2024-01-20T09:59:44.138449",
     "exception": false,
     "start_time": "2024-01-20T09:59:38.071597",
     "status": "completed"
    },
    "tags": []
   },
   "outputs": [],
   "source": [
    "import sys\n",
    "import gc\n",
    "\n",
    "import pandas as pd\n",
    "from sklearn.model_selection import StratifiedKFold\n",
    "import numpy as np\n",
    "from sklearn.metrics import roc_auc_score\n",
    "import numpy as np\n",
    "\n",
    "from sklearn.feature_extraction.text import TfidfVectorizer\n",
    "\n",
    "from tokenizers import (\n",
    "    decoders,\n",
    "    models,\n",
    "    normalizers,\n",
    "    pre_tokenizers,\n",
    "    processors,\n",
    "    trainers,\n",
    "    Tokenizer,\n",
    ")\n",
    "\n",
    "from datasets import Dataset\n",
    "from tqdm.auto import tqdm\n",
    "from transformers import PreTrainedTokenizerFast"
   ]
  },
  {
   "cell_type": "code",
   "execution_count": 3,
   "id": "b4cd17d2",
   "metadata": {
    "execution": {
     "iopub.execute_input": "2024-01-20T09:59:44.170118Z",
     "iopub.status.busy": "2024-01-20T09:59:44.169022Z",
     "iopub.status.idle": "2024-01-20T09:59:44.183361Z",
     "shell.execute_reply": "2024-01-20T09:59:44.182118Z"
    },
    "papermill": {
     "duration": 0.035025,
     "end_time": "2024-01-20T09:59:44.189700",
     "exception": false,
     "start_time": "2024-01-20T09:59:44.154675",
     "status": "completed"
    },
    "tags": []
   },
   "outputs": [],
   "source": [
    "random.seed(42)\n",
    "np.random.seed(42)\n",
    "debug=False\n",
    "pseudo=False\n",
    "LOWERCASE = False\n",
    "VOCAB_SIZE = 30522"
   ]
  },
  {
   "cell_type": "markdown",
   "id": "f1c10792",
   "metadata": {
    "papermill": {
     "duration": 0.010475,
     "end_time": "2024-01-20T09:59:44.216233",
     "exception": false,
     "start_time": "2024-01-20T09:59:44.205758",
     "status": "completed"
    },
    "tags": []
   },
   "source": [
    "# Importing files and Feature Engineering"
   ]
  },
  {
   "cell_type": "code",
   "execution_count": 4,
   "id": "d947da05",
   "metadata": {
    "execution": {
     "iopub.execute_input": "2024-01-20T09:59:44.238590Z",
     "iopub.status.busy": "2024-01-20T09:59:44.238208Z",
     "iopub.status.idle": "2024-01-20T09:59:44.243058Z",
     "shell.execute_reply": "2024-01-20T09:59:44.242060Z"
    },
    "papermill": {
     "duration": 0.018502,
     "end_time": "2024-01-20T09:59:44.245079",
     "exception": false,
     "start_time": "2024-01-20T09:59:44.226577",
     "status": "completed"
    },
    "tags": []
   },
   "outputs": [],
   "source": [
    "# def denoise_text(text):\n",
    "#     # Assuming 'tool' is defined elsewhere in your code\n",
    "#     corrected_text = tool.correct(text)\n",
    "#     return corrected_text\n",
    "\n",
    "# # Function to correct the 'text' column of a DataFrame or Series in parallel\n",
    "# def correct_df(input_data):\n",
    "#     if isinstance(input_data, pd.DataFrame):\n",
    "#         # If input is a DataFrame, correct the 'text' column\n",
    "#         with ProcessPoolExecutor() as executor:\n",
    "#             input_data['text'] = list(executor.map(denoise_text, input_data['text']))\n",
    "#     elif isinstance(input_data, pd.Series):\n",
    "#         # If input is a Series, correct the series\n",
    "#         with ProcessPoolExecutor() as executor:\n",
    "#             input_data = list(executor.map(denoise_text, input_data)) \n",
    "#     return input_data"
   ]
  },
  {
   "cell_type": "code",
   "execution_count": 5,
   "id": "8d24da29",
   "metadata": {
    "execution": {
     "iopub.execute_input": "2024-01-20T09:59:44.268274Z",
     "iopub.status.busy": "2024-01-20T09:59:44.267640Z",
     "iopub.status.idle": "2024-01-20T09:59:44.273989Z",
     "shell.execute_reply": "2024-01-20T09:59:44.272253Z"
    },
    "papermill": {
     "duration": 0.020862,
     "end_time": "2024-01-20T09:59:44.276502",
     "exception": false,
     "start_time": "2024-01-20T09:59:44.255640",
     "status": "completed"
    },
    "tags": []
   },
   "outputs": [],
   "source": [
    "# import spacy\n",
    "\n",
    "# import torch\n",
    "# from transformers import AutoTokenizer, AutoModelForSeq2SeqLM\n",
    "\n",
    "# from collections import Counter\n",
    "\n",
    "# from tqdm import tqdm\n",
    "\n",
    "\n",
    "# @torch.no_grad()\n",
    "# def clean_essay(text): \n",
    "#     doc = nlp(text)\n",
    "#     inputs = tokenizer([s.text for s in doc.sents], truncation=True, padding=True, return_tensors=\"pt\")\n",
    "#     outputs = deobfuscator.generate(inputs.input_ids.to(DEVICE), max_length=300)\n",
    "#     sents = tokenizer.batch_decode(outputs, skip_special_tokens=True)\n",
    "#     return \" \".join([s.strip() for s in sents])\n",
    "\n",
    "\n",
    "# MODEL_PATH = \"/kaggle/input/essay-gec/deobfuscator-v1\"\n",
    "# DEVICE = \"cuda:0\"\n",
    "\n",
    "# tokenizer = AutoTokenizer.from_pretrained(MODEL_PATH)\n",
    "# deobfuscator = AutoModelForSeq2SeqLM.from_pretrained(MODEL_PATH).to(DEVICE).eval()\n",
    "\n",
    "# nlp = spacy.load(\"en_core_web_sm\")"
   ]
  },
  {
   "cell_type": "code",
   "execution_count": 6,
   "id": "4ae350fc",
   "metadata": {
    "execution": {
     "iopub.execute_input": "2024-01-20T09:59:44.305424Z",
     "iopub.status.busy": "2024-01-20T09:59:44.304392Z",
     "iopub.status.idle": "2024-01-20T09:59:46.705675Z",
     "shell.execute_reply": "2024-01-20T09:59:46.704500Z"
    },
    "papermill": {
     "duration": 2.420236,
     "end_time": "2024-01-20T09:59:46.708198",
     "exception": false,
     "start_time": "2024-01-20T09:59:44.287962",
     "status": "completed"
    },
    "tags": []
   },
   "outputs": [
    {
     "data": {
      "text/plain": [
       "(prompt_name\n",
       " Seeking multiple opinions               5176\n",
       " Car-free cities                         4717\n",
       " Does the electoral college work?        4434\n",
       " Facial action coding system             3084\n",
       " Mandatory extracurricular activities    3077\n",
       " Driverless cars                         2250\n",
       " Exploring Venus                         2176\n",
       " Cell phones at school                   2119\n",
       " Community service                       2092\n",
       " \"A Cowboy Who Rode the Waves\"           1896\n",
       " The Face on Mars                        1893\n",
       " Phones and driving                      1583\n",
       " Name: count, dtype: int64,\n",
       " 34497)"
      ]
     },
     "execution_count": 6,
     "metadata": {},
     "output_type": "execute_result"
    }
   ],
   "source": [
    "# trainx = pd.read_csv('/kaggle/input/daigt-v2-trainessays-cleaned/daigt-v2-train-cleaned.csv')\n",
    "\n",
    "train1 = pd.read_csv(\"/kaggle/input/daigt-v2-train-dataset/train_v2_drcat_02.csv\", sep=',')\n",
    "exclude = ['Distance learning','Grades for extracurricular activities','Summer projects']\n",
    "train1 = train1[~train1.prompt_name.isin(exclude)]\n",
    "train1 = train1.drop_duplicates(subset=['text'])\n",
    "train1.reset_index(drop=True, inplace=True)\n",
    "train1.prompt_name.value_counts(), len(train1)"
   ]
  },
  {
   "cell_type": "code",
   "execution_count": 7,
   "id": "59938593",
   "metadata": {
    "execution": {
     "iopub.execute_input": "2024-01-20T09:59:46.731714Z",
     "iopub.status.busy": "2024-01-20T09:59:46.731327Z",
     "iopub.status.idle": "2024-01-20T09:59:46.736270Z",
     "shell.execute_reply": "2024-01-20T09:59:46.735272Z"
    },
    "papermill": {
     "duration": 0.019233,
     "end_time": "2024-01-20T09:59:46.738545",
     "exception": false,
     "start_time": "2024-01-20T09:59:46.719312",
     "status": "completed"
    },
    "tags": []
   },
   "outputs": [],
   "source": [
    "# ## credit @nbroad\n",
    "# not_persuade_df = trainx[trainx['source'] != 'persuade_corpus']\n",
    "# persuade_df = trainx[trainx['source'] == 'persuade_corpus']\n",
    "# sampled_persuade_df = persuade_df.sample(n=6000, random_state=42) \n",
    "# all_human = set(list(''.join(sampled_persuade_df.text.to_list())))\n",
    "# other = set(list(''.join(not_persuade_df.text.to_list())))\n",
    "# chars_to_remove = ''.join([x for x in other if x not in all_human])\n",
    "# print(chars_to_remove)\n",
    "\n",
    "# translation_table = str.maketrans('', '', chars_to_remove)\n",
    "# def remove_chars(s):\n",
    "#     return s.translate(translation_table)  \n",
    "\n",
    "# trainx['text'] = trainx['text'].str.replace('\\n', '') \n",
    "# trainx['text'] = trainx['text'].apply(remove_chars) "
   ]
  },
  {
   "cell_type": "code",
   "execution_count": 8,
   "id": "f1247b4c",
   "metadata": {
    "execution": {
     "iopub.execute_input": "2024-01-20T09:59:46.762011Z",
     "iopub.status.busy": "2024-01-20T09:59:46.761618Z",
     "iopub.status.idle": "2024-01-20T09:59:46.766491Z",
     "shell.execute_reply": "2024-01-20T09:59:46.765473Z"
    },
    "papermill": {
     "duration": 0.019366,
     "end_time": "2024-01-20T09:59:46.768726",
     "exception": false,
     "start_time": "2024-01-20T09:59:46.749360",
     "status": "completed"
    },
    "tags": []
   },
   "outputs": [],
   "source": [
    "# # train = pd.read_csv('/kaggle/input/daigt-v2-train-dataset/train_v2_drcat_02.csv')\n",
    "# # train1 = pd.read_csv('/kaggle/input/llm-ai-detect-dataset-5/augmented-typos-introduced-ds5.csv')  # 15% typos on label==0 alone\n",
    "# # # train1 = pd.read_csv(\"/kaggle/input/llm-ai-detect-dataset-with-typos-2/daigt-v2-test-dataset-with-12%-typos-introduced.csv\") #12% typos on both labels\n",
    "# train2 = pd.read_csv('/kaggle/input/llm-detect-ai-generated-text/train_essays.csv')\n",
    "# train2.rename(columns={'generated':'label'},inplace=True)  \n",
    "# trainz = pd.concat([trainx,train2])\n",
    "\n",
    "# trainz['text'] = trainz['text'].str.replace('\\n', '')  \n",
    "# train1 = trainz.copy()\n",
    "# train1.label.value_counts() "
   ]
  },
  {
   "cell_type": "code",
   "execution_count": 9,
   "id": "6c3a63a2",
   "metadata": {
    "execution": {
     "iopub.execute_input": "2024-01-20T09:59:46.791963Z",
     "iopub.status.busy": "2024-01-20T09:59:46.791575Z",
     "iopub.status.idle": "2024-01-20T09:59:46.804461Z",
     "shell.execute_reply": "2024-01-20T09:59:46.803536Z"
    },
    "papermill": {
     "duration": 0.027345,
     "end_time": "2024-01-20T09:59:46.806843",
     "exception": false,
     "start_time": "2024-01-20T09:59:46.779498",
     "status": "completed"
    },
    "tags": []
   },
   "outputs": [],
   "source": [
    "if debug:\n",
    "#     train1 = train1.sample(2000)\n",
    "    test = train1[train1.prompt_name=='Car-free cities']\n",
    "    train = train1.drop(test.index)\n",
    "else:\n",
    "    train = train1.copy()\n",
    "    test = pd.read_csv('/kaggle/input/llm-detect-ai-generated-text/test_essays.csv')\n",
    "#     test['text'] = test['text'].str.replace('\\n', '') \n",
    "#     test['text'] = test['text'].apply(remove_chars)  \n",
    "#     correct_df(test)"
   ]
  },
  {
   "cell_type": "code",
   "execution_count": 10,
   "id": "f0de62b4",
   "metadata": {
    "execution": {
     "iopub.execute_input": "2024-01-20T09:59:46.830090Z",
     "iopub.status.busy": "2024-01-20T09:59:46.829402Z",
     "iopub.status.idle": "2024-01-20T09:59:46.833473Z",
     "shell.execute_reply": "2024-01-20T09:59:46.832552Z"
    },
    "papermill": {
     "duration": 0.018213,
     "end_time": "2024-01-20T09:59:46.835704",
     "exception": false,
     "start_time": "2024-01-20T09:59:46.817491",
     "status": "completed"
    },
    "tags": []
   },
   "outputs": [],
   "source": [
    "\n",
    "# test = pd.read_csv('/kaggle/input/llm-detect-ai-generated-text/test_essays.csv')\n",
    "# test['text'] = test['text'].str.replace('\\n', '')  \n",
    "# correct_df(test)"
   ]
  },
  {
   "cell_type": "code",
   "execution_count": 11,
   "id": "6a3856b7",
   "metadata": {
    "execution": {
     "iopub.execute_input": "2024-01-20T09:59:46.858662Z",
     "iopub.status.busy": "2024-01-20T09:59:46.858255Z",
     "iopub.status.idle": "2024-01-20T09:59:46.862239Z",
     "shell.execute_reply": "2024-01-20T09:59:46.861451Z"
    },
    "papermill": {
     "duration": 0.017607,
     "end_time": "2024-01-20T09:59:46.864100",
     "exception": false,
     "start_time": "2024-01-20T09:59:46.846493",
     "status": "completed"
    },
    "tags": []
   },
   "outputs": [],
   "source": [
    "# clean_texts = []\n",
    "# for i, r in tqdm(test.iterrows(), total=len(test)):\n",
    "#     clean_texts.append(clean_essay(r.text))\n",
    "# test[\"text\"] = clean_texts\n",
    "\n",
    "# del deobfuscator\n",
    "# torch.cuda.empty_cache()"
   ]
  },
  {
   "cell_type": "code",
   "execution_count": 12,
   "id": "cc9d621e",
   "metadata": {
    "execution": {
     "iopub.execute_input": "2024-01-20T09:59:46.887489Z",
     "iopub.status.busy": "2024-01-20T09:59:46.886869Z",
     "iopub.status.idle": "2024-01-20T09:59:46.890854Z",
     "shell.execute_reply": "2024-01-20T09:59:46.889701Z"
    },
    "papermill": {
     "duration": 0.018334,
     "end_time": "2024-01-20T09:59:46.893233",
     "exception": false,
     "start_time": "2024-01-20T09:59:46.874899",
     "status": "completed"
    },
    "tags": []
   },
   "outputs": [],
   "source": [
    "# trainx = train.groupby('label').apply(lambda x: x.sample(1000, random_state=42)).reset_index(drop=True)\n",
    "# data = pd.DataFrame()\n",
    "# data['text'] = pd.concat([test['text'],trainx['text']])"
   ]
  },
  {
   "cell_type": "code",
   "execution_count": 13,
   "id": "b0591670",
   "metadata": {
    "execution": {
     "iopub.execute_input": "2024-01-20T09:59:46.916810Z",
     "iopub.status.busy": "2024-01-20T09:59:46.916451Z",
     "iopub.status.idle": "2024-01-20T10:01:24.950478Z",
     "shell.execute_reply": "2024-01-20T10:01:24.949197Z"
    },
    "papermill": {
     "duration": 98.048434,
     "end_time": "2024-01-20T10:01:24.952795",
     "exception": false,
     "start_time": "2024-01-20T09:59:46.904361",
     "status": "completed"
    },
    "tags": []
   },
   "outputs": [
    {
     "name": "stdout",
     "output_type": "stream",
     "text": [
      "\n",
      "\n",
      "\n"
     ]
    },
    {
     "data": {
      "application/vnd.jupyter.widget-view+json": {
       "model_id": "03808bf5849b403aa5704833736c1e71",
       "version_major": 2,
       "version_minor": 0
      },
      "text/plain": [
       "  0%|          | 0/3 [00:00<?, ?it/s]"
      ]
     },
     "metadata": {},
     "output_type": "display_data"
    },
    {
     "data": {
      "application/vnd.jupyter.widget-view+json": {
       "model_id": "f1af121e725a41bc876500e42f0ad4b9",
       "version_major": 2,
       "version_minor": 0
      },
      "text/plain": [
       "  0%|          | 0/34497 [00:00<?, ?it/s]"
      ]
     },
     "metadata": {},
     "output_type": "display_data"
    }
   ],
   "source": [
    "# Creating Byte-Pair Encoding tokenizer\n",
    "raw_tokenizer = Tokenizer(models.BPE(unk_token=\"[UNK]\"))\n",
    "\n",
    "\n",
    "# Adding normalization and pre_tokenizer\n",
    "raw_tokenizer.normalizer = normalizers.Sequence([normalizers.NFC()] + [normalizers.Lowercase()] if LOWERCASE else [])\n",
    "raw_tokenizer.pre_tokenizer = pre_tokenizers.ByteLevel()\n",
    "\n",
    "# Adding special tokens and creating trainer instance\n",
    "special_tokens = [\"[UNK]\", \"[PAD]\", \"[CLS]\", \"[SEP]\", \"[MASK]\"]\n",
    "trainer = trainers.BpeTrainer(vocab_size=VOCAB_SIZE, special_tokens=special_tokens) \n",
    "\n",
    "# Creating huggingface dataset object\n",
    "dataset = Dataset.from_pandas(test[['text']]) \n",
    "\n",
    "def train_corp_iter():\n",
    "    \"\"\"\n",
    "    A generator function for iterating over a dataset in chunks.\n",
    "    \"\"\"    \n",
    "    for i in range(0, len(dataset), 1000):\n",
    "        yield dataset[i : i + 1000][\"text\"]\n",
    "\n",
    "# Training from iterator REMEMBER it's training on test set...\n",
    "raw_tokenizer.train_from_iterator(train_corp_iter(), trainer=trainer)\n",
    "\n",
    "tokenizer = PreTrainedTokenizerFast(\n",
    "    tokenizer_object=raw_tokenizer,\n",
    "    unk_token=\"[UNK]\",\n",
    "    pad_token=\"[PAD]\",\n",
    "    cls_token=\"[CLS]\",\n",
    "    sep_token=\"[SEP]\",\n",
    "    mask_token=\"[MASK]\",\n",
    ")\n",
    "\n",
    "\n",
    "tokenized_texts_test = []\n",
    "\n",
    "# Tokenize test set with new tokenizer\n",
    "for text in tqdm(test['text'].tolist()):\n",
    "    tokenized_texts_test.append(tokenizer.tokenize(text))\n",
    "\n",
    "\n",
    "# Tokenize train set\n",
    "tokenized_texts_train = []\n",
    "\n",
    "for text in tqdm(train['text'].tolist()):\n",
    "    tokenized_texts_train.append(tokenizer.tokenize(text))"
   ]
  },
  {
   "cell_type": "markdown",
   "id": "f5cf18b2",
   "metadata": {
    "papermill": {
     "duration": 0.01127,
     "end_time": "2024-01-20T10:01:24.975796",
     "exception": false,
     "start_time": "2024-01-20T10:01:24.964526",
     "status": "completed"
    },
    "tags": []
   },
   "source": [
    "### Functions to vectorize and fit models"
   ]
  },
  {
   "cell_type": "code",
   "execution_count": 14,
   "id": "b3d8ed7b",
   "metadata": {
    "execution": {
     "iopub.execute_input": "2024-01-20T10:01:25.001822Z",
     "iopub.status.busy": "2024-01-20T10:01:25.001023Z",
     "iopub.status.idle": "2024-01-20T10:04:23.912897Z",
     "shell.execute_reply": "2024-01-20T10:04:23.911713Z"
    },
    "papermill": {
     "duration": 178.937932,
     "end_time": "2024-01-20T10:04:23.925529",
     "exception": false,
     "start_time": "2024-01-20T10:01:24.987597",
     "status": "completed"
    },
    "tags": []
   },
   "outputs": [
    {
     "data": {
      "text/plain": [
       "51"
      ]
     },
     "execution_count": 14,
     "metadata": {},
     "output_type": "execute_result"
    }
   ],
   "source": [
    "def dummy(text): \n",
    "    return text\n",
    "\n",
    "# Fitting TfidfVectoizer on test set\n",
    "\n",
    "vectorizer = TfidfVectorizer(ngram_range=(3, 5), lowercase=False, sublinear_tf=True, analyzer = 'word',\n",
    "    tokenizer = dummy,\n",
    "    preprocessor = dummy,\n",
    "    token_pattern = None, strip_accents='unicode')\n",
    "                            \n",
    "\n",
    "vectorizer.fit(tokenized_texts_test)\n",
    "\n",
    "# Getting vocab\n",
    "vocab = vectorizer.vocabulary_ \n",
    "\n",
    "# Here we fit our vectorizer on train set but this time we use vocabulary from test fit.\n",
    "vectorizer = TfidfVectorizer(ngram_range=(3, 5), lowercase=False, sublinear_tf=True, vocabulary=vocab,\n",
    "                            analyzer = 'word',\n",
    "                            tokenizer = dummy,\n",
    "                            preprocessor = dummy,\n",
    "                            token_pattern = None, strip_accents='unicode'\n",
    "                            )\n",
    "\n",
    "tf_train = vectorizer.fit_transform(tokenized_texts_train)\n",
    "tf_test = vectorizer.transform(tokenized_texts_test)\n",
    "\n",
    "y_train = train['label'].values\n",
    "\n",
    "del vectorizer\n",
    "gc.collect()"
   ]
  },
  {
   "cell_type": "code",
   "execution_count": 15,
   "id": "298b7261",
   "metadata": {
    "execution": {
     "iopub.execute_input": "2024-01-20T10:04:23.949759Z",
     "iopub.status.busy": "2024-01-20T10:04:23.949360Z",
     "iopub.status.idle": "2024-01-20T10:04:23.958874Z",
     "shell.execute_reply": "2024-01-20T10:04:23.957889Z"
    },
    "papermill": {
     "duration": 0.024229,
     "end_time": "2024-01-20T10:04:23.961086",
     "exception": false,
     "start_time": "2024-01-20T10:04:23.936857",
     "status": "completed"
    },
    "tags": []
   },
   "outputs": [],
   "source": [
    "from scipy.sparse import hstack, coo_matrix \n",
    "\n",
    "# Add the additional column to the sparse matrix\n",
    "X1 = hstack([tf_train, np.array(train.label).reshape(-1,1)],format='csr') #.tocsc()"
   ]
  },
  {
   "cell_type": "code",
   "execution_count": 16,
   "id": "747c3a9d",
   "metadata": {
    "execution": {
     "iopub.execute_input": "2024-01-20T10:04:23.987224Z",
     "iopub.status.busy": "2024-01-20T10:04:23.986210Z",
     "iopub.status.idle": "2024-01-20T10:04:24.012990Z",
     "shell.execute_reply": "2024-01-20T10:04:24.011843Z"
    },
    "papermill": {
     "duration": 0.04281,
     "end_time": "2024-01-20T10:04:24.015425",
     "exception": false,
     "start_time": "2024-01-20T10:04:23.972615",
     "status": "completed"
    },
    "tags": []
   },
   "outputs": [
    {
     "name": "stdout",
     "output_type": "stream",
     "text": [
      "original number of rows  34497\n",
      "number of rows after outlier removal using SGDsvm 34497\n"
     ]
    }
   ],
   "source": [
    "svm = SGDOneClassSVM(nu=0.01, random_state=42)\n",
    "iso = IsolationForest(random_state=42,contamination=0.05)\n",
    "lo = LocalOutlierFactor(n_neighbors=10, contamination=0.05)\n",
    "# lo = EllipticEnvelope(random_state=42)   \n",
    "\n",
    "pred = svm.fit_predict(X1) #sdf.drop(['label'],axis=1))\n",
    "mask = pred != -1\n",
    "data = X1[mask, :] #.reset_index(drop=True)\n",
    "print(\"original number of rows \",X1.shape[0]) \n",
    "print('number of rows after outlier removal using SGDsvm',data.shape[0])\n",
    "\n",
    "# pred = iso.fit_predict(X1)\n",
    "# mask = pred != -1\n",
    "# data1 = X1[mask, :] #.reset_index(drop=True) \n",
    "# print('number of rows after outlier removal using isoforest',data1.shape[0])\n",
    "\n",
    "# pred = lo.fit_predict(data)\n",
    "# mask = pred != -1\n",
    "# data2 = data1[mask, :] #.reset_index(drop=True) \n",
    "# print('number of rows after outlier removal using localoutlier',data2.shape[0])"
   ]
  },
  {
   "cell_type": "code",
   "execution_count": 17,
   "id": "6a13799e",
   "metadata": {
    "execution": {
     "iopub.execute_input": "2024-01-20T10:04:24.040325Z",
     "iopub.status.busy": "2024-01-20T10:04:24.039900Z",
     "iopub.status.idle": "2024-01-20T10:04:24.046531Z",
     "shell.execute_reply": "2024-01-20T10:04:24.045780Z"
    },
    "papermill": {
     "duration": 0.021332,
     "end_time": "2024-01-20T10:04:24.048556",
     "exception": false,
     "start_time": "2024-01-20T10:04:24.027224",
     "status": "completed"
    },
    "tags": []
   },
   "outputs": [],
   "source": [
    "y_train = data[:,-1]\n",
    "data = data[:, :-1]"
   ]
  },
  {
   "cell_type": "code",
   "execution_count": 18,
   "id": "2d52c3e9",
   "metadata": {
    "execution": {
     "iopub.execute_input": "2024-01-20T10:04:24.073339Z",
     "iopub.status.busy": "2024-01-20T10:04:24.072716Z",
     "iopub.status.idle": "2024-01-20T10:04:24.091048Z",
     "shell.execute_reply": "2024-01-20T10:04:24.090190Z"
    },
    "papermill": {
     "duration": 0.033552,
     "end_time": "2024-01-20T10:04:24.093377",
     "exception": false,
     "start_time": "2024-01-20T10:04:24.059825",
     "status": "completed"
    },
    "tags": []
   },
   "outputs": [],
   "source": [
    "sub = pd.read_csv('/kaggle/input/llm-detect-ai-generated-text/sample_submission.csv')\n",
    "if len(test.text.values) <= 5:\n",
    "    sub.to_csv('submission.csv', index=False)\n",
    "else:\n",
    "    \n",
    "    clf = MultinomialNB(alpha=0.02)\n",
    "#     clf2 = MultinomialNB(alpha=0.01)\n",
    "    sgd_model = SGDClassifier(max_iter=10000, tol=1e-4, loss=\"modified_huber\") \n",
    "    p6={'n_iter': 2000,'verbose': -1,'objective': 'binary','metric': 'auc','learning_rate': 0.05073909898961407, 'colsample_bytree': 0.726023996436955, 'colsample_bynode': 0.5803681307354022, 'lambda_l1': 8.562963348932286, 'lambda_l2': 4.893256185259296, 'min_data_in_leaf': 115, 'max_depth': 23, 'max_bin': 898}\n",
    "    lgb=LGBMClassifier(**p6)\n",
    "     \n",
    "    weights = [0.07,0.31,0.62]\n",
    " \n",
    "    ensemble = VotingClassifier(estimators=[('mnb',clf),\n",
    "                                            ('sgd', sgd_model),\n",
    "                                            ('lgb',lgb), \n",
    "#                                             ('cat', cat)\n",
    "                                           ],\n",
    "                                weights=weights, voting='soft', n_jobs=-1)\n",
    "    ensemble.fit(data, y_train.toarray()) \n",
    "    final_preds = ensemble.predict_proba(tf_test)[:,1]\n",
    "    if not debug:\n",
    "        sub['generated'] = final_preds\n",
    "        sub.to_csv('submission.csv', index=False)\n",
    "        sub"
   ]
  },
  {
   "cell_type": "code",
   "execution_count": 19,
   "id": "ea048ff1",
   "metadata": {
    "execution": {
     "iopub.execute_input": "2024-01-20T10:04:24.118318Z",
     "iopub.status.busy": "2024-01-20T10:04:24.117618Z",
     "iopub.status.idle": "2024-01-20T10:04:24.122424Z",
     "shell.execute_reply": "2024-01-20T10:04:24.121640Z"
    },
    "papermill": {
     "duration": 0.019805,
     "end_time": "2024-01-20T10:04:24.124529",
     "exception": false,
     "start_time": "2024-01-20T10:04:24.104724",
     "status": "completed"
    },
    "tags": []
   },
   "outputs": [],
   "source": [
    "# clf = MultinomialNB(alpha=0.02)\n",
    "# clf2 = MultinomialNB(alpha=0.01)\n",
    "# sgd_model = SGDClassifier(max_iter=10000, tol=1e-4, loss=\"modified_huber\") \n",
    "# p6={'n_iter': 3000,'verbose': -1,'objective': 'l2','learning_rate': 0.005670084478292278, 'colsample_bytree': 0.6440444070196796, 'colsample_bynode': 0.637635804565811, 'lambda_l1': 6.29090474401462, 'lambda_l2': 6.775341543233317, 'min_data_in_leaf': 95, 'max_depth': 26, 'max_bin': 630}\n",
    "\n",
    "\n",
    "# lgb=lgb.LGBMClassifier(**p6)\n",
    "\n",
    "# ensemble = VotingClassifier(estimators=[('mnb',clf),('sgd', sgd_model),('lgb',lgb)],\n",
    "#                             weights=[0.25,0.25,0.5], voting='soft', n_jobs=-1)\n",
    "# ensemble.fit(data, y_train.toarray())"
   ]
  },
  {
   "cell_type": "code",
   "execution_count": 20,
   "id": "85b32fca",
   "metadata": {
    "execution": {
     "iopub.execute_input": "2024-01-20T10:04:24.149433Z",
     "iopub.status.busy": "2024-01-20T10:04:24.148806Z",
     "iopub.status.idle": "2024-01-20T10:04:24.153875Z",
     "shell.execute_reply": "2024-01-20T10:04:24.153026Z"
    },
    "papermill": {
     "duration": 0.019967,
     "end_time": "2024-01-20T10:04:24.155926",
     "exception": false,
     "start_time": "2024-01-20T10:04:24.135959",
     "status": "completed"
    },
    "tags": []
   },
   "outputs": [],
   "source": [
    "\n",
    "# mnb = MultinomialNB(alpha=0.02)\n",
    "     \n",
    "# sgd_model1 = SGDClassifier(max_iter=10000, tol=1e-4,loss=\"modified_huber\", random_state=42) \n",
    "# sgd_model2 = SGDClassifier(max_iter=10000, tol=3e-3,loss=\"modified_huber\",  class_weight=\"balanced\",random_state=42) \n",
    "# sgd_model3 = SGDClassifier(max_iter=15000, tol=5e-3,loss=\"modified_huber\", early_stopping=True,random_state=42) \n",
    "\n",
    "# ensemble = VotingClassifier(estimators=[\n",
    "                                         \n",
    "#                                         ('mnb', mnb),\n",
    "#                                         ('sgd1', sgd_model1),\n",
    "#                                         ('sgd2', sgd_model2),\n",
    "#                                         ('sgd3', sgd_model3),\n",
    "#                                        ],\n",
    "#                             weights=[0.1, 0.3,0.3,0.3],\n",
    "#                             voting='soft'\n",
    "#                            )\n",
    " \n",
    "# ensemble.fit(data, y_train.toarray())"
   ]
  },
  {
   "cell_type": "code",
   "execution_count": 21,
   "id": "1228eaff",
   "metadata": {
    "execution": {
     "iopub.execute_input": "2024-01-20T10:04:24.180882Z",
     "iopub.status.busy": "2024-01-20T10:04:24.180234Z",
     "iopub.status.idle": "2024-01-20T10:04:24.184943Z",
     "shell.execute_reply": "2024-01-20T10:04:24.183884Z"
    },
    "papermill": {
     "duration": 0.019843,
     "end_time": "2024-01-20T10:04:24.187217",
     "exception": false,
     "start_time": "2024-01-20T10:04:24.167374",
     "status": "completed"
    },
    "tags": []
   },
   "outputs": [],
   "source": [
    "# preds_test = ensemble.predict_proba(tf_test)[:,1]"
   ]
  },
  {
   "cell_type": "code",
   "execution_count": 22,
   "id": "759e0688",
   "metadata": {
    "execution": {
     "iopub.execute_input": "2024-01-20T10:04:24.212531Z",
     "iopub.status.busy": "2024-01-20T10:04:24.212142Z",
     "iopub.status.idle": "2024-01-20T10:04:24.216237Z",
     "shell.execute_reply": "2024-01-20T10:04:24.215183Z"
    },
    "papermill": {
     "duration": 0.019547,
     "end_time": "2024-01-20T10:04:24.218307",
     "exception": false,
     "start_time": "2024-01-20T10:04:24.198760",
     "status": "completed"
    },
    "tags": []
   },
   "outputs": [],
   "source": [
    "# preds_test"
   ]
  },
  {
   "cell_type": "markdown",
   "id": "56993904",
   "metadata": {
    "papermill": {
     "duration": 0.012473,
     "end_time": "2024-01-20T10:04:24.242523",
     "exception": false,
     "start_time": "2024-01-20T10:04:24.230050",
     "status": "completed"
    },
    "tags": []
   },
   "source": [
    "## Submit"
   ]
  },
  {
   "cell_type": "code",
   "execution_count": 23,
   "id": "0c261d78",
   "metadata": {
    "execution": {
     "iopub.execute_input": "2024-01-20T10:04:24.266892Z",
     "iopub.status.busy": "2024-01-20T10:04:24.266454Z",
     "iopub.status.idle": "2024-01-20T10:04:24.271021Z",
     "shell.execute_reply": "2024-01-20T10:04:24.270017Z"
    },
    "papermill": {
     "duration": 0.019459,
     "end_time": "2024-01-20T10:04:24.273242",
     "exception": false,
     "start_time": "2024-01-20T10:04:24.253783",
     "status": "completed"
    },
    "tags": []
   },
   "outputs": [],
   "source": [
    "# if debug==False:\n",
    "#     pd.DataFrame({'id':test[\"id\"],'generated':preds_test}).to_csv('submission.csv', index=False)\n",
    "#     pd.read_csv('/kaggle/working/submission.csv')\n",
    "#     sub=pd.read_csv('/kaggle/working/submission.csv')\n",
    "#     print(sub)"
   ]
  },
  {
   "cell_type": "code",
   "execution_count": null,
   "id": "fb32c04d",
   "metadata": {
    "papermill": {
     "duration": 0.011268,
     "end_time": "2024-01-20T10:04:24.295991",
     "exception": false,
     "start_time": "2024-01-20T10:04:24.284723",
     "status": "completed"
    },
    "tags": []
   },
   "outputs": [],
   "source": []
  }
 ],
 "metadata": {
  "kaggle": {
   "accelerator": "none",
   "dataSources": [
    {
     "databundleVersionId": 6888007,
     "sourceId": 61542,
     "sourceType": "competition"
    },
    {
     "datasetId": 3945154,
     "sourceId": 6865136,
     "sourceType": "datasetVersion"
    },
    {
     "datasetId": 4005256,
     "sourceId": 6977472,
     "sourceType": "datasetVersion"
    },
    {
     "datasetId": 4035516,
     "sourceId": 7018354,
     "sourceType": "datasetVersion"
    },
    {
     "datasetId": 4064898,
     "sourceId": 7060860,
     "sourceType": "datasetVersion"
    },
    {
     "datasetId": 4070722,
     "sourceId": 7069044,
     "sourceType": "datasetVersion"
    },
    {
     "datasetId": 4091539,
     "sourceId": 7098487,
     "sourceType": "datasetVersion"
    },
    {
     "sourceId": 152459920,
     "sourceType": "kernelVersion"
    }
   ],
   "dockerImageVersionId": 30635,
   "isGpuEnabled": false,
   "isInternetEnabled": false,
   "language": "python",
   "sourceType": "notebook"
  },
  "kernelspec": {
   "display_name": "Python 3",
   "language": "python",
   "name": "python3"
  },
  "language_info": {
   "codemirror_mode": {
    "name": "ipython",
    "version": 3
   },
   "file_extension": ".py",
   "mimetype": "text/x-python",
   "name": "python",
   "nbconvert_exporter": "python",
   "pygments_lexer": "ipython3",
   "version": "3.10.12"
  },
  "papermill": {
   "default_parameters": {},
   "duration": 295.832909,
   "end_time": "2024-01-20T10:04:27.129976",
   "environment_variables": {},
   "exception": null,
   "input_path": "__notebook__.ipynb",
   "output_path": "__notebook__.ipynb",
   "parameters": {},
   "start_time": "2024-01-20T09:59:31.297067",
   "version": "2.4.0"
  },
  "widgets": {
   "application/vnd.jupyter.widget-state+json": {
    "state": {
     "03808bf5849b403aa5704833736c1e71": {
      "model_module": "@jupyter-widgets/controls",
      "model_module_version": "1.5.0",
      "model_name": "HBoxModel",
      "state": {
       "_dom_classes": [],
       "_model_module": "@jupyter-widgets/controls",
       "_model_module_version": "1.5.0",
       "_model_name": "HBoxModel",
       "_view_count": null,
       "_view_module": "@jupyter-widgets/controls",
       "_view_module_version": "1.5.0",
       "_view_name": "HBoxView",
       "box_style": "",
       "children": [
        "IPY_MODEL_c6ce3c9287424e88bd6c9f544b92421f",
        "IPY_MODEL_26c21afef0d64a39b1b5f2665fc19b0c",
        "IPY_MODEL_f37a3d8631ff4ec99fb4fc36c7d7c21f"
       ],
       "layout": "IPY_MODEL_36f957fc31924158b3a3e8e0ce32a6da"
      }
     },
     "0d52526594ff4c5d9f2de6161fcbf97f": {
      "model_module": "@jupyter-widgets/controls",
      "model_module_version": "1.5.0",
      "model_name": "ProgressStyleModel",
      "state": {
       "_model_module": "@jupyter-widgets/controls",
       "_model_module_version": "1.5.0",
       "_model_name": "ProgressStyleModel",
       "_view_count": null,
       "_view_module": "@jupyter-widgets/base",
       "_view_module_version": "1.2.0",
       "_view_name": "StyleView",
       "bar_color": null,
       "description_width": ""
      }
     },
     "11ab0bb676104d7d878231d36ac6e3f7": {
      "model_module": "@jupyter-widgets/controls",
      "model_module_version": "1.5.0",
      "model_name": "DescriptionStyleModel",
      "state": {
       "_model_module": "@jupyter-widgets/controls",
       "_model_module_version": "1.5.0",
       "_model_name": "DescriptionStyleModel",
       "_view_count": null,
       "_view_module": "@jupyter-widgets/base",
       "_view_module_version": "1.2.0",
       "_view_name": "StyleView",
       "description_width": ""
      }
     },
     "26b2f9543a07464d8027057bcfacd4b5": {
      "model_module": "@jupyter-widgets/controls",
      "model_module_version": "1.5.0",
      "model_name": "HTMLModel",
      "state": {
       "_dom_classes": [],
       "_model_module": "@jupyter-widgets/controls",
       "_model_module_version": "1.5.0",
       "_model_name": "HTMLModel",
       "_view_count": null,
       "_view_module": "@jupyter-widgets/controls",
       "_view_module_version": "1.5.0",
       "_view_name": "HTMLView",
       "description": "",
       "description_tooltip": null,
       "layout": "IPY_MODEL_931556f349a5453c9e4f79d9e06d71a7",
       "placeholder": "​",
       "style": "IPY_MODEL_11ab0bb676104d7d878231d36ac6e3f7",
       "value": " 34497/34497 [01:37&lt;00:00, 351.14it/s]"
      }
     },
     "26c21afef0d64a39b1b5f2665fc19b0c": {
      "model_module": "@jupyter-widgets/controls",
      "model_module_version": "1.5.0",
      "model_name": "FloatProgressModel",
      "state": {
       "_dom_classes": [],
       "_model_module": "@jupyter-widgets/controls",
       "_model_module_version": "1.5.0",
       "_model_name": "FloatProgressModel",
       "_view_count": null,
       "_view_module": "@jupyter-widgets/controls",
       "_view_module_version": "1.5.0",
       "_view_name": "ProgressView",
       "bar_style": "success",
       "description": "",
       "description_tooltip": null,
       "layout": "IPY_MODEL_4e5b458f91864350938edc9786236234",
       "max": 3.0,
       "min": 0.0,
       "orientation": "horizontal",
       "style": "IPY_MODEL_0d52526594ff4c5d9f2de6161fcbf97f",
       "value": 3.0
      }
     },
     "2a109f7cb52344b991ba4d6e94066177": {
      "model_module": "@jupyter-widgets/controls",
      "model_module_version": "1.5.0",
      "model_name": "ProgressStyleModel",
      "state": {
       "_model_module": "@jupyter-widgets/controls",
       "_model_module_version": "1.5.0",
       "_model_name": "ProgressStyleModel",
       "_view_count": null,
       "_view_module": "@jupyter-widgets/base",
       "_view_module_version": "1.2.0",
       "_view_name": "StyleView",
       "bar_color": null,
       "description_width": ""
      }
     },
     "36f957fc31924158b3a3e8e0ce32a6da": {
      "model_module": "@jupyter-widgets/base",
      "model_module_version": "1.2.0",
      "model_name": "LayoutModel",
      "state": {
       "_model_module": "@jupyter-widgets/base",
       "_model_module_version": "1.2.0",
       "_model_name": "LayoutModel",
       "_view_count": null,
       "_view_module": "@jupyter-widgets/base",
       "_view_module_version": "1.2.0",
       "_view_name": "LayoutView",
       "align_content": null,
       "align_items": null,
       "align_self": null,
       "border": null,
       "bottom": null,
       "display": null,
       "flex": null,
       "flex_flow": null,
       "grid_area": null,
       "grid_auto_columns": null,
       "grid_auto_flow": null,
       "grid_auto_rows": null,
       "grid_column": null,
       "grid_gap": null,
       "grid_row": null,
       "grid_template_areas": null,
       "grid_template_columns": null,
       "grid_template_rows": null,
       "height": null,
       "justify_content": null,
       "justify_items": null,
       "left": null,
       "margin": null,
       "max_height": null,
       "max_width": null,
       "min_height": null,
       "min_width": null,
       "object_fit": null,
       "object_position": null,
       "order": null,
       "overflow": null,
       "overflow_x": null,
       "overflow_y": null,
       "padding": null,
       "right": null,
       "top": null,
       "visibility": null,
       "width": null
      }
     },
     "49dfcf5ac0c34ad8a45ea80ed30da50b": {
      "model_module": "@jupyter-widgets/controls",
      "model_module_version": "1.5.0",
      "model_name": "HTMLModel",
      "state": {
       "_dom_classes": [],
       "_model_module": "@jupyter-widgets/controls",
       "_model_module_version": "1.5.0",
       "_model_name": "HTMLModel",
       "_view_count": null,
       "_view_module": "@jupyter-widgets/controls",
       "_view_module_version": "1.5.0",
       "_view_name": "HTMLView",
       "description": "",
       "description_tooltip": null,
       "layout": "IPY_MODEL_c3211e2da2ea4f15bcf33f218a1cc82b",
       "placeholder": "​",
       "style": "IPY_MODEL_5532aaeefe6e43b5979f54a4cc406a22",
       "value": "100%"
      }
     },
     "4e5b458f91864350938edc9786236234": {
      "model_module": "@jupyter-widgets/base",
      "model_module_version": "1.2.0",
      "model_name": "LayoutModel",
      "state": {
       "_model_module": "@jupyter-widgets/base",
       "_model_module_version": "1.2.0",
       "_model_name": "LayoutModel",
       "_view_count": null,
       "_view_module": "@jupyter-widgets/base",
       "_view_module_version": "1.2.0",
       "_view_name": "LayoutView",
       "align_content": null,
       "align_items": null,
       "align_self": null,
       "border": null,
       "bottom": null,
       "display": null,
       "flex": null,
       "flex_flow": null,
       "grid_area": null,
       "grid_auto_columns": null,
       "grid_auto_flow": null,
       "grid_auto_rows": null,
       "grid_column": null,
       "grid_gap": null,
       "grid_row": null,
       "grid_template_areas": null,
       "grid_template_columns": null,
       "grid_template_rows": null,
       "height": null,
       "justify_content": null,
       "justify_items": null,
       "left": null,
       "margin": null,
       "max_height": null,
       "max_width": null,
       "min_height": null,
       "min_width": null,
       "object_fit": null,
       "object_position": null,
       "order": null,
       "overflow": null,
       "overflow_x": null,
       "overflow_y": null,
       "padding": null,
       "right": null,
       "top": null,
       "visibility": null,
       "width": null
      }
     },
     "516f033405b642e890ca711d43b1fdcb": {
      "model_module": "@jupyter-widgets/base",
      "model_module_version": "1.2.0",
      "model_name": "LayoutModel",
      "state": {
       "_model_module": "@jupyter-widgets/base",
       "_model_module_version": "1.2.0",
       "_model_name": "LayoutModel",
       "_view_count": null,
       "_view_module": "@jupyter-widgets/base",
       "_view_module_version": "1.2.0",
       "_view_name": "LayoutView",
       "align_content": null,
       "align_items": null,
       "align_self": null,
       "border": null,
       "bottom": null,
       "display": null,
       "flex": null,
       "flex_flow": null,
       "grid_area": null,
       "grid_auto_columns": null,
       "grid_auto_flow": null,
       "grid_auto_rows": null,
       "grid_column": null,
       "grid_gap": null,
       "grid_row": null,
       "grid_template_areas": null,
       "grid_template_columns": null,
       "grid_template_rows": null,
       "height": null,
       "justify_content": null,
       "justify_items": null,
       "left": null,
       "margin": null,
       "max_height": null,
       "max_width": null,
       "min_height": null,
       "min_width": null,
       "object_fit": null,
       "object_position": null,
       "order": null,
       "overflow": null,
       "overflow_x": null,
       "overflow_y": null,
       "padding": null,
       "right": null,
       "top": null,
       "visibility": null,
       "width": null
      }
     },
     "54f103645ffb4738a492cfaceeb14926": {
      "model_module": "@jupyter-widgets/controls",
      "model_module_version": "1.5.0",
      "model_name": "DescriptionStyleModel",
      "state": {
       "_model_module": "@jupyter-widgets/controls",
       "_model_module_version": "1.5.0",
       "_model_name": "DescriptionStyleModel",
       "_view_count": null,
       "_view_module": "@jupyter-widgets/base",
       "_view_module_version": "1.2.0",
       "_view_name": "StyleView",
       "description_width": ""
      }
     },
     "5532aaeefe6e43b5979f54a4cc406a22": {
      "model_module": "@jupyter-widgets/controls",
      "model_module_version": "1.5.0",
      "model_name": "DescriptionStyleModel",
      "state": {
       "_model_module": "@jupyter-widgets/controls",
       "_model_module_version": "1.5.0",
       "_model_name": "DescriptionStyleModel",
       "_view_count": null,
       "_view_module": "@jupyter-widgets/base",
       "_view_module_version": "1.2.0",
       "_view_name": "StyleView",
       "description_width": ""
      }
     },
     "7c91b0e2613b49b0bc7416a4a34fa7c8": {
      "model_module": "@jupyter-widgets/base",
      "model_module_version": "1.2.0",
      "model_name": "LayoutModel",
      "state": {
       "_model_module": "@jupyter-widgets/base",
       "_model_module_version": "1.2.0",
       "_model_name": "LayoutModel",
       "_view_count": null,
       "_view_module": "@jupyter-widgets/base",
       "_view_module_version": "1.2.0",
       "_view_name": "LayoutView",
       "align_content": null,
       "align_items": null,
       "align_self": null,
       "border": null,
       "bottom": null,
       "display": null,
       "flex": null,
       "flex_flow": null,
       "grid_area": null,
       "grid_auto_columns": null,
       "grid_auto_flow": null,
       "grid_auto_rows": null,
       "grid_column": null,
       "grid_gap": null,
       "grid_row": null,
       "grid_template_areas": null,
       "grid_template_columns": null,
       "grid_template_rows": null,
       "height": null,
       "justify_content": null,
       "justify_items": null,
       "left": null,
       "margin": null,
       "max_height": null,
       "max_width": null,
       "min_height": null,
       "min_width": null,
       "object_fit": null,
       "object_position": null,
       "order": null,
       "overflow": null,
       "overflow_x": null,
       "overflow_y": null,
       "padding": null,
       "right": null,
       "top": null,
       "visibility": null,
       "width": null
      }
     },
     "8c78e27906424636b22ad82417ef5bf0": {
      "model_module": "@jupyter-widgets/controls",
      "model_module_version": "1.5.0",
      "model_name": "FloatProgressModel",
      "state": {
       "_dom_classes": [],
       "_model_module": "@jupyter-widgets/controls",
       "_model_module_version": "1.5.0",
       "_model_name": "FloatProgressModel",
       "_view_count": null,
       "_view_module": "@jupyter-widgets/controls",
       "_view_module_version": "1.5.0",
       "_view_name": "ProgressView",
       "bar_style": "success",
       "description": "",
       "description_tooltip": null,
       "layout": "IPY_MODEL_d14717b3574e4d0fb1002fcdba5d4b7a",
       "max": 34497.0,
       "min": 0.0,
       "orientation": "horizontal",
       "style": "IPY_MODEL_2a109f7cb52344b991ba4d6e94066177",
       "value": 34497.0
      }
     },
     "931556f349a5453c9e4f79d9e06d71a7": {
      "model_module": "@jupyter-widgets/base",
      "model_module_version": "1.2.0",
      "model_name": "LayoutModel",
      "state": {
       "_model_module": "@jupyter-widgets/base",
       "_model_module_version": "1.2.0",
       "_model_name": "LayoutModel",
       "_view_count": null,
       "_view_module": "@jupyter-widgets/base",
       "_view_module_version": "1.2.0",
       "_view_name": "LayoutView",
       "align_content": null,
       "align_items": null,
       "align_self": null,
       "border": null,
       "bottom": null,
       "display": null,
       "flex": null,
       "flex_flow": null,
       "grid_area": null,
       "grid_auto_columns": null,
       "grid_auto_flow": null,
       "grid_auto_rows": null,
       "grid_column": null,
       "grid_gap": null,
       "grid_row": null,
       "grid_template_areas": null,
       "grid_template_columns": null,
       "grid_template_rows": null,
       "height": null,
       "justify_content": null,
       "justify_items": null,
       "left": null,
       "margin": null,
       "max_height": null,
       "max_width": null,
       "min_height": null,
       "min_width": null,
       "object_fit": null,
       "object_position": null,
       "order": null,
       "overflow": null,
       "overflow_x": null,
       "overflow_y": null,
       "padding": null,
       "right": null,
       "top": null,
       "visibility": null,
       "width": null
      }
     },
     "c3211e2da2ea4f15bcf33f218a1cc82b": {
      "model_module": "@jupyter-widgets/base",
      "model_module_version": "1.2.0",
      "model_name": "LayoutModel",
      "state": {
       "_model_module": "@jupyter-widgets/base",
       "_model_module_version": "1.2.0",
       "_model_name": "LayoutModel",
       "_view_count": null,
       "_view_module": "@jupyter-widgets/base",
       "_view_module_version": "1.2.0",
       "_view_name": "LayoutView",
       "align_content": null,
       "align_items": null,
       "align_self": null,
       "border": null,
       "bottom": null,
       "display": null,
       "flex": null,
       "flex_flow": null,
       "grid_area": null,
       "grid_auto_columns": null,
       "grid_auto_flow": null,
       "grid_auto_rows": null,
       "grid_column": null,
       "grid_gap": null,
       "grid_row": null,
       "grid_template_areas": null,
       "grid_template_columns": null,
       "grid_template_rows": null,
       "height": null,
       "justify_content": null,
       "justify_items": null,
       "left": null,
       "margin": null,
       "max_height": null,
       "max_width": null,
       "min_height": null,
       "min_width": null,
       "object_fit": null,
       "object_position": null,
       "order": null,
       "overflow": null,
       "overflow_x": null,
       "overflow_y": null,
       "padding": null,
       "right": null,
       "top": null,
       "visibility": null,
       "width": null
      }
     },
     "c561fcb85d9d4922813bee5f14916553": {
      "model_module": "@jupyter-widgets/base",
      "model_module_version": "1.2.0",
      "model_name": "LayoutModel",
      "state": {
       "_model_module": "@jupyter-widgets/base",
       "_model_module_version": "1.2.0",
       "_model_name": "LayoutModel",
       "_view_count": null,
       "_view_module": "@jupyter-widgets/base",
       "_view_module_version": "1.2.0",
       "_view_name": "LayoutView",
       "align_content": null,
       "align_items": null,
       "align_self": null,
       "border": null,
       "bottom": null,
       "display": null,
       "flex": null,
       "flex_flow": null,
       "grid_area": null,
       "grid_auto_columns": null,
       "grid_auto_flow": null,
       "grid_auto_rows": null,
       "grid_column": null,
       "grid_gap": null,
       "grid_row": null,
       "grid_template_areas": null,
       "grid_template_columns": null,
       "grid_template_rows": null,
       "height": null,
       "justify_content": null,
       "justify_items": null,
       "left": null,
       "margin": null,
       "max_height": null,
       "max_width": null,
       "min_height": null,
       "min_width": null,
       "object_fit": null,
       "object_position": null,
       "order": null,
       "overflow": null,
       "overflow_x": null,
       "overflow_y": null,
       "padding": null,
       "right": null,
       "top": null,
       "visibility": null,
       "width": null
      }
     },
     "c6ce3c9287424e88bd6c9f544b92421f": {
      "model_module": "@jupyter-widgets/controls",
      "model_module_version": "1.5.0",
      "model_name": "HTMLModel",
      "state": {
       "_dom_classes": [],
       "_model_module": "@jupyter-widgets/controls",
       "_model_module_version": "1.5.0",
       "_model_name": "HTMLModel",
       "_view_count": null,
       "_view_module": "@jupyter-widgets/controls",
       "_view_module_version": "1.5.0",
       "_view_name": "HTMLView",
       "description": "",
       "description_tooltip": null,
       "layout": "IPY_MODEL_516f033405b642e890ca711d43b1fdcb",
       "placeholder": "​",
       "style": "IPY_MODEL_54f103645ffb4738a492cfaceeb14926",
       "value": "100%"
      }
     },
     "d14717b3574e4d0fb1002fcdba5d4b7a": {
      "model_module": "@jupyter-widgets/base",
      "model_module_version": "1.2.0",
      "model_name": "LayoutModel",
      "state": {
       "_model_module": "@jupyter-widgets/base",
       "_model_module_version": "1.2.0",
       "_model_name": "LayoutModel",
       "_view_count": null,
       "_view_module": "@jupyter-widgets/base",
       "_view_module_version": "1.2.0",
       "_view_name": "LayoutView",
       "align_content": null,
       "align_items": null,
       "align_self": null,
       "border": null,
       "bottom": null,
       "display": null,
       "flex": null,
       "flex_flow": null,
       "grid_area": null,
       "grid_auto_columns": null,
       "grid_auto_flow": null,
       "grid_auto_rows": null,
       "grid_column": null,
       "grid_gap": null,
       "grid_row": null,
       "grid_template_areas": null,
       "grid_template_columns": null,
       "grid_template_rows": null,
       "height": null,
       "justify_content": null,
       "justify_items": null,
       "left": null,
       "margin": null,
       "max_height": null,
       "max_width": null,
       "min_height": null,
       "min_width": null,
       "object_fit": null,
       "object_position": null,
       "order": null,
       "overflow": null,
       "overflow_x": null,
       "overflow_y": null,
       "padding": null,
       "right": null,
       "top": null,
       "visibility": null,
       "width": null
      }
     },
     "e7a214e1b62f43f085dbb887127f492d": {
      "model_module": "@jupyter-widgets/controls",
      "model_module_version": "1.5.0",
      "model_name": "DescriptionStyleModel",
      "state": {
       "_model_module": "@jupyter-widgets/controls",
       "_model_module_version": "1.5.0",
       "_model_name": "DescriptionStyleModel",
       "_view_count": null,
       "_view_module": "@jupyter-widgets/base",
       "_view_module_version": "1.2.0",
       "_view_name": "StyleView",
       "description_width": ""
      }
     },
     "f1af121e725a41bc876500e42f0ad4b9": {
      "model_module": "@jupyter-widgets/controls",
      "model_module_version": "1.5.0",
      "model_name": "HBoxModel",
      "state": {
       "_dom_classes": [],
       "_model_module": "@jupyter-widgets/controls",
       "_model_module_version": "1.5.0",
       "_model_name": "HBoxModel",
       "_view_count": null,
       "_view_module": "@jupyter-widgets/controls",
       "_view_module_version": "1.5.0",
       "_view_name": "HBoxView",
       "box_style": "",
       "children": [
        "IPY_MODEL_49dfcf5ac0c34ad8a45ea80ed30da50b",
        "IPY_MODEL_8c78e27906424636b22ad82417ef5bf0",
        "IPY_MODEL_26b2f9543a07464d8027057bcfacd4b5"
       ],
       "layout": "IPY_MODEL_7c91b0e2613b49b0bc7416a4a34fa7c8"
      }
     },
     "f37a3d8631ff4ec99fb4fc36c7d7c21f": {
      "model_module": "@jupyter-widgets/controls",
      "model_module_version": "1.5.0",
      "model_name": "HTMLModel",
      "state": {
       "_dom_classes": [],
       "_model_module": "@jupyter-widgets/controls",
       "_model_module_version": "1.5.0",
       "_model_name": "HTMLModel",
       "_view_count": null,
       "_view_module": "@jupyter-widgets/controls",
       "_view_module_version": "1.5.0",
       "_view_name": "HTMLView",
       "description": "",
       "description_tooltip": null,
       "layout": "IPY_MODEL_c561fcb85d9d4922813bee5f14916553",
       "placeholder": "​",
       "style": "IPY_MODEL_e7a214e1b62f43f085dbb887127f492d",
       "value": " 3/3 [00:00&lt;00:00, 145.35it/s]"
      }
     }
    },
    "version_major": 2,
    "version_minor": 0
   }
  }
 },
 "nbformat": 4,
 "nbformat_minor": 5
}

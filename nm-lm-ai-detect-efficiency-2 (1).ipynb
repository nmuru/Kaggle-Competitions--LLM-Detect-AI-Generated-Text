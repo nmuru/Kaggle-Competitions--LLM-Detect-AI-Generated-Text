{
 "cells": [
  {
   "cell_type": "markdown",
   "id": "23eef3c4",
   "metadata": {
    "papermill": {
     "duration": 0.015651,
     "end_time": "2024-01-22T14:46:20.270107",
     "exception": false,
     "start_time": "2024-01-22T14:46:20.254456",
     "status": "completed"
    },
    "tags": []
   },
   "source": [
    "# Credit\n",
    "\n",
    "BPE Encoding based custom tokenizer by @datafan07\n",
    "\n",
    "Ertuğrul Demir - https://www.kaggle.com/code/datafan07/train-your-own-tokenizer\n",
    "\n",
    "Dataset: Augmented dataset by @jdragonxherrera https://www.kaggle.com/competitions/llm-detect-ai-generated-text/discussion/456729\n",
    "\n",
    "Fork from https://www.kaggle.com/code/xiaocao123/ai-generated-text-detection-add-new-data\n",
    "\n",
    "https://www.kaggle.com/code/rsuhara/ai-generated-text-detection-quick-baseline\n",
    "\n",
    "Inspired by VLADIMIR DEMIDOV's work : <br>\n",
    "https://www.kaggle.com/code/yekenot/llm-detect-by-regression <br>\n",
    "https://www.kaggle.com/code/x75a40890/ai-generated-text-detection-quick-baseline\n",
    "\n",
    "Using new train dataset https://www.kaggle.com/datasets/thedrcat/daigt-v2-train-dataset/\n",
    "\n",
    "@chenbaoying\n",
    "https://www.kaggle.com/code/chenbaoying/0-911-ai-generated-text-detection-test-feature#Voting-Classifier\n",
    "\n",
    "And for all others who contributed through discussions/codes"
   ]
  },
  {
   "cell_type": "markdown",
   "id": "a0ed8cee",
   "metadata": {
    "papermill": {
     "duration": 0.015043,
     "end_time": "2024-01-22T14:46:20.301246",
     "exception": false,
     "start_time": "2024-01-22T14:46:20.286203",
     "status": "completed"
    },
    "tags": []
   },
   "source": [
    "# Importing library"
   ]
  },
  {
   "cell_type": "code",
   "execution_count": 1,
   "id": "150df21a",
   "metadata": {
    "execution": {
     "iopub.execute_input": "2024-01-22T14:46:20.334191Z",
     "iopub.status.busy": "2024-01-22T14:46:20.332911Z",
     "iopub.status.idle": "2024-01-22T14:46:24.429960Z",
     "shell.execute_reply": "2024-01-22T14:46:24.428716Z"
    },
    "papermill": {
     "duration": 4.11632,
     "end_time": "2024-01-22T14:46:24.432729",
     "exception": false,
     "start_time": "2024-01-22T14:46:20.316409",
     "status": "completed"
    },
    "tags": []
   },
   "outputs": [],
   "source": [
    "import numpy as np\n",
    "import pandas as pd\n",
    "from sklearn.linear_model import LogisticRegression\n",
    "from sklearn.naive_bayes import MultinomialNB\n",
    "from sklearn.feature_extraction.text import TfidfVectorizer\n",
    "from sklearn.ensemble import VotingClassifier\n",
    "from sklearn.linear_model import SGDClassifier \n",
    "\n",
    "from sklearn.model_selection import train_test_split\n",
    "from sklearn.metrics import accuracy_score, roc_auc_score\n",
    "from sklearn.model_selection import GridSearchCV\n",
    "from sklearn.metrics import make_scorer, accuracy_score\n",
    "import random,os,sys\n",
    "from concurrent.futures import ProcessPoolExecutor\n",
    "import re\n",
    "import joblib\n",
    "\n",
    "from sklearn.linear_model import SGDOneClassSVM\n",
    "from sklearn.svm import OneClassSVM\n",
    "from sklearn.ensemble import IsolationForest\n",
    "from sklearn.neighbors import LocalOutlierFactor\n",
    "from sklearn.covariance import EllipticEnvelope\n",
    "\n",
    "import xgboost as xgb\n",
    "import catboost as ctb\n",
    "import lightgbm as lgb\n",
    "from lightgbm import LGBMClassifier\n",
    "from catboost import  CatBoostClassifier"
   ]
  },
  {
   "cell_type": "code",
   "execution_count": 2,
   "id": "5a496758",
   "metadata": {
    "execution": {
     "iopub.execute_input": "2024-01-22T14:46:24.465865Z",
     "iopub.status.busy": "2024-01-22T14:46:24.465436Z",
     "iopub.status.idle": "2024-01-22T14:46:30.924587Z",
     "shell.execute_reply": "2024-01-22T14:46:30.923489Z"
    },
    "papermill": {
     "duration": 6.478716,
     "end_time": "2024-01-22T14:46:30.927460",
     "exception": false,
     "start_time": "2024-01-22T14:46:24.448744",
     "status": "completed"
    },
    "tags": []
   },
   "outputs": [],
   "source": [
    "import sys\n",
    "import gc\n",
    "\n",
    "import pandas as pd\n",
    "from sklearn.model_selection import StratifiedKFold\n",
    "import numpy as np\n",
    "from sklearn.metrics import roc_auc_score\n",
    "import numpy as np\n",
    "\n",
    "from sklearn.feature_extraction.text import TfidfVectorizer\n",
    "\n",
    "from tokenizers import (\n",
    "    decoders,\n",
    "    models,\n",
    "    normalizers,\n",
    "    pre_tokenizers,\n",
    "    processors,\n",
    "    trainers,\n",
    "    Tokenizer,\n",
    ")\n",
    "\n",
    "from datasets import Dataset\n",
    "from tqdm.auto import tqdm\n",
    "from transformers import PreTrainedTokenizerFast"
   ]
  },
  {
   "cell_type": "code",
   "execution_count": 3,
   "id": "5512e610",
   "metadata": {
    "execution": {
     "iopub.execute_input": "2024-01-22T14:46:30.960382Z",
     "iopub.status.busy": "2024-01-22T14:46:30.959588Z",
     "iopub.status.idle": "2024-01-22T14:46:30.965919Z",
     "shell.execute_reply": "2024-01-22T14:46:30.964527Z"
    },
    "papermill": {
     "duration": 0.025892,
     "end_time": "2024-01-22T14:46:30.968489",
     "exception": false,
     "start_time": "2024-01-22T14:46:30.942597",
     "status": "completed"
    },
    "tags": []
   },
   "outputs": [],
   "source": [
    "random.seed(42)\n",
    "np.random.seed(42)\n",
    "debug=False\n",
    "pseudo=False\n",
    "LOWERCASE = False\n",
    "VOCAB_SIZE = 10000000"
   ]
  },
  {
   "cell_type": "markdown",
   "id": "7bd9e9fd",
   "metadata": {
    "papermill": {
     "duration": 0.014904,
     "end_time": "2024-01-22T14:46:30.999331",
     "exception": false,
     "start_time": "2024-01-22T14:46:30.984427",
     "status": "completed"
    },
    "tags": []
   },
   "source": [
    "# Importing files and Feature Engineering"
   ]
  },
  {
   "cell_type": "code",
   "execution_count": 4,
   "id": "b3b93e39",
   "metadata": {
    "execution": {
     "iopub.execute_input": "2024-01-22T14:46:31.031621Z",
     "iopub.status.busy": "2024-01-22T14:46:31.031175Z",
     "iopub.status.idle": "2024-01-22T14:46:31.036366Z",
     "shell.execute_reply": "2024-01-22T14:46:31.035214Z"
    },
    "papermill": {
     "duration": 0.024308,
     "end_time": "2024-01-22T14:46:31.038822",
     "exception": false,
     "start_time": "2024-01-22T14:46:31.014514",
     "status": "completed"
    },
    "tags": []
   },
   "outputs": [],
   "source": [
    "# def denoise_text(text):\n",
    "#     # Assuming 'tool' is defined elsewhere in your code\n",
    "#     corrected_text = tool.correct(text)\n",
    "#     return corrected_text\n",
    "\n",
    "# # Function to correct the 'text' column of a DataFrame or Series in parallel\n",
    "# def correct_df(input_data):\n",
    "#     if isinstance(input_data, pd.DataFrame):\n",
    "#         # If input is a DataFrame, correct the 'text' column\n",
    "#         with ProcessPoolExecutor() as executor:\n",
    "#             input_data['text'] = list(executor.map(denoise_text, input_data['text']))\n",
    "#     elif isinstance(input_data, pd.Series):\n",
    "#         # If input is a Series, correct the series\n",
    "#         with ProcessPoolExecutor() as executor:\n",
    "#             input_data = list(executor.map(denoise_text, input_data)) \n",
    "#     return input_data"
   ]
  },
  {
   "cell_type": "code",
   "execution_count": 5,
   "id": "0ffdc454",
   "metadata": {
    "execution": {
     "iopub.execute_input": "2024-01-22T14:46:31.071995Z",
     "iopub.status.busy": "2024-01-22T14:46:31.071146Z",
     "iopub.status.idle": "2024-01-22T14:46:31.076959Z",
     "shell.execute_reply": "2024-01-22T14:46:31.075845Z"
    },
    "papermill": {
     "duration": 0.02589,
     "end_time": "2024-01-22T14:46:31.079884",
     "exception": false,
     "start_time": "2024-01-22T14:46:31.053994",
     "status": "completed"
    },
    "tags": []
   },
   "outputs": [],
   "source": [
    "# import spacy\n",
    "\n",
    "# import torch\n",
    "# from transformers import AutoTokenizer, AutoModelForSeq2SeqLM\n",
    "\n",
    "# from collections import Counter\n",
    "\n",
    "# from tqdm import tqdm\n",
    "\n",
    "\n",
    "# @torch.no_grad()\n",
    "# def clean_essay(text): \n",
    "#     doc = nlp(text)\n",
    "#     inputs = tokenizer([s.text for s in doc.sents], truncation=True, padding=True, return_tensors=\"pt\")\n",
    "#     outputs = deobfuscator.generate(inputs.input_ids.to(DEVICE), max_length=300)\n",
    "#     sents = tokenizer.batch_decode(outputs, skip_special_tokens=True)\n",
    "#     return \" \".join([s.strip() for s in sents])\n",
    "\n",
    "\n",
    "# MODEL_PATH = \"/kaggle/input/essay-gec/deobfuscator-v1\"\n",
    "# DEVICE = \"cuda:0\"\n",
    "\n",
    "# tokenizer = AutoTokenizer.from_pretrained(MODEL_PATH)\n",
    "# deobfuscator = AutoModelForSeq2SeqLM.from_pretrained(MODEL_PATH).to(DEVICE).eval()\n",
    "\n",
    "# nlp = spacy.load(\"en_core_web_sm\")"
   ]
  },
  {
   "cell_type": "code",
   "execution_count": 6,
   "id": "5ac397ed",
   "metadata": {
    "execution": {
     "iopub.execute_input": "2024-01-22T14:46:31.111884Z",
     "iopub.status.busy": "2024-01-22T14:46:31.111437Z",
     "iopub.status.idle": "2024-01-22T14:46:33.586788Z",
     "shell.execute_reply": "2024-01-22T14:46:33.585522Z"
    },
    "papermill": {
     "duration": 2.494366,
     "end_time": "2024-01-22T14:46:33.589338",
     "exception": false,
     "start_time": "2024-01-22T14:46:31.094972",
     "status": "completed"
    },
    "tags": []
   },
   "outputs": [
    {
     "data": {
      "text/plain": [
       "(prompt_name\n",
       " Seeking multiple opinions               5176\n",
       " Car-free cities                         4717\n",
       " Does the electoral college work?        4434\n",
       " Facial action coding system             3084\n",
       " Mandatory extracurricular activities    3077\n",
       " Driverless cars                         2250\n",
       " Exploring Venus                         2176\n",
       " Cell phones at school                   2119\n",
       " Community service                       2092\n",
       " \"A Cowboy Who Rode the Waves\"           1896\n",
       " The Face on Mars                        1893\n",
       " Phones and driving                      1583\n",
       " Name: count, dtype: int64,\n",
       " 34497)"
      ]
     },
     "execution_count": 6,
     "metadata": {},
     "output_type": "execute_result"
    }
   ],
   "source": [
    "# trainx = pd.read_csv('/kaggle/input/daigt-v2-trainessays-cleaned/daigt-v2-train-cleaned.csv')\n",
    "\n",
    "train1 = pd.read_csv(\"/kaggle/input/daigt-v2-train-dataset/train_v2_drcat_02.csv\", sep=',')\n",
    "exclude = ['Distance learning','Grades for extracurricular activities','Summer projects']\n",
    "train1 = train1[~train1.prompt_name.isin(exclude)]\n",
    "train1 = train1.drop_duplicates(subset=['text'])\n",
    "train1.reset_index(drop=True, inplace=True)\n",
    "train1.prompt_name.value_counts(), len(train1)"
   ]
  },
  {
   "cell_type": "code",
   "execution_count": 7,
   "id": "a2110c19",
   "metadata": {
    "execution": {
     "iopub.execute_input": "2024-01-22T14:46:33.622137Z",
     "iopub.status.busy": "2024-01-22T14:46:33.621704Z",
     "iopub.status.idle": "2024-01-22T14:46:33.627462Z",
     "shell.execute_reply": "2024-01-22T14:46:33.626352Z"
    },
    "papermill": {
     "duration": 0.025067,
     "end_time": "2024-01-22T14:46:33.629956",
     "exception": false,
     "start_time": "2024-01-22T14:46:33.604889",
     "status": "completed"
    },
    "tags": []
   },
   "outputs": [],
   "source": [
    "# ## credit @nbroad\n",
    "# not_persuade_df = trainx[trainx['source'] != 'persuade_corpus']\n",
    "# persuade_df = trainx[trainx['source'] == 'persuade_corpus']\n",
    "# sampled_persuade_df = persuade_df.sample(n=6000, random_state=42) \n",
    "# all_human = set(list(''.join(sampled_persuade_df.text.to_list())))\n",
    "# other = set(list(''.join(not_persuade_df.text.to_list())))\n",
    "# chars_to_remove = ''.join([x for x in other if x not in all_human])\n",
    "# print(chars_to_remove)\n",
    "\n",
    "# translation_table = str.maketrans('', '', chars_to_remove)\n",
    "# def remove_chars(s):\n",
    "#     return s.translate(translation_table)  \n",
    "\n",
    "# trainx['text'] = trainx['text'].str.replace('\\n', '') \n",
    "# trainx['text'] = trainx['text'].apply(remove_chars) "
   ]
  },
  {
   "cell_type": "code",
   "execution_count": 8,
   "id": "9be7f945",
   "metadata": {
    "execution": {
     "iopub.execute_input": "2024-01-22T14:46:33.663221Z",
     "iopub.status.busy": "2024-01-22T14:46:33.662015Z",
     "iopub.status.idle": "2024-01-22T14:46:33.667632Z",
     "shell.execute_reply": "2024-01-22T14:46:33.666871Z"
    },
    "papermill": {
     "duration": 0.024769,
     "end_time": "2024-01-22T14:46:33.669935",
     "exception": false,
     "start_time": "2024-01-22T14:46:33.645166",
     "status": "completed"
    },
    "tags": []
   },
   "outputs": [],
   "source": [
    "# # train = pd.read_csv('/kaggle/input/daigt-v2-train-dataset/train_v2_drcat_02.csv')\n",
    "# # train1 = pd.read_csv('/kaggle/input/llm-ai-detect-dataset-5/augmented-typos-introduced-ds5.csv')  # 15% typos on label==0 alone\n",
    "# # # train1 = pd.read_csv(\"/kaggle/input/llm-ai-detect-dataset-with-typos-2/daigt-v2-test-dataset-with-12%-typos-introduced.csv\") #12% typos on both labels\n",
    "# train2 = pd.read_csv('/kaggle/input/llm-detect-ai-generated-text/train_essays.csv')\n",
    "# train2.rename(columns={'generated':'label'},inplace=True)  \n",
    "# trainz = pd.concat([trainx,train2])\n",
    "\n",
    "# trainz['text'] = trainz['text'].str.replace('\\n', '')  \n",
    "# train1 = trainz.copy()\n",
    "# train1.label.value_counts() "
   ]
  },
  {
   "cell_type": "code",
   "execution_count": 9,
   "id": "ac5b5ecd",
   "metadata": {
    "execution": {
     "iopub.execute_input": "2024-01-22T14:46:33.702617Z",
     "iopub.status.busy": "2024-01-22T14:46:33.701841Z",
     "iopub.status.idle": "2024-01-22T14:46:33.714321Z",
     "shell.execute_reply": "2024-01-22T14:46:33.713426Z"
    },
    "papermill": {
     "duration": 0.031664,
     "end_time": "2024-01-22T14:46:33.716878",
     "exception": false,
     "start_time": "2024-01-22T14:46:33.685214",
     "status": "completed"
    },
    "tags": []
   },
   "outputs": [],
   "source": [
    "if debug:\n",
    "#     train1 = train1.sample(2000)\n",
    "    test = train1[train1.prompt_name=='Car-free cities']\n",
    "    train = train1.drop(test.index)\n",
    "else:\n",
    "    train = train1.copy()\n",
    "    test = pd.read_csv('/kaggle/input/llm-detect-ai-generated-text/test_essays.csv')\n",
    "#     test['text'] = test['text'].str.replace('\\n', '') \n",
    "#     test['text'] = test['text'].apply(remove_chars)  \n",
    "#     correct_df(test)"
   ]
  },
  {
   "cell_type": "code",
   "execution_count": 10,
   "id": "63369a67",
   "metadata": {
    "execution": {
     "iopub.execute_input": "2024-01-22T14:46:33.749498Z",
     "iopub.status.busy": "2024-01-22T14:46:33.748814Z",
     "iopub.status.idle": "2024-01-22T14:46:33.753917Z",
     "shell.execute_reply": "2024-01-22T14:46:33.752700Z"
    },
    "papermill": {
     "duration": 0.023886,
     "end_time": "2024-01-22T14:46:33.756114",
     "exception": false,
     "start_time": "2024-01-22T14:46:33.732228",
     "status": "completed"
    },
    "tags": []
   },
   "outputs": [],
   "source": [
    "\n",
    "# test = pd.read_csv('/kaggle/input/llm-detect-ai-generated-text/test_essays.csv')\n",
    "# test['text'] = test['text'].str.replace('\\n', '')  \n",
    "# correct_df(test)"
   ]
  },
  {
   "cell_type": "code",
   "execution_count": 11,
   "id": "f6d1c274",
   "metadata": {
    "execution": {
     "iopub.execute_input": "2024-01-22T14:46:33.788522Z",
     "iopub.status.busy": "2024-01-22T14:46:33.788110Z",
     "iopub.status.idle": "2024-01-22T14:46:33.792924Z",
     "shell.execute_reply": "2024-01-22T14:46:33.791808Z"
    },
    "papermill": {
     "duration": 0.024058,
     "end_time": "2024-01-22T14:46:33.795546",
     "exception": false,
     "start_time": "2024-01-22T14:46:33.771488",
     "status": "completed"
    },
    "tags": []
   },
   "outputs": [],
   "source": [
    "# clean_texts = []\n",
    "# for i, r in tqdm(test.iterrows(), total=len(test)):\n",
    "#     clean_texts.append(clean_essay(r.text))\n",
    "# test[\"text\"] = clean_texts\n",
    "\n",
    "# del deobfuscator\n",
    "# torch.cuda.empty_cache()"
   ]
  },
  {
   "cell_type": "code",
   "execution_count": 12,
   "id": "461038a0",
   "metadata": {
    "execution": {
     "iopub.execute_input": "2024-01-22T14:46:33.828087Z",
     "iopub.status.busy": "2024-01-22T14:46:33.827671Z",
     "iopub.status.idle": "2024-01-22T14:46:33.832835Z",
     "shell.execute_reply": "2024-01-22T14:46:33.831749Z"
    },
    "papermill": {
     "duration": 0.024482,
     "end_time": "2024-01-22T14:46:33.835514",
     "exception": false,
     "start_time": "2024-01-22T14:46:33.811032",
     "status": "completed"
    },
    "tags": []
   },
   "outputs": [],
   "source": [
    "# trainx = train.groupby('label').apply(lambda x: x.sample(1000, random_state=42)).reset_index(drop=True)\n",
    "# data = pd.DataFrame()\n",
    "# data['text'] = pd.concat([test['text'],trainx['text']])"
   ]
  },
  {
   "cell_type": "code",
   "execution_count": 13,
   "id": "d880385f",
   "metadata": {
    "execution": {
     "iopub.execute_input": "2024-01-22T14:46:33.868096Z",
     "iopub.status.busy": "2024-01-22T14:46:33.867705Z",
     "iopub.status.idle": "2024-01-22T14:46:33.883287Z",
     "shell.execute_reply": "2024-01-22T14:46:33.882060Z"
    },
    "papermill": {
     "duration": 0.034909,
     "end_time": "2024-01-22T14:46:33.885927",
     "exception": false,
     "start_time": "2024-01-22T14:46:33.851018",
     "status": "completed"
    },
    "tags": []
   },
   "outputs": [],
   "source": [
    "data = pd.DataFrame()\n",
    "\n",
    "prompts = ['\"A Cowboy Who Rode the Waves\"', 'Driverless cars', \n",
    "       'Exploring Venus', 'Facial action coding system',\n",
    "       'The Face on Mars']\n",
    "\n",
    "trainz = train[train.prompt_name.isin(prompts)]\n",
    "\n",
    "data['text'] = pd.concat([test['text'],trainz['text']]) "
   ]
  },
  {
   "cell_type": "code",
   "execution_count": 14,
   "id": "ce9163d8",
   "metadata": {
    "execution": {
     "iopub.execute_input": "2024-01-22T14:46:33.982817Z",
     "iopub.status.busy": "2024-01-22T14:46:33.981934Z",
     "iopub.status.idle": "2024-01-22T14:47:47.492835Z",
     "shell.execute_reply": "2024-01-22T14:47:47.491569Z"
    },
    "papermill": {
     "duration": 73.594009,
     "end_time": "2024-01-22T14:47:47.495313",
     "exception": false,
     "start_time": "2024-01-22T14:46:33.901304",
     "status": "completed"
    },
    "tags": []
   },
   "outputs": [
    {
     "name": "stdout",
     "output_type": "stream",
     "text": [
      "\n",
      "\n",
      "\n"
     ]
    },
    {
     "data": {
      "application/vnd.jupyter.widget-view+json": {
       "model_id": "3c6d9deea0b34d5d81a515d03882a79f",
       "version_major": 2,
       "version_minor": 0
      },
      "text/plain": [
       "  0%|          | 0/3 [00:00<?, ?it/s]"
      ]
     },
     "metadata": {},
     "output_type": "display_data"
    },
    {
     "data": {
      "application/vnd.jupyter.widget-view+json": {
       "model_id": "2b643a079f2e4022bd3f02d45d4e57ca",
       "version_major": 2,
       "version_minor": 0
      },
      "text/plain": [
       "  0%|          | 0/34497 [00:00<?, ?it/s]"
      ]
     },
     "metadata": {},
     "output_type": "display_data"
    }
   ],
   "source": [
    "# Creating Byte-Pair Encoding tokenizer\n",
    "raw_tokenizer = Tokenizer(models.BPE(unk_token=\"[UNK]\"))\n",
    "\n",
    "\n",
    "# Adding normalization and pre_tokenizer\n",
    "raw_tokenizer.normalizer = normalizers.Sequence([normalizers.NFC()] + [normalizers.Lowercase()] if LOWERCASE else [])\n",
    "raw_tokenizer.pre_tokenizer = pre_tokenizers.ByteLevel()\n",
    "\n",
    "# Adding special tokens and creating trainer instance\n",
    "special_tokens = [\"[UNK]\", \"[PAD]\", \"[CLS]\", \"[SEP]\", \"[MASK]\"]\n",
    "trainer = trainers.BpeTrainer(vocab_size=VOCAB_SIZE, special_tokens=special_tokens) \n",
    "\n",
    "# Creating huggingface dataset object\n",
    "dataset = Dataset.from_pandas(data[['text']]) \n",
    "\n",
    "def train_corp_iter():\n",
    "    \"\"\"\n",
    "    A generator function for iterating over a dataset in chunks.\n",
    "    \"\"\"    \n",
    "    for i in range(0, len(dataset), 1000):\n",
    "        yield dataset[i : i + 1000][\"text\"]\n",
    "\n",
    "# Training from iterator REMEMBER it's training on test set...\n",
    "raw_tokenizer.train_from_iterator(train_corp_iter(), trainer=trainer)\n",
    "\n",
    "tokenizer = PreTrainedTokenizerFast(\n",
    "    tokenizer_object=raw_tokenizer,\n",
    "    unk_token=\"[UNK]\",\n",
    "    pad_token=\"[PAD]\",\n",
    "    cls_token=\"[CLS]\",\n",
    "    sep_token=\"[SEP]\",\n",
    "    mask_token=\"[MASK]\",\n",
    ")\n",
    "\n",
    "\n",
    "tokenized_texts_test = []\n",
    "\n",
    "# Tokenize test set with new tokenizer\n",
    "for text in tqdm(test['text'].tolist()):\n",
    "    tokenized_texts_test.append(tokenizer.tokenize(text))\n",
    "\n",
    "\n",
    "# Tokenize train set\n",
    "tokenized_texts_train = []\n",
    "\n",
    "for text in tqdm(train['text'].tolist()):\n",
    "    tokenized_texts_train.append(tokenizer.tokenize(text))"
   ]
  },
  {
   "cell_type": "markdown",
   "id": "a2225db0",
   "metadata": {
    "papermill": {
     "duration": 0.016064,
     "end_time": "2024-01-22T14:47:47.528264",
     "exception": false,
     "start_time": "2024-01-22T14:47:47.512200",
     "status": "completed"
    },
    "tags": []
   },
   "source": [
    "### Functions to vectorize and fit models"
   ]
  },
  {
   "cell_type": "code",
   "execution_count": 15,
   "id": "5e3fcc1f",
   "metadata": {
    "execution": {
     "iopub.execute_input": "2024-01-22T14:47:47.562816Z",
     "iopub.status.busy": "2024-01-22T14:47:47.562060Z",
     "iopub.status.idle": "2024-01-22T14:48:35.197374Z",
     "shell.execute_reply": "2024-01-22T14:48:35.196213Z"
    },
    "papermill": {
     "duration": 47.671537,
     "end_time": "2024-01-22T14:48:35.216025",
     "exception": false,
     "start_time": "2024-01-22T14:47:47.544488",
     "status": "completed"
    },
    "tags": []
   },
   "outputs": [
    {
     "data": {
      "text/plain": [
       "53"
      ]
     },
     "execution_count": 15,
     "metadata": {},
     "output_type": "execute_result"
    }
   ],
   "source": [
    "def dummy(text): \n",
    "    return text\n",
    "\n",
    "# Fitting TfidfVectoizer on test set\n",
    "\n",
    "vectorizer = TfidfVectorizer(ngram_range=(3, 5), lowercase=False, sublinear_tf=True, analyzer = 'word',\n",
    "    tokenizer = dummy,\n",
    "    preprocessor = dummy,\n",
    "    token_pattern = None, strip_accents='unicode')\n",
    "                            \n",
    "\n",
    "vectorizer.fit(tokenized_texts_test)\n",
    "\n",
    "# Getting vocab\n",
    "vocab = vectorizer.vocabulary_ \n",
    "\n",
    "# Here we fit our vectorizer on train set but this time we use vocabulary from test fit.\n",
    "vectorizer = TfidfVectorizer(ngram_range=(3, 5), lowercase=False, sublinear_tf=True, vocabulary=vocab,\n",
    "                            analyzer = 'word',\n",
    "                            tokenizer = dummy,\n",
    "                            preprocessor = dummy,\n",
    "                            token_pattern = None, strip_accents='unicode'\n",
    "                            )\n",
    "\n",
    "tf_train = vectorizer.fit_transform(tokenized_texts_train)\n",
    "tf_test = vectorizer.transform(tokenized_texts_test)\n",
    "\n",
    "y_train = train['label'].values\n",
    "\n",
    "del vectorizer\n",
    "gc.collect()"
   ]
  },
  {
   "cell_type": "code",
   "execution_count": 16,
   "id": "3598401c",
   "metadata": {
    "execution": {
     "iopub.execute_input": "2024-01-22T14:48:35.251665Z",
     "iopub.status.busy": "2024-01-22T14:48:35.251221Z",
     "iopub.status.idle": "2024-01-22T14:48:35.260848Z",
     "shell.execute_reply": "2024-01-22T14:48:35.259940Z"
    },
    "papermill": {
     "duration": 0.030104,
     "end_time": "2024-01-22T14:48:35.263201",
     "exception": false,
     "start_time": "2024-01-22T14:48:35.233097",
     "status": "completed"
    },
    "tags": []
   },
   "outputs": [],
   "source": [
    "from scipy.sparse import hstack, coo_matrix \n",
    "\n",
    "# Add the additional column to the sparse matrix\n",
    "X1 = hstack([tf_train, np.array(train.label).reshape(-1,1)],format='csr') #.tocsc()"
   ]
  },
  {
   "cell_type": "code",
   "execution_count": 17,
   "id": "466bf7ae",
   "metadata": {
    "execution": {
     "iopub.execute_input": "2024-01-22T14:48:35.298796Z",
     "iopub.status.busy": "2024-01-22T14:48:35.297496Z",
     "iopub.status.idle": "2024-01-22T14:48:35.324150Z",
     "shell.execute_reply": "2024-01-22T14:48:35.322872Z"
    },
    "papermill": {
     "duration": 0.047031,
     "end_time": "2024-01-22T14:48:35.326646",
     "exception": false,
     "start_time": "2024-01-22T14:48:35.279615",
     "status": "completed"
    },
    "tags": []
   },
   "outputs": [
    {
     "name": "stdout",
     "output_type": "stream",
     "text": [
      "original number of rows  34497\n",
      "number of rows after outlier removal using SGDsvm 34497\n"
     ]
    }
   ],
   "source": [
    "svm = SGDOneClassSVM(nu=0.01, random_state=42)\n",
    "iso = IsolationForest(random_state=42,contamination=0.05)\n",
    "lo = LocalOutlierFactor(n_neighbors=10, contamination=0.05)\n",
    "# lo = EllipticEnvelope(random_state=42)   \n",
    "\n",
    "pred = svm.fit_predict(X1) #sdf.drop(['label'],axis=1))\n",
    "mask = pred != -1\n",
    "data = X1[mask, :] #.reset_index(drop=True)\n",
    "print(\"original number of rows \",X1.shape[0]) \n",
    "print('number of rows after outlier removal using SGDsvm',data.shape[0])\n",
    "\n",
    "# pred = iso.fit_predict(X1)\n",
    "# mask = pred != -1\n",
    "# data1 = X1[mask, :] #.reset_index(drop=True) \n",
    "# print('number of rows after outlier removal using isoforest',data1.shape[0])\n",
    "\n",
    "# pred = lo.fit_predict(data)\n",
    "# mask = pred != -1\n",
    "# data2 = data1[mask, :] #.reset_index(drop=True) \n",
    "# print('number of rows after outlier removal using localoutlier',data2.shape[0])"
   ]
  },
  {
   "cell_type": "code",
   "execution_count": 18,
   "id": "d39e19aa",
   "metadata": {
    "execution": {
     "iopub.execute_input": "2024-01-22T14:48:35.361682Z",
     "iopub.status.busy": "2024-01-22T14:48:35.360635Z",
     "iopub.status.idle": "2024-01-22T14:48:35.369131Z",
     "shell.execute_reply": "2024-01-22T14:48:35.368158Z"
    },
    "papermill": {
     "duration": 0.028479,
     "end_time": "2024-01-22T14:48:35.371425",
     "exception": false,
     "start_time": "2024-01-22T14:48:35.342946",
     "status": "completed"
    },
    "tags": []
   },
   "outputs": [],
   "source": [
    "y_train = data[:,-1]\n",
    "data = data[:, :-1]"
   ]
  },
  {
   "cell_type": "code",
   "execution_count": 19,
   "id": "187d1ebd",
   "metadata": {
    "execution": {
     "iopub.execute_input": "2024-01-22T14:48:35.407331Z",
     "iopub.status.busy": "2024-01-22T14:48:35.406922Z",
     "iopub.status.idle": "2024-01-22T14:48:35.427875Z",
     "shell.execute_reply": "2024-01-22T14:48:35.427047Z"
    },
    "papermill": {
     "duration": 0.041694,
     "end_time": "2024-01-22T14:48:35.430359",
     "exception": false,
     "start_time": "2024-01-22T14:48:35.388665",
     "status": "completed"
    },
    "tags": []
   },
   "outputs": [],
   "source": [
    "sub = pd.read_csv('/kaggle/input/llm-detect-ai-generated-text/sample_submission.csv')\n",
    "if len(test.text.values) <= 5:\n",
    "    sub.to_csv('submission.csv', index=False)\n",
    "else:\n",
    "    \n",
    "    clf = MultinomialNB(alpha=0.02)\n",
    "#     clf2 = MultinomialNB(alpha=0.01)\n",
    "    sgd_model = SGDClassifier(max_iter=10000, tol=1e-4, loss=\"modified_huber\") \n",
    "    p6={'n_iter': 2000,'verbose': -1,'objective': 'binary','metric': 'auc',\n",
    "        'learning_rate': 0.05073909898961407, 'colsample_bytree': 0.6, \n",
    "        'colsample_bynode': 0.5, 'lambda_l1': 10, \n",
    "        'lambda_l2': 6, 'min_data_in_leaf': 150, 'max_depth': 18,\n",
    "        'max_bin': 898}\n",
    "    lgb=LGBMClassifier(**p6)\n",
    "     \n",
    "    weights = [0.1,0.3,0.6]\n",
    " \n",
    "    ensemble = VotingClassifier(estimators=[('mnb',clf),\n",
    "                                            ('sgd', sgd_model),\n",
    "                                            ('lgb',lgb), \n",
    "#                                             ('cat', cat)\n",
    "                                           ],\n",
    "                                weights=weights, voting='soft', n_jobs=-1)\n",
    "    ensemble.fit(data, y_train.toarray()) \n",
    "    final_preds = ensemble.predict_proba(tf_test)[:,1]\n",
    "    if not debug:\n",
    "        sub['generated'] = final_preds\n",
    "        sub.to_csv('submission.csv', index=False)\n",
    "        sub"
   ]
  },
  {
   "cell_type": "code",
   "execution_count": 20,
   "id": "a346848a",
   "metadata": {
    "execution": {
     "iopub.execute_input": "2024-01-22T14:48:35.465619Z",
     "iopub.status.busy": "2024-01-22T14:48:35.464975Z",
     "iopub.status.idle": "2024-01-22T14:48:35.470093Z",
     "shell.execute_reply": "2024-01-22T14:48:35.469280Z"
    },
    "papermill": {
     "duration": 0.025297,
     "end_time": "2024-01-22T14:48:35.472259",
     "exception": false,
     "start_time": "2024-01-22T14:48:35.446962",
     "status": "completed"
    },
    "tags": []
   },
   "outputs": [],
   "source": [
    "# clf = MultinomialNB(alpha=0.02)\n",
    "# clf2 = MultinomialNB(alpha=0.01)\n",
    "# sgd_model = SGDClassifier(max_iter=10000, tol=1e-4, loss=\"modified_huber\") \n",
    "# p6={'n_iter': 3000,'verbose': -1,'objective': 'l2','learning_rate': 0.005670084478292278, 'colsample_bytree': 0.6440444070196796, 'colsample_bynode': 0.637635804565811, 'lambda_l1': 6.29090474401462, 'lambda_l2': 6.775341543233317, 'min_data_in_leaf': 95, 'max_depth': 26, 'max_bin': 630}\n",
    "\n",
    "\n",
    "# lgb=lgb.LGBMClassifier(**p6)\n",
    "\n",
    "# ensemble = VotingClassifier(estimators=[('mnb',clf),('sgd', sgd_model),('lgb',lgb)],\n",
    "#                             weights=[0.25,0.25,0.5], voting='soft', n_jobs=-1)\n",
    "# ensemble.fit(data, y_train.toarray())"
   ]
  },
  {
   "cell_type": "code",
   "execution_count": 21,
   "id": "780e4934",
   "metadata": {
    "execution": {
     "iopub.execute_input": "2024-01-22T14:48:35.506765Z",
     "iopub.status.busy": "2024-01-22T14:48:35.506327Z",
     "iopub.status.idle": "2024-01-22T14:48:35.511619Z",
     "shell.execute_reply": "2024-01-22T14:48:35.510515Z"
    },
    "papermill": {
     "duration": 0.025446,
     "end_time": "2024-01-22T14:48:35.513936",
     "exception": false,
     "start_time": "2024-01-22T14:48:35.488490",
     "status": "completed"
    },
    "tags": []
   },
   "outputs": [],
   "source": [
    "\n",
    "# mnb = MultinomialNB(alpha=0.02)\n",
    "     \n",
    "# sgd_model1 = SGDClassifier(max_iter=10000, tol=1e-4,loss=\"modified_huber\", random_state=42) \n",
    "# sgd_model2 = SGDClassifier(max_iter=10000, tol=3e-3,loss=\"modified_huber\",  class_weight=\"balanced\",random_state=42) \n",
    "# sgd_model3 = SGDClassifier(max_iter=15000, tol=5e-3,loss=\"modified_huber\", early_stopping=True,random_state=42) \n",
    "\n",
    "# ensemble = VotingClassifier(estimators=[\n",
    "                                         \n",
    "#                                         ('mnb', mnb),\n",
    "#                                         ('sgd1', sgd_model1),\n",
    "#                                         ('sgd2', sgd_model2),\n",
    "#                                         ('sgd3', sgd_model3),\n",
    "#                                        ],\n",
    "#                             weights=[0.1, 0.3,0.3,0.3],\n",
    "#                             voting='soft'\n",
    "#                            )\n",
    " \n",
    "# ensemble.fit(data, y_train.toarray())"
   ]
  },
  {
   "cell_type": "code",
   "execution_count": 22,
   "id": "230eb135",
   "metadata": {
    "execution": {
     "iopub.execute_input": "2024-01-22T14:48:35.549442Z",
     "iopub.status.busy": "2024-01-22T14:48:35.549007Z",
     "iopub.status.idle": "2024-01-22T14:48:35.553498Z",
     "shell.execute_reply": "2024-01-22T14:48:35.552497Z"
    },
    "papermill": {
     "duration": 0.024432,
     "end_time": "2024-01-22T14:48:35.555588",
     "exception": false,
     "start_time": "2024-01-22T14:48:35.531156",
     "status": "completed"
    },
    "tags": []
   },
   "outputs": [],
   "source": [
    "# preds_test = ensemble.predict_proba(tf_test)[:,1]"
   ]
  },
  {
   "cell_type": "code",
   "execution_count": 23,
   "id": "764e74ba",
   "metadata": {
    "execution": {
     "iopub.execute_input": "2024-01-22T14:48:35.591135Z",
     "iopub.status.busy": "2024-01-22T14:48:35.589907Z",
     "iopub.status.idle": "2024-01-22T14:48:35.595465Z",
     "shell.execute_reply": "2024-01-22T14:48:35.594202Z"
    },
    "papermill": {
     "duration": 0.025795,
     "end_time": "2024-01-22T14:48:35.597975",
     "exception": false,
     "start_time": "2024-01-22T14:48:35.572180",
     "status": "completed"
    },
    "tags": []
   },
   "outputs": [],
   "source": [
    "# preds_test"
   ]
  },
  {
   "cell_type": "markdown",
   "id": "b50d063e",
   "metadata": {
    "papermill": {
     "duration": 0.016212,
     "end_time": "2024-01-22T14:48:35.630813",
     "exception": false,
     "start_time": "2024-01-22T14:48:35.614601",
     "status": "completed"
    },
    "tags": []
   },
   "source": [
    "## Submit"
   ]
  },
  {
   "cell_type": "code",
   "execution_count": 24,
   "id": "9bae5e09",
   "metadata": {
    "execution": {
     "iopub.execute_input": "2024-01-22T14:48:35.666188Z",
     "iopub.status.busy": "2024-01-22T14:48:35.665758Z",
     "iopub.status.idle": "2024-01-22T14:48:35.670940Z",
     "shell.execute_reply": "2024-01-22T14:48:35.669460Z"
    },
    "papermill": {
     "duration": 0.02586,
     "end_time": "2024-01-22T14:48:35.673235",
     "exception": false,
     "start_time": "2024-01-22T14:48:35.647375",
     "status": "completed"
    },
    "tags": []
   },
   "outputs": [],
   "source": [
    "# if debug==False:\n",
    "#     pd.DataFrame({'id':test[\"id\"],'generated':preds_test}).to_csv('submission.csv', index=False)\n",
    "#     pd.read_csv('/kaggle/working/submission.csv')\n",
    "#     sub=pd.read_csv('/kaggle/working/submission.csv')\n",
    "#     print(sub)"
   ]
  },
  {
   "cell_type": "code",
   "execution_count": null,
   "id": "6c208668",
   "metadata": {
    "papermill": {
     "duration": 0.016197,
     "end_time": "2024-01-22T14:48:35.705861",
     "exception": false,
     "start_time": "2024-01-22T14:48:35.689664",
     "status": "completed"
    },
    "tags": []
   },
   "outputs": [],
   "source": []
  }
 ],
 "metadata": {
  "kaggle": {
   "accelerator": "none",
   "dataSources": [
    {
     "databundleVersionId": 6888007,
     "sourceId": 61542,
     "sourceType": "competition"
    },
    {
     "datasetId": 3945154,
     "sourceId": 6865136,
     "sourceType": "datasetVersion"
    },
    {
     "datasetId": 4005256,
     "sourceId": 6977472,
     "sourceType": "datasetVersion"
    },
    {
     "datasetId": 4035516,
     "sourceId": 7018354,
     "sourceType": "datasetVersion"
    },
    {
     "datasetId": 4064898,
     "sourceId": 7060860,
     "sourceType": "datasetVersion"
    },
    {
     "datasetId": 4070722,
     "sourceId": 7069044,
     "sourceType": "datasetVersion"
    },
    {
     "datasetId": 4091539,
     "sourceId": 7098487,
     "sourceType": "datasetVersion"
    },
    {
     "sourceId": 152459920,
     "sourceType": "kernelVersion"
    }
   ],
   "dockerImageVersionId": 30635,
   "isGpuEnabled": false,
   "isInternetEnabled": false,
   "language": "python",
   "sourceType": "notebook"
  },
  "kernelspec": {
   "display_name": "Python 3",
   "language": "python",
   "name": "python3"
  },
  "language_info": {
   "codemirror_mode": {
    "name": "ipython",
    "version": 3
   },
   "file_extension": ".py",
   "mimetype": "text/x-python",
   "name": "python",
   "nbconvert_exporter": "python",
   "pygments_lexer": "ipython3",
   "version": "3.10.12"
  },
  "papermill": {
   "default_parameters": {},
   "duration": 141.422969,
   "end_time": "2024-01-22T14:48:38.151642",
   "environment_variables": {},
   "exception": null,
   "input_path": "__notebook__.ipynb",
   "output_path": "__notebook__.ipynb",
   "parameters": {},
   "start_time": "2024-01-22T14:46:16.728673",
   "version": "2.4.0"
  },
  "widgets": {
   "application/vnd.jupyter.widget-state+json": {
    "state": {
     "026fe63b5c8f46848dc42f0976e06ca7": {
      "model_module": "@jupyter-widgets/controls",
      "model_module_version": "1.5.0",
      "model_name": "DescriptionStyleModel",
      "state": {
       "_model_module": "@jupyter-widgets/controls",
       "_model_module_version": "1.5.0",
       "_model_name": "DescriptionStyleModel",
       "_view_count": null,
       "_view_module": "@jupyter-widgets/base",
       "_view_module_version": "1.2.0",
       "_view_name": "StyleView",
       "description_width": ""
      }
     },
     "03c5441a61184ba880f474856fe5a010": {
      "model_module": "@jupyter-widgets/controls",
      "model_module_version": "1.5.0",
      "model_name": "HTMLModel",
      "state": {
       "_dom_classes": [],
       "_model_module": "@jupyter-widgets/controls",
       "_model_module_version": "1.5.0",
       "_model_name": "HTMLModel",
       "_view_count": null,
       "_view_module": "@jupyter-widgets/controls",
       "_view_module_version": "1.5.0",
       "_view_name": "HTMLView",
       "description": "",
       "description_tooltip": null,
       "layout": "IPY_MODEL_3ea74b4ff8a6461b85895d38b3a04868",
       "placeholder": "​",
       "style": "IPY_MODEL_5b783ec26abb40aaa6725de42330a6ca",
       "value": " 34497/34497 [01:06&lt;00:00, 522.35it/s]"
      }
     },
     "15a9379196e94dfdbe84f7cc357ae618": {
      "model_module": "@jupyter-widgets/controls",
      "model_module_version": "1.5.0",
      "model_name": "DescriptionStyleModel",
      "state": {
       "_model_module": "@jupyter-widgets/controls",
       "_model_module_version": "1.5.0",
       "_model_name": "DescriptionStyleModel",
       "_view_count": null,
       "_view_module": "@jupyter-widgets/base",
       "_view_module_version": "1.2.0",
       "_view_name": "StyleView",
       "description_width": ""
      }
     },
     "2b643a079f2e4022bd3f02d45d4e57ca": {
      "model_module": "@jupyter-widgets/controls",
      "model_module_version": "1.5.0",
      "model_name": "HBoxModel",
      "state": {
       "_dom_classes": [],
       "_model_module": "@jupyter-widgets/controls",
       "_model_module_version": "1.5.0",
       "_model_name": "HBoxModel",
       "_view_count": null,
       "_view_module": "@jupyter-widgets/controls",
       "_view_module_version": "1.5.0",
       "_view_name": "HBoxView",
       "box_style": "",
       "children": [
        "IPY_MODEL_356eb38ef0ce493d91378ceb2cdb218c",
        "IPY_MODEL_6e61c2d53c694d4f9a95a338e5d31bed",
        "IPY_MODEL_03c5441a61184ba880f474856fe5a010"
       ],
       "layout": "IPY_MODEL_eae55929945a4c3198cff6869b84b037"
      }
     },
     "356eb38ef0ce493d91378ceb2cdb218c": {
      "model_module": "@jupyter-widgets/controls",
      "model_module_version": "1.5.0",
      "model_name": "HTMLModel",
      "state": {
       "_dom_classes": [],
       "_model_module": "@jupyter-widgets/controls",
       "_model_module_version": "1.5.0",
       "_model_name": "HTMLModel",
       "_view_count": null,
       "_view_module": "@jupyter-widgets/controls",
       "_view_module_version": "1.5.0",
       "_view_name": "HTMLView",
       "description": "",
       "description_tooltip": null,
       "layout": "IPY_MODEL_de6132467f6443d9a362dca3d0920722",
       "placeholder": "​",
       "style": "IPY_MODEL_b1572419288f498e877dda869ca9996c",
       "value": "100%"
      }
     },
     "3c6d9deea0b34d5d81a515d03882a79f": {
      "model_module": "@jupyter-widgets/controls",
      "model_module_version": "1.5.0",
      "model_name": "HBoxModel",
      "state": {
       "_dom_classes": [],
       "_model_module": "@jupyter-widgets/controls",
       "_model_module_version": "1.5.0",
       "_model_name": "HBoxModel",
       "_view_count": null,
       "_view_module": "@jupyter-widgets/controls",
       "_view_module_version": "1.5.0",
       "_view_name": "HBoxView",
       "box_style": "",
       "children": [
        "IPY_MODEL_d3cb7de59af14cd5bc7da467c76d74fe",
        "IPY_MODEL_902c40912cc7430ea72f2a1a4087d24e",
        "IPY_MODEL_d55562770df046e99f2c41e69024b0d8"
       ],
       "layout": "IPY_MODEL_4aa878eb55aa4584b20d8697845a8344"
      }
     },
     "3ea74b4ff8a6461b85895d38b3a04868": {
      "model_module": "@jupyter-widgets/base",
      "model_module_version": "1.2.0",
      "model_name": "LayoutModel",
      "state": {
       "_model_module": "@jupyter-widgets/base",
       "_model_module_version": "1.2.0",
       "_model_name": "LayoutModel",
       "_view_count": null,
       "_view_module": "@jupyter-widgets/base",
       "_view_module_version": "1.2.0",
       "_view_name": "LayoutView",
       "align_content": null,
       "align_items": null,
       "align_self": null,
       "border": null,
       "bottom": null,
       "display": null,
       "flex": null,
       "flex_flow": null,
       "grid_area": null,
       "grid_auto_columns": null,
       "grid_auto_flow": null,
       "grid_auto_rows": null,
       "grid_column": null,
       "grid_gap": null,
       "grid_row": null,
       "grid_template_areas": null,
       "grid_template_columns": null,
       "grid_template_rows": null,
       "height": null,
       "justify_content": null,
       "justify_items": null,
       "left": null,
       "margin": null,
       "max_height": null,
       "max_width": null,
       "min_height": null,
       "min_width": null,
       "object_fit": null,
       "object_position": null,
       "order": null,
       "overflow": null,
       "overflow_x": null,
       "overflow_y": null,
       "padding": null,
       "right": null,
       "top": null,
       "visibility": null,
       "width": null
      }
     },
     "4aa878eb55aa4584b20d8697845a8344": {
      "model_module": "@jupyter-widgets/base",
      "model_module_version": "1.2.0",
      "model_name": "LayoutModel",
      "state": {
       "_model_module": "@jupyter-widgets/base",
       "_model_module_version": "1.2.0",
       "_model_name": "LayoutModel",
       "_view_count": null,
       "_view_module": "@jupyter-widgets/base",
       "_view_module_version": "1.2.0",
       "_view_name": "LayoutView",
       "align_content": null,
       "align_items": null,
       "align_self": null,
       "border": null,
       "bottom": null,
       "display": null,
       "flex": null,
       "flex_flow": null,
       "grid_area": null,
       "grid_auto_columns": null,
       "grid_auto_flow": null,
       "grid_auto_rows": null,
       "grid_column": null,
       "grid_gap": null,
       "grid_row": null,
       "grid_template_areas": null,
       "grid_template_columns": null,
       "grid_template_rows": null,
       "height": null,
       "justify_content": null,
       "justify_items": null,
       "left": null,
       "margin": null,
       "max_height": null,
       "max_width": null,
       "min_height": null,
       "min_width": null,
       "object_fit": null,
       "object_position": null,
       "order": null,
       "overflow": null,
       "overflow_x": null,
       "overflow_y": null,
       "padding": null,
       "right": null,
       "top": null,
       "visibility": null,
       "width": null
      }
     },
     "4fea3e23be6e40c494683ff71d019e2e": {
      "model_module": "@jupyter-widgets/controls",
      "model_module_version": "1.5.0",
      "model_name": "ProgressStyleModel",
      "state": {
       "_model_module": "@jupyter-widgets/controls",
       "_model_module_version": "1.5.0",
       "_model_name": "ProgressStyleModel",
       "_view_count": null,
       "_view_module": "@jupyter-widgets/base",
       "_view_module_version": "1.2.0",
       "_view_name": "StyleView",
       "bar_color": null,
       "description_width": ""
      }
     },
     "5b783ec26abb40aaa6725de42330a6ca": {
      "model_module": "@jupyter-widgets/controls",
      "model_module_version": "1.5.0",
      "model_name": "DescriptionStyleModel",
      "state": {
       "_model_module": "@jupyter-widgets/controls",
       "_model_module_version": "1.5.0",
       "_model_name": "DescriptionStyleModel",
       "_view_count": null,
       "_view_module": "@jupyter-widgets/base",
       "_view_module_version": "1.2.0",
       "_view_name": "StyleView",
       "description_width": ""
      }
     },
     "6e61c2d53c694d4f9a95a338e5d31bed": {
      "model_module": "@jupyter-widgets/controls",
      "model_module_version": "1.5.0",
      "model_name": "FloatProgressModel",
      "state": {
       "_dom_classes": [],
       "_model_module": "@jupyter-widgets/controls",
       "_model_module_version": "1.5.0",
       "_model_name": "FloatProgressModel",
       "_view_count": null,
       "_view_module": "@jupyter-widgets/controls",
       "_view_module_version": "1.5.0",
       "_view_name": "ProgressView",
       "bar_style": "success",
       "description": "",
       "description_tooltip": null,
       "layout": "IPY_MODEL_c9d624a960494c499d12288dee32d453",
       "max": 34497.0,
       "min": 0.0,
       "orientation": "horizontal",
       "style": "IPY_MODEL_4fea3e23be6e40c494683ff71d019e2e",
       "value": 34497.0
      }
     },
     "852b53f5e88b4529ac0ef4638052005d": {
      "model_module": "@jupyter-widgets/controls",
      "model_module_version": "1.5.0",
      "model_name": "ProgressStyleModel",
      "state": {
       "_model_module": "@jupyter-widgets/controls",
       "_model_module_version": "1.5.0",
       "_model_name": "ProgressStyleModel",
       "_view_count": null,
       "_view_module": "@jupyter-widgets/base",
       "_view_module_version": "1.2.0",
       "_view_name": "StyleView",
       "bar_color": null,
       "description_width": ""
      }
     },
     "902c40912cc7430ea72f2a1a4087d24e": {
      "model_module": "@jupyter-widgets/controls",
      "model_module_version": "1.5.0",
      "model_name": "FloatProgressModel",
      "state": {
       "_dom_classes": [],
       "_model_module": "@jupyter-widgets/controls",
       "_model_module_version": "1.5.0",
       "_model_name": "FloatProgressModel",
       "_view_count": null,
       "_view_module": "@jupyter-widgets/controls",
       "_view_module_version": "1.5.0",
       "_view_name": "ProgressView",
       "bar_style": "success",
       "description": "",
       "description_tooltip": null,
       "layout": "IPY_MODEL_9ac56eba83df4ad387b56ef2684da326",
       "max": 3.0,
       "min": 0.0,
       "orientation": "horizontal",
       "style": "IPY_MODEL_852b53f5e88b4529ac0ef4638052005d",
       "value": 3.0
      }
     },
     "93061ed7657e432a973f93137a7df1d1": {
      "model_module": "@jupyter-widgets/base",
      "model_module_version": "1.2.0",
      "model_name": "LayoutModel",
      "state": {
       "_model_module": "@jupyter-widgets/base",
       "_model_module_version": "1.2.0",
       "_model_name": "LayoutModel",
       "_view_count": null,
       "_view_module": "@jupyter-widgets/base",
       "_view_module_version": "1.2.0",
       "_view_name": "LayoutView",
       "align_content": null,
       "align_items": null,
       "align_self": null,
       "border": null,
       "bottom": null,
       "display": null,
       "flex": null,
       "flex_flow": null,
       "grid_area": null,
       "grid_auto_columns": null,
       "grid_auto_flow": null,
       "grid_auto_rows": null,
       "grid_column": null,
       "grid_gap": null,
       "grid_row": null,
       "grid_template_areas": null,
       "grid_template_columns": null,
       "grid_template_rows": null,
       "height": null,
       "justify_content": null,
       "justify_items": null,
       "left": null,
       "margin": null,
       "max_height": null,
       "max_width": null,
       "min_height": null,
       "min_width": null,
       "object_fit": null,
       "object_position": null,
       "order": null,
       "overflow": null,
       "overflow_x": null,
       "overflow_y": null,
       "padding": null,
       "right": null,
       "top": null,
       "visibility": null,
       "width": null
      }
     },
     "9ac56eba83df4ad387b56ef2684da326": {
      "model_module": "@jupyter-widgets/base",
      "model_module_version": "1.2.0",
      "model_name": "LayoutModel",
      "state": {
       "_model_module": "@jupyter-widgets/base",
       "_model_module_version": "1.2.0",
       "_model_name": "LayoutModel",
       "_view_count": null,
       "_view_module": "@jupyter-widgets/base",
       "_view_module_version": "1.2.0",
       "_view_name": "LayoutView",
       "align_content": null,
       "align_items": null,
       "align_self": null,
       "border": null,
       "bottom": null,
       "display": null,
       "flex": null,
       "flex_flow": null,
       "grid_area": null,
       "grid_auto_columns": null,
       "grid_auto_flow": null,
       "grid_auto_rows": null,
       "grid_column": null,
       "grid_gap": null,
       "grid_row": null,
       "grid_template_areas": null,
       "grid_template_columns": null,
       "grid_template_rows": null,
       "height": null,
       "justify_content": null,
       "justify_items": null,
       "left": null,
       "margin": null,
       "max_height": null,
       "max_width": null,
       "min_height": null,
       "min_width": null,
       "object_fit": null,
       "object_position": null,
       "order": null,
       "overflow": null,
       "overflow_x": null,
       "overflow_y": null,
       "padding": null,
       "right": null,
       "top": null,
       "visibility": null,
       "width": null
      }
     },
     "b1572419288f498e877dda869ca9996c": {
      "model_module": "@jupyter-widgets/controls",
      "model_module_version": "1.5.0",
      "model_name": "DescriptionStyleModel",
      "state": {
       "_model_module": "@jupyter-widgets/controls",
       "_model_module_version": "1.5.0",
       "_model_name": "DescriptionStyleModel",
       "_view_count": null,
       "_view_module": "@jupyter-widgets/base",
       "_view_module_version": "1.2.0",
       "_view_name": "StyleView",
       "description_width": ""
      }
     },
     "c8b1d91e9db749739ff3f03e866b89ae": {
      "model_module": "@jupyter-widgets/base",
      "model_module_version": "1.2.0",
      "model_name": "LayoutModel",
      "state": {
       "_model_module": "@jupyter-widgets/base",
       "_model_module_version": "1.2.0",
       "_model_name": "LayoutModel",
       "_view_count": null,
       "_view_module": "@jupyter-widgets/base",
       "_view_module_version": "1.2.0",
       "_view_name": "LayoutView",
       "align_content": null,
       "align_items": null,
       "align_self": null,
       "border": null,
       "bottom": null,
       "display": null,
       "flex": null,
       "flex_flow": null,
       "grid_area": null,
       "grid_auto_columns": null,
       "grid_auto_flow": null,
       "grid_auto_rows": null,
       "grid_column": null,
       "grid_gap": null,
       "grid_row": null,
       "grid_template_areas": null,
       "grid_template_columns": null,
       "grid_template_rows": null,
       "height": null,
       "justify_content": null,
       "justify_items": null,
       "left": null,
       "margin": null,
       "max_height": null,
       "max_width": null,
       "min_height": null,
       "min_width": null,
       "object_fit": null,
       "object_position": null,
       "order": null,
       "overflow": null,
       "overflow_x": null,
       "overflow_y": null,
       "padding": null,
       "right": null,
       "top": null,
       "visibility": null,
       "width": null
      }
     },
     "c9d624a960494c499d12288dee32d453": {
      "model_module": "@jupyter-widgets/base",
      "model_module_version": "1.2.0",
      "model_name": "LayoutModel",
      "state": {
       "_model_module": "@jupyter-widgets/base",
       "_model_module_version": "1.2.0",
       "_model_name": "LayoutModel",
       "_view_count": null,
       "_view_module": "@jupyter-widgets/base",
       "_view_module_version": "1.2.0",
       "_view_name": "LayoutView",
       "align_content": null,
       "align_items": null,
       "align_self": null,
       "border": null,
       "bottom": null,
       "display": null,
       "flex": null,
       "flex_flow": null,
       "grid_area": null,
       "grid_auto_columns": null,
       "grid_auto_flow": null,
       "grid_auto_rows": null,
       "grid_column": null,
       "grid_gap": null,
       "grid_row": null,
       "grid_template_areas": null,
       "grid_template_columns": null,
       "grid_template_rows": null,
       "height": null,
       "justify_content": null,
       "justify_items": null,
       "left": null,
       "margin": null,
       "max_height": null,
       "max_width": null,
       "min_height": null,
       "min_width": null,
       "object_fit": null,
       "object_position": null,
       "order": null,
       "overflow": null,
       "overflow_x": null,
       "overflow_y": null,
       "padding": null,
       "right": null,
       "top": null,
       "visibility": null,
       "width": null
      }
     },
     "d3cb7de59af14cd5bc7da467c76d74fe": {
      "model_module": "@jupyter-widgets/controls",
      "model_module_version": "1.5.0",
      "model_name": "HTMLModel",
      "state": {
       "_dom_classes": [],
       "_model_module": "@jupyter-widgets/controls",
       "_model_module_version": "1.5.0",
       "_model_name": "HTMLModel",
       "_view_count": null,
       "_view_module": "@jupyter-widgets/controls",
       "_view_module_version": "1.5.0",
       "_view_name": "HTMLView",
       "description": "",
       "description_tooltip": null,
       "layout": "IPY_MODEL_c8b1d91e9db749739ff3f03e866b89ae",
       "placeholder": "​",
       "style": "IPY_MODEL_026fe63b5c8f46848dc42f0976e06ca7",
       "value": "100%"
      }
     },
     "d55562770df046e99f2c41e69024b0d8": {
      "model_module": "@jupyter-widgets/controls",
      "model_module_version": "1.5.0",
      "model_name": "HTMLModel",
      "state": {
       "_dom_classes": [],
       "_model_module": "@jupyter-widgets/controls",
       "_model_module_version": "1.5.0",
       "_model_name": "HTMLModel",
       "_view_count": null,
       "_view_module": "@jupyter-widgets/controls",
       "_view_module_version": "1.5.0",
       "_view_name": "HTMLView",
       "description": "",
       "description_tooltip": null,
       "layout": "IPY_MODEL_93061ed7657e432a973f93137a7df1d1",
       "placeholder": "​",
       "style": "IPY_MODEL_15a9379196e94dfdbe84f7cc357ae618",
       "value": " 3/3 [00:00&lt;00:00, 156.72it/s]"
      }
     },
     "de6132467f6443d9a362dca3d0920722": {
      "model_module": "@jupyter-widgets/base",
      "model_module_version": "1.2.0",
      "model_name": "LayoutModel",
      "state": {
       "_model_module": "@jupyter-widgets/base",
       "_model_module_version": "1.2.0",
       "_model_name": "LayoutModel",
       "_view_count": null,
       "_view_module": "@jupyter-widgets/base",
       "_view_module_version": "1.2.0",
       "_view_name": "LayoutView",
       "align_content": null,
       "align_items": null,
       "align_self": null,
       "border": null,
       "bottom": null,
       "display": null,
       "flex": null,
       "flex_flow": null,
       "grid_area": null,
       "grid_auto_columns": null,
       "grid_auto_flow": null,
       "grid_auto_rows": null,
       "grid_column": null,
       "grid_gap": null,
       "grid_row": null,
       "grid_template_areas": null,
       "grid_template_columns": null,
       "grid_template_rows": null,
       "height": null,
       "justify_content": null,
       "justify_items": null,
       "left": null,
       "margin": null,
       "max_height": null,
       "max_width": null,
       "min_height": null,
       "min_width": null,
       "object_fit": null,
       "object_position": null,
       "order": null,
       "overflow": null,
       "overflow_x": null,
       "overflow_y": null,
       "padding": null,
       "right": null,
       "top": null,
       "visibility": null,
       "width": null
      }
     },
     "eae55929945a4c3198cff6869b84b037": {
      "model_module": "@jupyter-widgets/base",
      "model_module_version": "1.2.0",
      "model_name": "LayoutModel",
      "state": {
       "_model_module": "@jupyter-widgets/base",
       "_model_module_version": "1.2.0",
       "_model_name": "LayoutModel",
       "_view_count": null,
       "_view_module": "@jupyter-widgets/base",
       "_view_module_version": "1.2.0",
       "_view_name": "LayoutView",
       "align_content": null,
       "align_items": null,
       "align_self": null,
       "border": null,
       "bottom": null,
       "display": null,
       "flex": null,
       "flex_flow": null,
       "grid_area": null,
       "grid_auto_columns": null,
       "grid_auto_flow": null,
       "grid_auto_rows": null,
       "grid_column": null,
       "grid_gap": null,
       "grid_row": null,
       "grid_template_areas": null,
       "grid_template_columns": null,
       "grid_template_rows": null,
       "height": null,
       "justify_content": null,
       "justify_items": null,
       "left": null,
       "margin": null,
       "max_height": null,
       "max_width": null,
       "min_height": null,
       "min_width": null,
       "object_fit": null,
       "object_position": null,
       "order": null,
       "overflow": null,
       "overflow_x": null,
       "overflow_y": null,
       "padding": null,
       "right": null,
       "top": null,
       "visibility": null,
       "width": null
      }
     }
    },
    "version_major": 2,
    "version_minor": 0
   }
  }
 },
 "nbformat": 4,
 "nbformat_minor": 5
}

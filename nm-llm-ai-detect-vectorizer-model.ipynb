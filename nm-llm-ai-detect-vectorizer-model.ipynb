{
 "cells": [
  {
   "cell_type": "markdown",
   "id": "a686b0ac",
   "metadata": {
    "papermill": {
     "duration": 0.011444,
     "end_time": "2023-12-17T04:29:48.033476",
     "exception": false,
     "start_time": "2023-12-17T04:29:48.022032",
     "status": "completed"
    },
    "tags": []
   },
   "source": [
    "# Credit\n",
    "\n",
    "BPE Encoding based custom tokenizer by @datafan07\n",
    "\n",
    "Ertuğrul Demir - https://www.kaggle.com/code/datafan07/train-your-own-tokenizer\n",
    "\n",
    "Dataset: Augmented dataset by @jdragonxherrera https://www.kaggle.com/competitions/llm-detect-ai-generated-text/discussion/456729\n",
    "\n",
    "Fork from https://www.kaggle.com/code/xiaocao123/ai-generated-text-detection-add-new-data\n",
    "\n",
    "https://www.kaggle.com/code/rsuhara/ai-generated-text-detection-quick-baseline\n",
    "\n",
    "Inspired by VLADIMIR DEMIDOV's work : <br>\n",
    "https://www.kaggle.com/code/yekenot/llm-detect-by-regression <br>\n",
    "https://www.kaggle.com/code/x75a40890/ai-generated-text-detection-quick-baseline\n",
    "\n",
    "Using new train dataset https://www.kaggle.com/datasets/thedrcat/daigt-v2-train-dataset/\n",
    "\n",
    "@chenbaoying\n",
    "https://www.kaggle.com/code/chenbaoying/0-911-ai-generated-text-detection-test-feature#Voting-Classifier\n",
    "\n",
    "And for all others who contributed through discussions/codes"
   ]
  },
  {
   "cell_type": "markdown",
   "id": "a9598d80",
   "metadata": {
    "papermill": {
     "duration": 0.010812,
     "end_time": "2023-12-17T04:29:48.055674",
     "exception": false,
     "start_time": "2023-12-17T04:29:48.044862",
     "status": "completed"
    },
    "tags": []
   },
   "source": [
    "# Importing library"
   ]
  },
  {
   "cell_type": "code",
   "execution_count": 1,
   "id": "37504ea5",
   "metadata": {
    "execution": {
     "iopub.execute_input": "2023-12-17T04:29:48.080752Z",
     "iopub.status.busy": "2023-12-17T04:29:48.079988Z",
     "iopub.status.idle": "2023-12-17T04:29:51.865674Z",
     "shell.execute_reply": "2023-12-17T04:29:51.864550Z"
    },
    "papermill": {
     "duration": 3.801468,
     "end_time": "2023-12-17T04:29:51.868353",
     "exception": false,
     "start_time": "2023-12-17T04:29:48.066885",
     "status": "completed"
    },
    "tags": []
   },
   "outputs": [],
   "source": [
    "import numpy as np\n",
    "import pandas as pd\n",
    "from sklearn.linear_model import LogisticRegression\n",
    "from sklearn.naive_bayes import MultinomialNB\n",
    "from sklearn.feature_extraction.text import TfidfVectorizer\n",
    "from sklearn.ensemble import VotingClassifier\n",
    "from sklearn.linear_model import SGDClassifier \n",
    "\n",
    "from sklearn.model_selection import train_test_split\n",
    "from sklearn.metrics import accuracy_score, roc_auc_score\n",
    "from sklearn.model_selection import GridSearchCV\n",
    "from sklearn.metrics import make_scorer, accuracy_score\n",
    "import random,os,sys\n",
    "from concurrent.futures import ProcessPoolExecutor\n",
    "import re\n",
    "import joblib\n",
    "\n",
    "from sklearn.linear_model import SGDOneClassSVM\n",
    "from sklearn.svm import OneClassSVM\n",
    "from sklearn.ensemble import IsolationForest\n",
    "from sklearn.neighbors import LocalOutlierFactor\n",
    "from sklearn.covariance import EllipticEnvelope\n",
    "\n",
    "import xgboost as xgb\n",
    "import catboost as ctb\n",
    "import lightgbm as lgb\n",
    "from lightgbm import LGBMClassifier\n",
    "from catboost import  CatBoostClassifier"
   ]
  },
  {
   "cell_type": "code",
   "execution_count": 2,
   "id": "4b0141da",
   "metadata": {
    "execution": {
     "iopub.execute_input": "2023-12-17T04:29:51.893518Z",
     "iopub.status.busy": "2023-12-17T04:29:51.893144Z",
     "iopub.status.idle": "2023-12-17T04:29:57.059327Z",
     "shell.execute_reply": "2023-12-17T04:29:57.058521Z"
    },
    "papermill": {
     "duration": 5.18077,
     "end_time": "2023-12-17T04:29:57.061704",
     "exception": false,
     "start_time": "2023-12-17T04:29:51.880934",
     "status": "completed"
    },
    "tags": []
   },
   "outputs": [],
   "source": [
    "import sys\n",
    "import gc\n",
    "\n",
    "import pandas as pd\n",
    "from sklearn.model_selection import StratifiedKFold\n",
    "import numpy as np\n",
    "from sklearn.metrics import roc_auc_score\n",
    "import numpy as np\n",
    "\n",
    "from sklearn.feature_extraction.text import TfidfVectorizer\n",
    "\n",
    "from tokenizers import (\n",
    "    decoders,\n",
    "    models,\n",
    "    normalizers,\n",
    "    pre_tokenizers,\n",
    "    processors,\n",
    "    trainers,\n",
    "    Tokenizer,\n",
    ")\n",
    "\n",
    "from datasets import Dataset\n",
    "from tqdm.auto import tqdm\n",
    "from transformers import PreTrainedTokenizerFast"
   ]
  },
  {
   "cell_type": "code",
   "execution_count": 3,
   "id": "d5de12d0",
   "metadata": {
    "execution": {
     "iopub.execute_input": "2023-12-17T04:29:57.086710Z",
     "iopub.status.busy": "2023-12-17T04:29:57.085970Z",
     "iopub.status.idle": "2023-12-17T04:29:57.091328Z",
     "shell.execute_reply": "2023-12-17T04:29:57.090344Z"
    },
    "papermill": {
     "duration": 0.01982,
     "end_time": "2023-12-17T04:29:57.093388",
     "exception": false,
     "start_time": "2023-12-17T04:29:57.073568",
     "status": "completed"
    },
    "tags": []
   },
   "outputs": [],
   "source": [
    "random.seed(42)\n",
    "np.random.seed(42)\n",
    "debug=False\n",
    "pseudo=False\n",
    "LOWERCASE = False\n",
    "VOCAB_SIZE = 30522"
   ]
  },
  {
   "cell_type": "code",
   "execution_count": 4,
   "id": "8b3d2b55",
   "metadata": {
    "execution": {
     "iopub.execute_input": "2023-12-17T04:29:57.116649Z",
     "iopub.status.busy": "2023-12-17T04:29:57.116288Z",
     "iopub.status.idle": "2023-12-17T04:29:57.120347Z",
     "shell.execute_reply": "2023-12-17T04:29:57.119344Z"
    },
    "papermill": {
     "duration": 0.018021,
     "end_time": "2023-12-17T04:29:57.122362",
     "exception": false,
     "start_time": "2023-12-17T04:29:57.104341",
     "status": "completed"
    },
    "tags": []
   },
   "outputs": [],
   "source": [
    "# !pip install -q language-tool-python --no-index --find-links ../input/daigt-misc/\n",
    "# !mkdir -p /root/.cache/language_tool_python/\n",
    "# !cp -r /kaggle/input/daigt-misc/lang57/LanguageTool-5.7 /root/.cache/language_tool_python/LanguageTool-5.7\n",
    "# import language_tool_python\n",
    "# tool = language_tool_python.LanguageTool('en-US')"
   ]
  },
  {
   "cell_type": "markdown",
   "id": "24c83dd1",
   "metadata": {
    "papermill": {
     "duration": 0.011143,
     "end_time": "2023-12-17T04:29:57.144777",
     "exception": false,
     "start_time": "2023-12-17T04:29:57.133634",
     "status": "completed"
    },
    "tags": []
   },
   "source": [
    "# Importing files and Feature Engineering"
   ]
  },
  {
   "cell_type": "code",
   "execution_count": 5,
   "id": "b15461b5",
   "metadata": {
    "execution": {
     "iopub.execute_input": "2023-12-17T04:29:57.168903Z",
     "iopub.status.busy": "2023-12-17T04:29:57.168244Z",
     "iopub.status.idle": "2023-12-17T04:29:57.173605Z",
     "shell.execute_reply": "2023-12-17T04:29:57.172675Z"
    },
    "papermill": {
     "duration": 0.019738,
     "end_time": "2023-12-17T04:29:57.175685",
     "exception": false,
     "start_time": "2023-12-17T04:29:57.155947",
     "status": "completed"
    },
    "tags": []
   },
   "outputs": [],
   "source": [
    "# def denoise_text(text):\n",
    "#     # Assuming 'tool' is defined elsewhere in your code\n",
    "#     corrected_text = tool.correct(text)\n",
    "#     return corrected_text\n",
    "\n",
    "# # Function to correct the 'text' column of a DataFrame or Series in parallel\n",
    "# def correct_df(input_data):\n",
    "#     if isinstance(input_data, pd.DataFrame):\n",
    "#         # If input is a DataFrame, correct the 'text' column\n",
    "#         with ProcessPoolExecutor() as executor:\n",
    "#             input_data['text'] = list(executor.map(denoise_text, input_data['text']))\n",
    "#     elif isinstance(input_data, pd.Series):\n",
    "#         # If input is a Series, correct the series\n",
    "#         with ProcessPoolExecutor() as executor:\n",
    "#             input_data = list(executor.map(denoise_text, input_data)) \n",
    "#     return input_data"
   ]
  },
  {
   "cell_type": "code",
   "execution_count": 6,
   "id": "544d8473",
   "metadata": {
    "execution": {
     "iopub.execute_input": "2023-12-17T04:29:57.199266Z",
     "iopub.status.busy": "2023-12-17T04:29:57.198899Z",
     "iopub.status.idle": "2023-12-17T04:29:57.204007Z",
     "shell.execute_reply": "2023-12-17T04:29:57.202782Z"
    },
    "papermill": {
     "duration": 0.019464,
     "end_time": "2023-12-17T04:29:57.206107",
     "exception": false,
     "start_time": "2023-12-17T04:29:57.186643",
     "status": "completed"
    },
    "tags": []
   },
   "outputs": [],
   "source": [
    "# import spacy\n",
    "\n",
    "# import torch\n",
    "# from transformers import AutoTokenizer, AutoModelForSeq2SeqLM\n",
    "\n",
    "# from collections import Counter\n",
    "\n",
    "# from tqdm import tqdm\n",
    "\n",
    "\n",
    "# @torch.no_grad()\n",
    "# def clean_essay(text): \n",
    "#     doc = nlp(text)\n",
    "#     inputs = tokenizer([s.text for s in doc.sents], truncation=True, padding=True, return_tensors=\"pt\")\n",
    "#     outputs = deobfuscator.generate(inputs.input_ids.to(DEVICE), max_length=300)\n",
    "#     sents = tokenizer.batch_decode(outputs, skip_special_tokens=True)\n",
    "#     return \" \".join([s.strip() for s in sents])\n",
    "\n",
    "\n",
    "# MODEL_PATH = \"/kaggle/input/essay-gec/deobfuscator-v1\"\n",
    "# DEVICE = \"cuda:0\"\n",
    "\n",
    "# tokenizer = AutoTokenizer.from_pretrained(MODEL_PATH)\n",
    "# deobfuscator = AutoModelForSeq2SeqLM.from_pretrained(MODEL_PATH).to(DEVICE).eval()\n",
    "\n",
    "# nlp = spacy.load(\"en_core_web_sm\")"
   ]
  },
  {
   "cell_type": "code",
   "execution_count": 7,
   "id": "df22bea7",
   "metadata": {
    "execution": {
     "iopub.execute_input": "2023-12-17T04:29:57.229685Z",
     "iopub.status.busy": "2023-12-17T04:29:57.229312Z",
     "iopub.status.idle": "2023-12-17T04:29:57.233693Z",
     "shell.execute_reply": "2023-12-17T04:29:57.232563Z"
    },
    "papermill": {
     "duration": 0.018666,
     "end_time": "2023-12-17T04:29:57.235728",
     "exception": false,
     "start_time": "2023-12-17T04:29:57.217062",
     "status": "completed"
    },
    "tags": []
   },
   "outputs": [],
   "source": [
    "# trainx = pd.read_csv('/kaggle/input/daigt-v2-trainessays-cleaned/daigt-v2-train-cleaned.csv')\n",
    "\n",
    "# train1 = pd.read_csv(\"/kaggle/input/daigt-v2-train-dataset/train_v2_drcat_02.csv\", sep=',')\n",
    "# train1 = train1.drop_duplicates(subset=['text'])\n",
    "# train1.reset_index(drop=True, inplace=True)"
   ]
  },
  {
   "cell_type": "code",
   "execution_count": 8,
   "id": "29749544",
   "metadata": {
    "execution": {
     "iopub.execute_input": "2023-12-17T04:29:57.259316Z",
     "iopub.status.busy": "2023-12-17T04:29:57.258925Z",
     "iopub.status.idle": "2023-12-17T04:29:57.263199Z",
     "shell.execute_reply": "2023-12-17T04:29:57.262134Z"
    },
    "papermill": {
     "duration": 0.018532,
     "end_time": "2023-12-17T04:29:57.265198",
     "exception": false,
     "start_time": "2023-12-17T04:29:57.246666",
     "status": "completed"
    },
    "tags": []
   },
   "outputs": [],
   "source": [
    "# train1 = pd.read_csv(\"/kaggle/input/llm-ai-detect-dataset-with-typos-2/daigt-v2-test-dataset-with-12%-typos-introduced.csv\", sep=',')\n",
    "# train1 = train1.drop_duplicates(subset=['text'])\n",
    "# train1.reset_index(drop=True, inplace=True)"
   ]
  },
  {
   "cell_type": "code",
   "execution_count": 9,
   "id": "c860f635",
   "metadata": {
    "execution": {
     "iopub.execute_input": "2023-12-17T04:29:57.288772Z",
     "iopub.status.busy": "2023-12-17T04:29:57.288401Z",
     "iopub.status.idle": "2023-12-17T04:29:57.292806Z",
     "shell.execute_reply": "2023-12-17T04:29:57.291866Z"
    },
    "papermill": {
     "duration": 0.018607,
     "end_time": "2023-12-17T04:29:57.294777",
     "exception": false,
     "start_time": "2023-12-17T04:29:57.276170",
     "status": "completed"
    },
    "tags": []
   },
   "outputs": [],
   "source": [
    "# train1 = pd.read_csv(\"/kaggle/input/llm-ai-detect-dataset-5/augmented-typos-introduced-ds5.csv\", sep=',')\n",
    "# train1 = train1.drop_duplicates(subset=['text'])\n",
    "# train1.reset_index(drop=True, inplace=True)"
   ]
  },
  {
   "cell_type": "code",
   "execution_count": 10,
   "id": "4050b13a",
   "metadata": {
    "execution": {
     "iopub.execute_input": "2023-12-17T04:29:57.317945Z",
     "iopub.status.busy": "2023-12-17T04:29:57.317585Z",
     "iopub.status.idle": "2023-12-17T04:29:59.702769Z",
     "shell.execute_reply": "2023-12-17T04:29:59.701677Z"
    },
    "papermill": {
     "duration": 2.399852,
     "end_time": "2023-12-17T04:29:59.705498",
     "exception": false,
     "start_time": "2023-12-17T04:29:57.305646",
     "status": "completed"
    },
    "tags": []
   },
   "outputs": [],
   "source": [
    "train1 = pd.read_csv(\"/kaggle/input/daigt-v2-trainessays-cleaned/daigt-v2-train-cleaned.csv\", sep=',')\n",
    "train1 = train1.drop_duplicates(subset=['text'])\n",
    "train1.reset_index(drop=True, inplace=True)"
   ]
  },
  {
   "cell_type": "code",
   "execution_count": 11,
   "id": "32a74b44",
   "metadata": {
    "execution": {
     "iopub.execute_input": "2023-12-17T04:29:59.729904Z",
     "iopub.status.busy": "2023-12-17T04:29:59.729494Z",
     "iopub.status.idle": "2023-12-17T04:29:59.734249Z",
     "shell.execute_reply": "2023-12-17T04:29:59.733282Z"
    },
    "papermill": {
     "duration": 0.019365,
     "end_time": "2023-12-17T04:29:59.736421",
     "exception": false,
     "start_time": "2023-12-17T04:29:59.717056",
     "status": "completed"
    },
    "tags": []
   },
   "outputs": [],
   "source": [
    "# ## credit @nbroad\n",
    "# not_persuade_df = trainx[trainx['source'] != 'persuade_corpus']\n",
    "# persuade_df = trainx[trainx['source'] == 'persuade_corpus']\n",
    "# sampled_persuade_df = persuade_df.sample(n=6000, random_state=42) \n",
    "# all_human = set(list(''.join(sampled_persuade_df.text.to_list())))\n",
    "# other = set(list(''.join(not_persuade_df.text.to_list())))\n",
    "# chars_to_remove = ''.join([x for x in other if x not in all_human])\n",
    "# print(chars_to_remove)\n",
    "\n",
    "# translation_table = str.maketrans('', '', chars_to_remove)\n",
    "# def remove_chars(s):\n",
    "#     return s.translate(translation_table)  \n",
    "\n",
    "# trainx['text'] = trainx['text'].str.replace('\\n', '') \n",
    "# trainx['text'] = trainx['text'].apply(remove_chars) "
   ]
  },
  {
   "cell_type": "code",
   "execution_count": 12,
   "id": "902c5190",
   "metadata": {
    "execution": {
     "iopub.execute_input": "2023-12-17T04:29:59.760372Z",
     "iopub.status.busy": "2023-12-17T04:29:59.760008Z",
     "iopub.status.idle": "2023-12-17T04:29:59.764400Z",
     "shell.execute_reply": "2023-12-17T04:29:59.763452Z"
    },
    "papermill": {
     "duration": 0.018547,
     "end_time": "2023-12-17T04:29:59.766351",
     "exception": false,
     "start_time": "2023-12-17T04:29:59.747804",
     "status": "completed"
    },
    "tags": []
   },
   "outputs": [],
   "source": [
    "# # train = pd.read_csv('/kaggle/input/daigt-v2-train-dataset/train_v2_drcat_02.csv')\n",
    "# # train1 = pd.read_csv('/kaggle/input/llm-ai-detect-dataset-5/augmented-typos-introduced-ds5.csv')  # 15% typos on label==0 alone\n",
    "# # # train1 = pd.read_csv(\"/kaggle/input/llm-ai-detect-dataset-with-typos-2/daigt-v2-test-dataset-with-12%-typos-introduced.csv\") #12% typos on both labels\n",
    "# train2 = pd.read_csv('/kaggle/input/llm-detect-ai-generated-text/train_essays.csv')\n",
    "# train2.rename(columns={'generated':'label'},inplace=True)  \n",
    "# trainz = pd.concat([trainx,train2])\n",
    "\n",
    "# trainz['text'] = trainz['text'].str.replace('\\n', '')  \n",
    "# train1 = trainz.copy()\n",
    "# train1.label.value_counts() "
   ]
  },
  {
   "cell_type": "code",
   "execution_count": 13,
   "id": "70d4d64d",
   "metadata": {
    "execution": {
     "iopub.execute_input": "2023-12-17T04:29:59.790165Z",
     "iopub.status.busy": "2023-12-17T04:29:59.789814Z",
     "iopub.status.idle": "2023-12-17T04:29:59.801233Z",
     "shell.execute_reply": "2023-12-17T04:29:59.800377Z"
    },
    "papermill": {
     "duration": 0.025747,
     "end_time": "2023-12-17T04:29:59.803301",
     "exception": false,
     "start_time": "2023-12-17T04:29:59.777554",
     "status": "completed"
    },
    "tags": []
   },
   "outputs": [],
   "source": [
    "if debug:\n",
    "#     train1 = train1.sample(2000)\n",
    "    test = train1[train1.prompt_name=='Car-free cities']\n",
    "    train = train1.drop(test.index)\n",
    "else:\n",
    "    train = train1.copy()\n",
    "    test = pd.read_csv('/kaggle/input/llm-detect-ai-generated-text/test_essays.csv')\n",
    "#     test['text'] = test['text'].str.replace('\\n', '') \n",
    "#     test['text'] = test['text'].apply(remove_chars)  \n",
    "#     correct_df(test)"
   ]
  },
  {
   "cell_type": "code",
   "execution_count": 14,
   "id": "1a54ad35",
   "metadata": {
    "execution": {
     "iopub.execute_input": "2023-12-17T04:29:59.827432Z",
     "iopub.status.busy": "2023-12-17T04:29:59.826840Z",
     "iopub.status.idle": "2023-12-17T04:29:59.831449Z",
     "shell.execute_reply": "2023-12-17T04:29:59.830625Z"
    },
    "papermill": {
     "duration": 0.01904,
     "end_time": "2023-12-17T04:29:59.833505",
     "exception": false,
     "start_time": "2023-12-17T04:29:59.814465",
     "status": "completed"
    },
    "tags": []
   },
   "outputs": [],
   "source": [
    "\n",
    "# test = pd.read_csv('/kaggle/input/llm-detect-ai-generated-text/test_essays.csv')\n",
    "# test['text'] = test['text'].str.replace('\\n', '')  \n",
    "# correct_df(test)"
   ]
  },
  {
   "cell_type": "code",
   "execution_count": 15,
   "id": "b190b8a6",
   "metadata": {
    "execution": {
     "iopub.execute_input": "2023-12-17T04:29:59.857521Z",
     "iopub.status.busy": "2023-12-17T04:29:59.857168Z",
     "iopub.status.idle": "2023-12-17T04:29:59.861746Z",
     "shell.execute_reply": "2023-12-17T04:29:59.860630Z"
    },
    "papermill": {
     "duration": 0.01923,
     "end_time": "2023-12-17T04:29:59.863859",
     "exception": false,
     "start_time": "2023-12-17T04:29:59.844629",
     "status": "completed"
    },
    "tags": []
   },
   "outputs": [],
   "source": [
    "# clean_texts = []\n",
    "# for i, r in tqdm(test.iterrows(), total=len(test)):\n",
    "#     clean_texts.append(clean_essay(r.text))\n",
    "# test[\"text\"] = clean_texts\n",
    "\n",
    "# del deobfuscator\n",
    "# torch.cuda.empty_cache()"
   ]
  },
  {
   "cell_type": "code",
   "execution_count": 16,
   "id": "2ab67d99",
   "metadata": {
    "execution": {
     "iopub.execute_input": "2023-12-17T04:29:59.887428Z",
     "iopub.status.busy": "2023-12-17T04:29:59.887074Z",
     "iopub.status.idle": "2023-12-17T04:29:59.891091Z",
     "shell.execute_reply": "2023-12-17T04:29:59.890078Z"
    },
    "papermill": {
     "duration": 0.018321,
     "end_time": "2023-12-17T04:29:59.893084",
     "exception": false,
     "start_time": "2023-12-17T04:29:59.874763",
     "status": "completed"
    },
    "tags": []
   },
   "outputs": [],
   "source": [
    "# trainx = train.groupby('label').apply(lambda x: x.sample(1000, random_state=42)).reset_index(drop=True)\n",
    "# data = pd.DataFrame()\n",
    "# data['text'] = pd.concat([test['text'],trainx['text']])"
   ]
  },
  {
   "cell_type": "code",
   "execution_count": 17,
   "id": "15b106af",
   "metadata": {
    "execution": {
     "iopub.execute_input": "2023-12-17T04:29:59.971506Z",
     "iopub.status.busy": "2023-12-17T04:29:59.971142Z",
     "iopub.status.idle": "2023-12-17T04:32:09.275918Z",
     "shell.execute_reply": "2023-12-17T04:32:09.274677Z"
    },
    "papermill": {
     "duration": 129.374153,
     "end_time": "2023-12-17T04:32:09.278140",
     "exception": false,
     "start_time": "2023-12-17T04:29:59.903987",
     "status": "completed"
    },
    "tags": []
   },
   "outputs": [
    {
     "name": "stdout",
     "output_type": "stream",
     "text": [
      "\n",
      "\n",
      "\n"
     ]
    },
    {
     "data": {
      "application/vnd.jupyter.widget-view+json": {
       "model_id": "c1f5249bc0574127b29a6e35385ffda1",
       "version_major": 2,
       "version_minor": 0
      },
      "text/plain": [
       "  0%|          | 0/3 [00:00<?, ?it/s]"
      ]
     },
     "metadata": {},
     "output_type": "display_data"
    },
    {
     "data": {
      "application/vnd.jupyter.widget-view+json": {
       "model_id": "2b2c8ae3a4de49c4b35116fb358aadac",
       "version_major": 2,
       "version_minor": 0
      },
      "text/plain": [
       "  0%|          | 0/44868 [00:00<?, ?it/s]"
      ]
     },
     "metadata": {},
     "output_type": "display_data"
    }
   ],
   "source": [
    "# Creating Byte-Pair Encoding tokenizer\n",
    "raw_tokenizer = Tokenizer(models.BPE(unk_token=\"[UNK]\"))\n",
    "\n",
    "\n",
    "# Adding normalization and pre_tokenizer\n",
    "raw_tokenizer.normalizer = normalizers.Sequence([normalizers.NFC()] + [normalizers.Lowercase()] if LOWERCASE else [])\n",
    "raw_tokenizer.pre_tokenizer = pre_tokenizers.ByteLevel()\n",
    "\n",
    "# Adding special tokens and creating trainer instance\n",
    "special_tokens = [\"[UNK]\", \"[PAD]\", \"[CLS]\", \"[SEP]\", \"[MASK]\"]\n",
    "trainer = trainers.BpeTrainer(vocab_size=VOCAB_SIZE, special_tokens=special_tokens) \n",
    "\n",
    "# Creating huggingface dataset object\n",
    "dataset = Dataset.from_pandas(test[['text']]) \n",
    "\n",
    "def train_corp_iter():\n",
    "    \"\"\"\n",
    "    A generator function for iterating over a dataset in chunks.\n",
    "    \"\"\"    \n",
    "    for i in range(0, len(dataset), 1000):\n",
    "        yield dataset[i : i + 1000][\"text\"]\n",
    "\n",
    "# Training from iterator REMEMBER it's training on test set...\n",
    "raw_tokenizer.train_from_iterator(train_corp_iter(), trainer=trainer)\n",
    "\n",
    "tokenizer = PreTrainedTokenizerFast(\n",
    "    tokenizer_object=raw_tokenizer,\n",
    "    unk_token=\"[UNK]\",\n",
    "    pad_token=\"[PAD]\",\n",
    "    cls_token=\"[CLS]\",\n",
    "    sep_token=\"[SEP]\",\n",
    "    mask_token=\"[MASK]\",\n",
    ")\n",
    "\n",
    "\n",
    "tokenized_texts_test = []\n",
    "\n",
    "# Tokenize test set with new tokenizer\n",
    "for text in tqdm(test['text'].tolist()):\n",
    "    tokenized_texts_test.append(tokenizer.tokenize(text))\n",
    "\n",
    "\n",
    "# Tokenize train set\n",
    "tokenized_texts_train = []\n",
    "\n",
    "for text in tqdm(train['text'].tolist()):\n",
    "    tokenized_texts_train.append(tokenizer.tokenize(text))"
   ]
  },
  {
   "cell_type": "markdown",
   "id": "eb559eee",
   "metadata": {
    "papermill": {
     "duration": 0.011202,
     "end_time": "2023-12-17T04:32:09.300973",
     "exception": false,
     "start_time": "2023-12-17T04:32:09.289771",
     "status": "completed"
    },
    "tags": []
   },
   "source": [
    "### Functions to vectorize and fit models"
   ]
  },
  {
   "cell_type": "code",
   "execution_count": 18,
   "id": "354ee3f8",
   "metadata": {
    "execution": {
     "iopub.execute_input": "2023-12-17T04:32:09.325843Z",
     "iopub.status.busy": "2023-12-17T04:32:09.324927Z",
     "iopub.status.idle": "2023-12-17T04:36:04.302409Z",
     "shell.execute_reply": "2023-12-17T04:36:04.301326Z"
    },
    "papermill": {
     "duration": 235.004456,
     "end_time": "2023-12-17T04:36:04.316684",
     "exception": false,
     "start_time": "2023-12-17T04:32:09.312228",
     "status": "completed"
    },
    "tags": []
   },
   "outputs": [
    {
     "data": {
      "text/plain": [
       "23"
      ]
     },
     "execution_count": 18,
     "metadata": {},
     "output_type": "execute_result"
    }
   ],
   "source": [
    "def dummy(text): \n",
    "    return text\n",
    "\n",
    "# Fitting TfidfVectoizer on test set\n",
    "\n",
    "vectorizer = TfidfVectorizer(ngram_range=(3, 5), lowercase=False, sublinear_tf=True, analyzer = 'word',\n",
    "    tokenizer = dummy,\n",
    "    preprocessor = dummy,\n",
    "    token_pattern = None, strip_accents='unicode')\n",
    "                            \n",
    "\n",
    "vectorizer.fit(tokenized_texts_test)\n",
    "\n",
    "# Getting vocab\n",
    "vocab = vectorizer.vocabulary_ \n",
    "\n",
    "# Here we fit our vectorizer on train set but this time we use vocabulary from test fit.\n",
    "vectorizer = TfidfVectorizer(ngram_range=(3, 5), lowercase=False, sublinear_tf=True, vocabulary=vocab,\n",
    "                            analyzer = 'word',\n",
    "                            tokenizer = dummy,\n",
    "                            preprocessor = dummy,\n",
    "                            token_pattern = None, strip_accents='unicode'\n",
    "                            )\n",
    "\n",
    "tf_train = vectorizer.fit_transform(tokenized_texts_train)\n",
    "tf_test = vectorizer.transform(tokenized_texts_test)\n",
    "\n",
    "y_train = train['label'].values\n",
    "\n",
    "del vectorizer\n",
    "gc.collect()"
   ]
  },
  {
   "cell_type": "code",
   "execution_count": 19,
   "id": "0ea1e302",
   "metadata": {
    "execution": {
     "iopub.execute_input": "2023-12-17T04:36:04.342499Z",
     "iopub.status.busy": "2023-12-17T04:36:04.341881Z",
     "iopub.status.idle": "2023-12-17T04:36:04.346163Z",
     "shell.execute_reply": "2023-12-17T04:36:04.345425Z"
    },
    "papermill": {
     "duration": 0.019544,
     "end_time": "2023-12-17T04:36:04.348021",
     "exception": false,
     "start_time": "2023-12-17T04:36:04.328477",
     "status": "completed"
    },
    "tags": []
   },
   "outputs": [],
   "source": [
    "# from scipy.sparse import hstack, coo_matrix \n",
    "\n",
    "# # Add the additional column to the sparse matrix\n",
    "# X1 = hstack([tf_train, np.array(train.label).reshape(-1,1)],format='csr') #.tocsc()"
   ]
  },
  {
   "cell_type": "code",
   "execution_count": 20,
   "id": "71e246d7",
   "metadata": {
    "execution": {
     "iopub.execute_input": "2023-12-17T04:36:04.373387Z",
     "iopub.status.busy": "2023-12-17T04:36:04.372769Z",
     "iopub.status.idle": "2023-12-17T04:36:04.377582Z",
     "shell.execute_reply": "2023-12-17T04:36:04.376908Z"
    },
    "papermill": {
     "duration": 0.019843,
     "end_time": "2023-12-17T04:36:04.379497",
     "exception": false,
     "start_time": "2023-12-17T04:36:04.359654",
     "status": "completed"
    },
    "tags": []
   },
   "outputs": [],
   "source": [
    "# svm = SGDOneClassSVM(nu=0.01, random_state=42)\n",
    "# iso = IsolationForest(random_state=42,contamination=0.05)\n",
    "# lo = LocalOutlierFactor(n_neighbors=10, contamination=0.05)\n",
    "# # lo = EllipticEnvelope(random_state=42)   \n",
    "\n",
    "# pred = svm.fit_predict(X1) #sdf.drop(['label'],axis=1))\n",
    "# mask = pred != -1\n",
    "# data = X1[mask, :] #.reset_index(drop=True)\n",
    "# print(\"original number of rows \",X1.shape[0]) \n",
    "# print('number of rows after outlier removal using SGDsvm',data.shape[0])\n",
    "\n",
    "# # pred = iso.fit_predict(X1)\n",
    "# # mask = pred != -1\n",
    "# # data1 = X1[mask, :] #.reset_index(drop=True) \n",
    "# # print('number of rows after outlier removal using isoforest',data1.shape[0])\n",
    "\n",
    "# # pred = lo.fit_predict(data)\n",
    "# # mask = pred != -1\n",
    "# # data2 = data1[mask, :] #.reset_index(drop=True) \n",
    "# # print('number of rows after outlier removal using localoutlier',data2.shape[0])"
   ]
  },
  {
   "cell_type": "code",
   "execution_count": 21,
   "id": "0ced7e5e",
   "metadata": {
    "execution": {
     "iopub.execute_input": "2023-12-17T04:36:04.404780Z",
     "iopub.status.busy": "2023-12-17T04:36:04.404154Z",
     "iopub.status.idle": "2023-12-17T04:36:04.408381Z",
     "shell.execute_reply": "2023-12-17T04:36:04.407575Z"
    },
    "papermill": {
     "duration": 0.019275,
     "end_time": "2023-12-17T04:36:04.410374",
     "exception": false,
     "start_time": "2023-12-17T04:36:04.391099",
     "status": "completed"
    },
    "tags": []
   },
   "outputs": [],
   "source": [
    "# y_train = data[:,-1]\n",
    "# data = data[:, :-1]"
   ]
  },
  {
   "cell_type": "code",
   "execution_count": 22,
   "id": "ed5cac41",
   "metadata": {
    "execution": {
     "iopub.execute_input": "2023-12-17T04:36:04.435321Z",
     "iopub.status.busy": "2023-12-17T04:36:04.434962Z",
     "iopub.status.idle": "2023-12-17T04:36:04.456476Z",
     "shell.execute_reply": "2023-12-17T04:36:04.455647Z"
    },
    "papermill": {
     "duration": 0.036859,
     "end_time": "2023-12-17T04:36:04.458675",
     "exception": false,
     "start_time": "2023-12-17T04:36:04.421816",
     "status": "completed"
    },
    "tags": []
   },
   "outputs": [],
   "source": [
    "sub = pd.read_csv('/kaggle/input/llm-detect-ai-generated-text/sample_submission.csv')\n",
    "if len(test.text.values) <= 5:\n",
    "    sub.to_csv('submission.csv', index=False)\n",
    "else:\n",
    "    \n",
    "    clf = MultinomialNB(alpha=0.02)\n",
    "#     clf2 = MultinomialNB(alpha=0.01)\n",
    "    sgd_model = SGDClassifier(max_iter=8000, tol=1e-4, loss=\"modified_huber\") \n",
    "    p6={'n_iter': 1500,'verbose': -1,'objective': 'binary','metric': 'auc','learning_rate': 0.05073909898961407, 'colsample_bytree': 0.726023996436955, 'colsample_bynode': 0.5803681307354022, 'lambda_l1': 8.562963348932286, 'lambda_l2': 4.893256185259296, 'min_data_in_leaf': 115, 'max_depth': 23, 'max_bin': 898}\n",
    "    lgb=LGBMClassifier(**p6)\n",
    "    cat=CatBoostClassifier(iterations=1000,\n",
    "                           verbose=0,\n",
    "                           l2_leaf_reg=6.6591278779517808,\n",
    "                           learning_rate=0.005689066836106983,\n",
    "                           allow_const_label=True,loss_function = 'CrossEntropy')\n",
    "    weights = [0.07,0.31,0.31,0.31]\n",
    " \n",
    "    ensemble = VotingClassifier(estimators=[('mnb',clf),\n",
    "                                            ('sgd', sgd_model),\n",
    "                                            ('lgb',lgb), \n",
    "                                            ('cat', cat)\n",
    "                                           ],\n",
    "                                weights=weights, voting='soft', n_jobs=-1)\n",
    "    ensemble.fit(tf_train, y_train)\n",
    "    final_preds = ensemble.predict_proba(tf_test)[:,1]\n",
    "    if not debug:\n",
    "        sub['generated'] = final_preds\n",
    "        sub.to_csv('submission.csv', index=False)\n",
    "        sub"
   ]
  },
  {
   "cell_type": "code",
   "execution_count": 23,
   "id": "089f4b4b",
   "metadata": {
    "execution": {
     "iopub.execute_input": "2023-12-17T04:36:04.484058Z",
     "iopub.status.busy": "2023-12-17T04:36:04.483692Z",
     "iopub.status.idle": "2023-12-17T04:36:04.487988Z",
     "shell.execute_reply": "2023-12-17T04:36:04.486972Z"
    },
    "papermill": {
     "duration": 0.019545,
     "end_time": "2023-12-17T04:36:04.490024",
     "exception": false,
     "start_time": "2023-12-17T04:36:04.470479",
     "status": "completed"
    },
    "tags": []
   },
   "outputs": [],
   "source": [
    "# clf = MultinomialNB(alpha=0.02)\n",
    "# clf2 = MultinomialNB(alpha=0.01)\n",
    "# sgd_model = SGDClassifier(max_iter=10000, tol=1e-4, loss=\"modified_huber\") \n",
    "# p6={'n_iter': 3000,'verbose': -1,'objective': 'l2','learning_rate': 0.005670084478292278, 'colsample_bytree': 0.6440444070196796, 'colsample_bynode': 0.637635804565811, 'lambda_l1': 6.29090474401462, 'lambda_l2': 6.775341543233317, 'min_data_in_leaf': 95, 'max_depth': 26, 'max_bin': 630}\n",
    "\n",
    "\n",
    "# lgb=lgb.LGBMClassifier(**p6)\n",
    "\n",
    "# ensemble = VotingClassifier(estimators=[('mnb',clf),('sgd', sgd_model),('lgb',lgb)],\n",
    "#                             weights=[0.25,0.25,0.5], voting='soft', n_jobs=-1)\n",
    "# ensemble.fit(data, y_train.toarray())"
   ]
  },
  {
   "cell_type": "code",
   "execution_count": 24,
   "id": "fe9aa793",
   "metadata": {
    "execution": {
     "iopub.execute_input": "2023-12-17T04:36:04.515057Z",
     "iopub.status.busy": "2023-12-17T04:36:04.514678Z",
     "iopub.status.idle": "2023-12-17T04:36:04.519397Z",
     "shell.execute_reply": "2023-12-17T04:36:04.518434Z"
    },
    "papermill": {
     "duration": 0.019701,
     "end_time": "2023-12-17T04:36:04.521383",
     "exception": false,
     "start_time": "2023-12-17T04:36:04.501682",
     "status": "completed"
    },
    "tags": []
   },
   "outputs": [],
   "source": [
    "\n",
    "# mnb = MultinomialNB(alpha=0.02)\n",
    "     \n",
    "# sgd_model1 = SGDClassifier(max_iter=10000, tol=1e-4,loss=\"modified_huber\", random_state=42) \n",
    "# sgd_model2 = SGDClassifier(max_iter=10000, tol=3e-3,loss=\"modified_huber\",  class_weight=\"balanced\",random_state=42) \n",
    "# sgd_model3 = SGDClassifier(max_iter=15000, tol=5e-3,loss=\"modified_huber\", early_stopping=True,random_state=42) \n",
    "\n",
    "# ensemble = VotingClassifier(estimators=[\n",
    "                                         \n",
    "#                                         ('mnb', mnb),\n",
    "#                                         ('sgd1', sgd_model1),\n",
    "#                                         ('sgd2', sgd_model2),\n",
    "#                                         ('sgd3', sgd_model3),\n",
    "#                                        ],\n",
    "#                             weights=[0.1, 0.3,0.3,0.3],\n",
    "#                             voting='soft'\n",
    "#                            )\n",
    " \n",
    "# ensemble.fit(data, y_train.toarray())"
   ]
  },
  {
   "cell_type": "code",
   "execution_count": 25,
   "id": "bce2334b",
   "metadata": {
    "execution": {
     "iopub.execute_input": "2023-12-17T04:36:04.546821Z",
     "iopub.status.busy": "2023-12-17T04:36:04.546429Z",
     "iopub.status.idle": "2023-12-17T04:36:04.550415Z",
     "shell.execute_reply": "2023-12-17T04:36:04.549437Z"
    },
    "papermill": {
     "duration": 0.019139,
     "end_time": "2023-12-17T04:36:04.552229",
     "exception": false,
     "start_time": "2023-12-17T04:36:04.533090",
     "status": "completed"
    },
    "tags": []
   },
   "outputs": [],
   "source": [
    "# preds_test = ensemble.predict_proba(tf_test)[:,1]"
   ]
  },
  {
   "cell_type": "code",
   "execution_count": 26,
   "id": "fa7c9b11",
   "metadata": {
    "execution": {
     "iopub.execute_input": "2023-12-17T04:36:04.577960Z",
     "iopub.status.busy": "2023-12-17T04:36:04.576912Z",
     "iopub.status.idle": "2023-12-17T04:36:04.581692Z",
     "shell.execute_reply": "2023-12-17T04:36:04.580731Z"
    },
    "papermill": {
     "duration": 0.019818,
     "end_time": "2023-12-17T04:36:04.583684",
     "exception": false,
     "start_time": "2023-12-17T04:36:04.563866",
     "status": "completed"
    },
    "tags": []
   },
   "outputs": [],
   "source": [
    "# preds_test"
   ]
  },
  {
   "cell_type": "markdown",
   "id": "123199cd",
   "metadata": {
    "papermill": {
     "duration": 0.011551,
     "end_time": "2023-12-17T04:36:04.607206",
     "exception": false,
     "start_time": "2023-12-17T04:36:04.595655",
     "status": "completed"
    },
    "tags": []
   },
   "source": [
    "## Submit"
   ]
  },
  {
   "cell_type": "code",
   "execution_count": 27,
   "id": "92081fc9",
   "metadata": {
    "execution": {
     "iopub.execute_input": "2023-12-17T04:36:04.632816Z",
     "iopub.status.busy": "2023-12-17T04:36:04.632147Z",
     "iopub.status.idle": "2023-12-17T04:36:04.636580Z",
     "shell.execute_reply": "2023-12-17T04:36:04.635646Z"
    },
    "papermill": {
     "duration": 0.019992,
     "end_time": "2023-12-17T04:36:04.638814",
     "exception": false,
     "start_time": "2023-12-17T04:36:04.618822",
     "status": "completed"
    },
    "tags": []
   },
   "outputs": [],
   "source": [
    "# if debug==False:\n",
    "#     pd.DataFrame({'id':test[\"id\"],'generated':preds_test}).to_csv('submission.csv', index=False)\n",
    "#     pd.read_csv('/kaggle/working/submission.csv')\n",
    "#     sub=pd.read_csv('/kaggle/working/submission.csv')\n",
    "#     print(sub)"
   ]
  },
  {
   "cell_type": "code",
   "execution_count": null,
   "id": "110c6c9d",
   "metadata": {
    "papermill": {
     "duration": 0.011393,
     "end_time": "2023-12-17T04:36:04.661850",
     "exception": false,
     "start_time": "2023-12-17T04:36:04.650457",
     "status": "completed"
    },
    "tags": []
   },
   "outputs": [],
   "source": []
  }
 ],
 "metadata": {
  "kaggle": {
   "accelerator": "none",
   "dataSources": [
    {
     "databundleVersionId": 6888007,
     "sourceId": 61542,
     "sourceType": "competition"
    },
    {
     "datasetId": 3945154,
     "sourceId": 6865136,
     "sourceType": "datasetVersion"
    },
    {
     "datasetId": 4005256,
     "sourceId": 6977472,
     "sourceType": "datasetVersion"
    },
    {
     "datasetId": 4035516,
     "sourceId": 7018354,
     "sourceType": "datasetVersion"
    },
    {
     "datasetId": 4064898,
     "sourceId": 7060860,
     "sourceType": "datasetVersion"
    },
    {
     "datasetId": 4070722,
     "sourceId": 7069044,
     "sourceType": "datasetVersion"
    },
    {
     "datasetId": 4091539,
     "sourceId": 7098487,
     "sourceType": "datasetVersion"
    },
    {
     "sourceId": 152459920,
     "sourceType": "kernelVersion"
    }
   ],
   "dockerImageVersionId": 30587,
   "isGpuEnabled": false,
   "isInternetEnabled": false,
   "language": "python",
   "sourceType": "notebook"
  },
  "kernelspec": {
   "display_name": "Python 3",
   "language": "python",
   "name": "python3"
  },
  "language_info": {
   "codemirror_mode": {
    "name": "ipython",
    "version": 3
   },
   "file_extension": ".py",
   "mimetype": "text/x-python",
   "name": "python",
   "nbconvert_exporter": "python",
   "pygments_lexer": "ipython3",
   "version": "3.10.12"
  },
  "papermill": {
   "default_parameters": {},
   "duration": 382.788482,
   "end_time": "2023-12-17T04:36:07.597140",
   "environment_variables": {},
   "exception": null,
   "input_path": "__notebook__.ipynb",
   "output_path": "__notebook__.ipynb",
   "parameters": {},
   "start_time": "2023-12-17T04:29:44.808658",
   "version": "2.4.0"
  },
  "widgets": {
   "application/vnd.jupyter.widget-state+json": {
    "state": {
     "0684a422b8684381b1ea9ff62bd30c6c": {
      "model_module": "@jupyter-widgets/controls",
      "model_module_version": "1.5.0",
      "model_name": "DescriptionStyleModel",
      "state": {
       "_model_module": "@jupyter-widgets/controls",
       "_model_module_version": "1.5.0",
       "_model_name": "DescriptionStyleModel",
       "_view_count": null,
       "_view_module": "@jupyter-widgets/base",
       "_view_module_version": "1.2.0",
       "_view_name": "StyleView",
       "description_width": ""
      }
     },
     "0b5435b1c8834e27a28438ce3d589458": {
      "model_module": "@jupyter-widgets/base",
      "model_module_version": "1.2.0",
      "model_name": "LayoutModel",
      "state": {
       "_model_module": "@jupyter-widgets/base",
       "_model_module_version": "1.2.0",
       "_model_name": "LayoutModel",
       "_view_count": null,
       "_view_module": "@jupyter-widgets/base",
       "_view_module_version": "1.2.0",
       "_view_name": "LayoutView",
       "align_content": null,
       "align_items": null,
       "align_self": null,
       "border": null,
       "bottom": null,
       "display": null,
       "flex": null,
       "flex_flow": null,
       "grid_area": null,
       "grid_auto_columns": null,
       "grid_auto_flow": null,
       "grid_auto_rows": null,
       "grid_column": null,
       "grid_gap": null,
       "grid_row": null,
       "grid_template_areas": null,
       "grid_template_columns": null,
       "grid_template_rows": null,
       "height": null,
       "justify_content": null,
       "justify_items": null,
       "left": null,
       "margin": null,
       "max_height": null,
       "max_width": null,
       "min_height": null,
       "min_width": null,
       "object_fit": null,
       "object_position": null,
       "order": null,
       "overflow": null,
       "overflow_x": null,
       "overflow_y": null,
       "padding": null,
       "right": null,
       "top": null,
       "visibility": null,
       "width": null
      }
     },
     "2b2c8ae3a4de49c4b35116fb358aadac": {
      "model_module": "@jupyter-widgets/controls",
      "model_module_version": "1.5.0",
      "model_name": "HBoxModel",
      "state": {
       "_dom_classes": [],
       "_model_module": "@jupyter-widgets/controls",
       "_model_module_version": "1.5.0",
       "_model_name": "HBoxModel",
       "_view_count": null,
       "_view_module": "@jupyter-widgets/controls",
       "_view_module_version": "1.5.0",
       "_view_name": "HBoxView",
       "box_style": "",
       "children": [
        "IPY_MODEL_d61a1bfd02064d18a3e2a6c08670668b",
        "IPY_MODEL_764073e2c389488ebf45e6c57c2681e7",
        "IPY_MODEL_8f282c43c00344a6a04c4934befa1621"
       ],
       "layout": "IPY_MODEL_0b5435b1c8834e27a28438ce3d589458"
      }
     },
     "2f58118c146b448d9c928b446fd98650": {
      "model_module": "@jupyter-widgets/controls",
      "model_module_version": "1.5.0",
      "model_name": "DescriptionStyleModel",
      "state": {
       "_model_module": "@jupyter-widgets/controls",
       "_model_module_version": "1.5.0",
       "_model_name": "DescriptionStyleModel",
       "_view_count": null,
       "_view_module": "@jupyter-widgets/base",
       "_view_module_version": "1.2.0",
       "_view_name": "StyleView",
       "description_width": ""
      }
     },
     "33f160a6f6c745d797c46cfaa52c113a": {
      "model_module": "@jupyter-widgets/base",
      "model_module_version": "1.2.0",
      "model_name": "LayoutModel",
      "state": {
       "_model_module": "@jupyter-widgets/base",
       "_model_module_version": "1.2.0",
       "_model_name": "LayoutModel",
       "_view_count": null,
       "_view_module": "@jupyter-widgets/base",
       "_view_module_version": "1.2.0",
       "_view_name": "LayoutView",
       "align_content": null,
       "align_items": null,
       "align_self": null,
       "border": null,
       "bottom": null,
       "display": null,
       "flex": null,
       "flex_flow": null,
       "grid_area": null,
       "grid_auto_columns": null,
       "grid_auto_flow": null,
       "grid_auto_rows": null,
       "grid_column": null,
       "grid_gap": null,
       "grid_row": null,
       "grid_template_areas": null,
       "grid_template_columns": null,
       "grid_template_rows": null,
       "height": null,
       "justify_content": null,
       "justify_items": null,
       "left": null,
       "margin": null,
       "max_height": null,
       "max_width": null,
       "min_height": null,
       "min_width": null,
       "object_fit": null,
       "object_position": null,
       "order": null,
       "overflow": null,
       "overflow_x": null,
       "overflow_y": null,
       "padding": null,
       "right": null,
       "top": null,
       "visibility": null,
       "width": null
      }
     },
     "35ed8d2c87db47ccb92e7660ac41abda": {
      "model_module": "@jupyter-widgets/controls",
      "model_module_version": "1.5.0",
      "model_name": "FloatProgressModel",
      "state": {
       "_dom_classes": [],
       "_model_module": "@jupyter-widgets/controls",
       "_model_module_version": "1.5.0",
       "_model_name": "FloatProgressModel",
       "_view_count": null,
       "_view_module": "@jupyter-widgets/controls",
       "_view_module_version": "1.5.0",
       "_view_name": "ProgressView",
       "bar_style": "success",
       "description": "",
       "description_tooltip": null,
       "layout": "IPY_MODEL_d78e108ad2cf40699412e613318cb684",
       "max": 3.0,
       "min": 0.0,
       "orientation": "horizontal",
       "style": "IPY_MODEL_dbbb4fa567684e049152439d70dd6abb",
       "value": 3.0
      }
     },
     "4fecaeac781e4540994b25b2d5848e8d": {
      "model_module": "@jupyter-widgets/controls",
      "model_module_version": "1.5.0",
      "model_name": "HTMLModel",
      "state": {
       "_dom_classes": [],
       "_model_module": "@jupyter-widgets/controls",
       "_model_module_version": "1.5.0",
       "_model_name": "HTMLModel",
       "_view_count": null,
       "_view_module": "@jupyter-widgets/controls",
       "_view_module_version": "1.5.0",
       "_view_name": "HTMLView",
       "description": "",
       "description_tooltip": null,
       "layout": "IPY_MODEL_8e030985f5fd47cb99031404d233967b",
       "placeholder": "​",
       "style": "IPY_MODEL_2f58118c146b448d9c928b446fd98650",
       "value": "100%"
      }
     },
     "727177191abe4e57be3dd9d7a61a07ab": {
      "model_module": "@jupyter-widgets/controls",
      "model_module_version": "1.5.0",
      "model_name": "HTMLModel",
      "state": {
       "_dom_classes": [],
       "_model_module": "@jupyter-widgets/controls",
       "_model_module_version": "1.5.0",
       "_model_name": "HTMLModel",
       "_view_count": null,
       "_view_module": "@jupyter-widgets/controls",
       "_view_module_version": "1.5.0",
       "_view_name": "HTMLView",
       "description": "",
       "description_tooltip": null,
       "layout": "IPY_MODEL_33f160a6f6c745d797c46cfaa52c113a",
       "placeholder": "​",
       "style": "IPY_MODEL_74aac3252086422d93945ba0c32281b6",
       "value": " 3/3 [00:00&lt;00:00, 179.60it/s]"
      }
     },
     "727a16b85a6e4344a131ad248d42bf85": {
      "model_module": "@jupyter-widgets/base",
      "model_module_version": "1.2.0",
      "model_name": "LayoutModel",
      "state": {
       "_model_module": "@jupyter-widgets/base",
       "_model_module_version": "1.2.0",
       "_model_name": "LayoutModel",
       "_view_count": null,
       "_view_module": "@jupyter-widgets/base",
       "_view_module_version": "1.2.0",
       "_view_name": "LayoutView",
       "align_content": null,
       "align_items": null,
       "align_self": null,
       "border": null,
       "bottom": null,
       "display": null,
       "flex": null,
       "flex_flow": null,
       "grid_area": null,
       "grid_auto_columns": null,
       "grid_auto_flow": null,
       "grid_auto_rows": null,
       "grid_column": null,
       "grid_gap": null,
       "grid_row": null,
       "grid_template_areas": null,
       "grid_template_columns": null,
       "grid_template_rows": null,
       "height": null,
       "justify_content": null,
       "justify_items": null,
       "left": null,
       "margin": null,
       "max_height": null,
       "max_width": null,
       "min_height": null,
       "min_width": null,
       "object_fit": null,
       "object_position": null,
       "order": null,
       "overflow": null,
       "overflow_x": null,
       "overflow_y": null,
       "padding": null,
       "right": null,
       "top": null,
       "visibility": null,
       "width": null
      }
     },
     "74aac3252086422d93945ba0c32281b6": {
      "model_module": "@jupyter-widgets/controls",
      "model_module_version": "1.5.0",
      "model_name": "DescriptionStyleModel",
      "state": {
       "_model_module": "@jupyter-widgets/controls",
       "_model_module_version": "1.5.0",
       "_model_name": "DescriptionStyleModel",
       "_view_count": null,
       "_view_module": "@jupyter-widgets/base",
       "_view_module_version": "1.2.0",
       "_view_name": "StyleView",
       "description_width": ""
      }
     },
     "764073e2c389488ebf45e6c57c2681e7": {
      "model_module": "@jupyter-widgets/controls",
      "model_module_version": "1.5.0",
      "model_name": "FloatProgressModel",
      "state": {
       "_dom_classes": [],
       "_model_module": "@jupyter-widgets/controls",
       "_model_module_version": "1.5.0",
       "_model_name": "FloatProgressModel",
       "_view_count": null,
       "_view_module": "@jupyter-widgets/controls",
       "_view_module_version": "1.5.0",
       "_view_name": "ProgressView",
       "bar_style": "success",
       "description": "",
       "description_tooltip": null,
       "layout": "IPY_MODEL_a024dbe3226e449bbe7d672470c69c00",
       "max": 44868.0,
       "min": 0.0,
       "orientation": "horizontal",
       "style": "IPY_MODEL_7f929612d33449779488dcab4a88dede",
       "value": 44868.0
      }
     },
     "7f929612d33449779488dcab4a88dede": {
      "model_module": "@jupyter-widgets/controls",
      "model_module_version": "1.5.0",
      "model_name": "ProgressStyleModel",
      "state": {
       "_model_module": "@jupyter-widgets/controls",
       "_model_module_version": "1.5.0",
       "_model_name": "ProgressStyleModel",
       "_view_count": null,
       "_view_module": "@jupyter-widgets/base",
       "_view_module_version": "1.2.0",
       "_view_name": "StyleView",
       "bar_color": null,
       "description_width": ""
      }
     },
     "8e030985f5fd47cb99031404d233967b": {
      "model_module": "@jupyter-widgets/base",
      "model_module_version": "1.2.0",
      "model_name": "LayoutModel",
      "state": {
       "_model_module": "@jupyter-widgets/base",
       "_model_module_version": "1.2.0",
       "_model_name": "LayoutModel",
       "_view_count": null,
       "_view_module": "@jupyter-widgets/base",
       "_view_module_version": "1.2.0",
       "_view_name": "LayoutView",
       "align_content": null,
       "align_items": null,
       "align_self": null,
       "border": null,
       "bottom": null,
       "display": null,
       "flex": null,
       "flex_flow": null,
       "grid_area": null,
       "grid_auto_columns": null,
       "grid_auto_flow": null,
       "grid_auto_rows": null,
       "grid_column": null,
       "grid_gap": null,
       "grid_row": null,
       "grid_template_areas": null,
       "grid_template_columns": null,
       "grid_template_rows": null,
       "height": null,
       "justify_content": null,
       "justify_items": null,
       "left": null,
       "margin": null,
       "max_height": null,
       "max_width": null,
       "min_height": null,
       "min_width": null,
       "object_fit": null,
       "object_position": null,
       "order": null,
       "overflow": null,
       "overflow_x": null,
       "overflow_y": null,
       "padding": null,
       "right": null,
       "top": null,
       "visibility": null,
       "width": null
      }
     },
     "8f282c43c00344a6a04c4934befa1621": {
      "model_module": "@jupyter-widgets/controls",
      "model_module_version": "1.5.0",
      "model_name": "HTMLModel",
      "state": {
       "_dom_classes": [],
       "_model_module": "@jupyter-widgets/controls",
       "_model_module_version": "1.5.0",
       "_model_name": "HTMLModel",
       "_view_count": null,
       "_view_module": "@jupyter-widgets/controls",
       "_view_module_version": "1.5.0",
       "_view_name": "HTMLView",
       "description": "",
       "description_tooltip": null,
       "layout": "IPY_MODEL_b38cfae59d7e4582a8f95171da86a239",
       "placeholder": "​",
       "style": "IPY_MODEL_ed4cff300e0140fc97e10139ae5cb97e",
       "value": " 44868/44868 [02:09&lt;00:00, 349.81it/s]"
      }
     },
     "a024dbe3226e449bbe7d672470c69c00": {
      "model_module": "@jupyter-widgets/base",
      "model_module_version": "1.2.0",
      "model_name": "LayoutModel",
      "state": {
       "_model_module": "@jupyter-widgets/base",
       "_model_module_version": "1.2.0",
       "_model_name": "LayoutModel",
       "_view_count": null,
       "_view_module": "@jupyter-widgets/base",
       "_view_module_version": "1.2.0",
       "_view_name": "LayoutView",
       "align_content": null,
       "align_items": null,
       "align_self": null,
       "border": null,
       "bottom": null,
       "display": null,
       "flex": null,
       "flex_flow": null,
       "grid_area": null,
       "grid_auto_columns": null,
       "grid_auto_flow": null,
       "grid_auto_rows": null,
       "grid_column": null,
       "grid_gap": null,
       "grid_row": null,
       "grid_template_areas": null,
       "grid_template_columns": null,
       "grid_template_rows": null,
       "height": null,
       "justify_content": null,
       "justify_items": null,
       "left": null,
       "margin": null,
       "max_height": null,
       "max_width": null,
       "min_height": null,
       "min_width": null,
       "object_fit": null,
       "object_position": null,
       "order": null,
       "overflow": null,
       "overflow_x": null,
       "overflow_y": null,
       "padding": null,
       "right": null,
       "top": null,
       "visibility": null,
       "width": null
      }
     },
     "b38cfae59d7e4582a8f95171da86a239": {
      "model_module": "@jupyter-widgets/base",
      "model_module_version": "1.2.0",
      "model_name": "LayoutModel",
      "state": {
       "_model_module": "@jupyter-widgets/base",
       "_model_module_version": "1.2.0",
       "_model_name": "LayoutModel",
       "_view_count": null,
       "_view_module": "@jupyter-widgets/base",
       "_view_module_version": "1.2.0",
       "_view_name": "LayoutView",
       "align_content": null,
       "align_items": null,
       "align_self": null,
       "border": null,
       "bottom": null,
       "display": null,
       "flex": null,
       "flex_flow": null,
       "grid_area": null,
       "grid_auto_columns": null,
       "grid_auto_flow": null,
       "grid_auto_rows": null,
       "grid_column": null,
       "grid_gap": null,
       "grid_row": null,
       "grid_template_areas": null,
       "grid_template_columns": null,
       "grid_template_rows": null,
       "height": null,
       "justify_content": null,
       "justify_items": null,
       "left": null,
       "margin": null,
       "max_height": null,
       "max_width": null,
       "min_height": null,
       "min_width": null,
       "object_fit": null,
       "object_position": null,
       "order": null,
       "overflow": null,
       "overflow_x": null,
       "overflow_y": null,
       "padding": null,
       "right": null,
       "top": null,
       "visibility": null,
       "width": null
      }
     },
     "c1f5249bc0574127b29a6e35385ffda1": {
      "model_module": "@jupyter-widgets/controls",
      "model_module_version": "1.5.0",
      "model_name": "HBoxModel",
      "state": {
       "_dom_classes": [],
       "_model_module": "@jupyter-widgets/controls",
       "_model_module_version": "1.5.0",
       "_model_name": "HBoxModel",
       "_view_count": null,
       "_view_module": "@jupyter-widgets/controls",
       "_view_module_version": "1.5.0",
       "_view_name": "HBoxView",
       "box_style": "",
       "children": [
        "IPY_MODEL_4fecaeac781e4540994b25b2d5848e8d",
        "IPY_MODEL_35ed8d2c87db47ccb92e7660ac41abda",
        "IPY_MODEL_727177191abe4e57be3dd9d7a61a07ab"
       ],
       "layout": "IPY_MODEL_727a16b85a6e4344a131ad248d42bf85"
      }
     },
     "d61a1bfd02064d18a3e2a6c08670668b": {
      "model_module": "@jupyter-widgets/controls",
      "model_module_version": "1.5.0",
      "model_name": "HTMLModel",
      "state": {
       "_dom_classes": [],
       "_model_module": "@jupyter-widgets/controls",
       "_model_module_version": "1.5.0",
       "_model_name": "HTMLModel",
       "_view_count": null,
       "_view_module": "@jupyter-widgets/controls",
       "_view_module_version": "1.5.0",
       "_view_name": "HTMLView",
       "description": "",
       "description_tooltip": null,
       "layout": "IPY_MODEL_d650ec2fc7ca44eca0cc8fe5b9d6f1d1",
       "placeholder": "​",
       "style": "IPY_MODEL_0684a422b8684381b1ea9ff62bd30c6c",
       "value": "100%"
      }
     },
     "d650ec2fc7ca44eca0cc8fe5b9d6f1d1": {
      "model_module": "@jupyter-widgets/base",
      "model_module_version": "1.2.0",
      "model_name": "LayoutModel",
      "state": {
       "_model_module": "@jupyter-widgets/base",
       "_model_module_version": "1.2.0",
       "_model_name": "LayoutModel",
       "_view_count": null,
       "_view_module": "@jupyter-widgets/base",
       "_view_module_version": "1.2.0",
       "_view_name": "LayoutView",
       "align_content": null,
       "align_items": null,
       "align_self": null,
       "border": null,
       "bottom": null,
       "display": null,
       "flex": null,
       "flex_flow": null,
       "grid_area": null,
       "grid_auto_columns": null,
       "grid_auto_flow": null,
       "grid_auto_rows": null,
       "grid_column": null,
       "grid_gap": null,
       "grid_row": null,
       "grid_template_areas": null,
       "grid_template_columns": null,
       "grid_template_rows": null,
       "height": null,
       "justify_content": null,
       "justify_items": null,
       "left": null,
       "margin": null,
       "max_height": null,
       "max_width": null,
       "min_height": null,
       "min_width": null,
       "object_fit": null,
       "object_position": null,
       "order": null,
       "overflow": null,
       "overflow_x": null,
       "overflow_y": null,
       "padding": null,
       "right": null,
       "top": null,
       "visibility": null,
       "width": null
      }
     },
     "d78e108ad2cf40699412e613318cb684": {
      "model_module": "@jupyter-widgets/base",
      "model_module_version": "1.2.0",
      "model_name": "LayoutModel",
      "state": {
       "_model_module": "@jupyter-widgets/base",
       "_model_module_version": "1.2.0",
       "_model_name": "LayoutModel",
       "_view_count": null,
       "_view_module": "@jupyter-widgets/base",
       "_view_module_version": "1.2.0",
       "_view_name": "LayoutView",
       "align_content": null,
       "align_items": null,
       "align_self": null,
       "border": null,
       "bottom": null,
       "display": null,
       "flex": null,
       "flex_flow": null,
       "grid_area": null,
       "grid_auto_columns": null,
       "grid_auto_flow": null,
       "grid_auto_rows": null,
       "grid_column": null,
       "grid_gap": null,
       "grid_row": null,
       "grid_template_areas": null,
       "grid_template_columns": null,
       "grid_template_rows": null,
       "height": null,
       "justify_content": null,
       "justify_items": null,
       "left": null,
       "margin": null,
       "max_height": null,
       "max_width": null,
       "min_height": null,
       "min_width": null,
       "object_fit": null,
       "object_position": null,
       "order": null,
       "overflow": null,
       "overflow_x": null,
       "overflow_y": null,
       "padding": null,
       "right": null,
       "top": null,
       "visibility": null,
       "width": null
      }
     },
     "dbbb4fa567684e049152439d70dd6abb": {
      "model_module": "@jupyter-widgets/controls",
      "model_module_version": "1.5.0",
      "model_name": "ProgressStyleModel",
      "state": {
       "_model_module": "@jupyter-widgets/controls",
       "_model_module_version": "1.5.0",
       "_model_name": "ProgressStyleModel",
       "_view_count": null,
       "_view_module": "@jupyter-widgets/base",
       "_view_module_version": "1.2.0",
       "_view_name": "StyleView",
       "bar_color": null,
       "description_width": ""
      }
     },
     "ed4cff300e0140fc97e10139ae5cb97e": {
      "model_module": "@jupyter-widgets/controls",
      "model_module_version": "1.5.0",
      "model_name": "DescriptionStyleModel",
      "state": {
       "_model_module": "@jupyter-widgets/controls",
       "_model_module_version": "1.5.0",
       "_model_name": "DescriptionStyleModel",
       "_view_count": null,
       "_view_module": "@jupyter-widgets/base",
       "_view_module_version": "1.2.0",
       "_view_name": "StyleView",
       "description_width": ""
      }
     }
    },
    "version_major": 2,
    "version_minor": 0
   }
  }
 },
 "nbformat": 4,
 "nbformat_minor": 5
}

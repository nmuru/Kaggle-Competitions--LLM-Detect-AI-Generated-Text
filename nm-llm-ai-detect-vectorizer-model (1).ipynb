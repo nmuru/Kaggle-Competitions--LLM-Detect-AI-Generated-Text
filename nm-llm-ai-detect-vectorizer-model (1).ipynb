{
 "cells": [
  {
   "cell_type": "markdown",
   "id": "6f0d4e09",
   "metadata": {
    "papermill": {
     "duration": 0.016267,
     "end_time": "2023-12-10T13:19:05.837904",
     "exception": false,
     "start_time": "2023-12-10T13:19:05.821637",
     "status": "completed"
    },
    "tags": []
   },
   "source": [
    "# Credit\n",
    "\n",
    "BPE Encoding based custom tokenizer by @datafan07\n",
    "\n",
    "Ertuğrul Demir - https://www.kaggle.com/code/datafan07/train-your-own-tokenizer\n",
    "\n",
    "Dataset: Augmented dataset by @jdragonxherrera https://www.kaggle.com/competitions/llm-detect-ai-generated-text/discussion/456729\n",
    "\n",
    "Fork from https://www.kaggle.com/code/xiaocao123/ai-generated-text-detection-add-new-data\n",
    "\n",
    "https://www.kaggle.com/code/rsuhara/ai-generated-text-detection-quick-baseline\n",
    "\n",
    "Inspired by VLADIMIR DEMIDOV's work : <br>\n",
    "https://www.kaggle.com/code/yekenot/llm-detect-by-regression <br>\n",
    "https://www.kaggle.com/code/x75a40890/ai-generated-text-detection-quick-baseline\n",
    "\n",
    "Using new train dataset https://www.kaggle.com/datasets/thedrcat/daigt-v2-train-dataset/\n",
    "\n",
    "@chenbaoying\n",
    "https://www.kaggle.com/code/chenbaoying/0-911-ai-generated-text-detection-test-feature#Voting-Classifier\n",
    "\n",
    "And for all others who contributed through discussions/codes"
   ]
  },
  {
   "cell_type": "markdown",
   "id": "ef3a49f4",
   "metadata": {
    "papermill": {
     "duration": 0.015545,
     "end_time": "2023-12-10T13:19:05.870403",
     "exception": false,
     "start_time": "2023-12-10T13:19:05.854858",
     "status": "completed"
    },
    "tags": []
   },
   "source": [
    "# Importing library"
   ]
  },
  {
   "cell_type": "code",
   "execution_count": 1,
   "id": "088beb87",
   "metadata": {
    "execution": {
     "iopub.execute_input": "2023-12-10T13:19:05.906407Z",
     "iopub.status.busy": "2023-12-10T13:19:05.905853Z",
     "iopub.status.idle": "2023-12-10T13:19:11.366221Z",
     "shell.execute_reply": "2023-12-10T13:19:11.364698Z"
    },
    "papermill": {
     "duration": 5.482996,
     "end_time": "2023-12-10T13:19:11.369786",
     "exception": false,
     "start_time": "2023-12-10T13:19:05.886790",
     "status": "completed"
    },
    "tags": []
   },
   "outputs": [],
   "source": [
    "import numpy as np\n",
    "import pandas as pd\n",
    "from sklearn.linear_model import LogisticRegression\n",
    "from sklearn.naive_bayes import MultinomialNB\n",
    "from sklearn.feature_extraction.text import TfidfVectorizer\n",
    "from sklearn.ensemble import VotingClassifier\n",
    "from sklearn.linear_model import SGDClassifier \n",
    "\n",
    "from sklearn.model_selection import train_test_split\n",
    "from sklearn.metrics import accuracy_score, roc_auc_score\n",
    "from sklearn.model_selection import GridSearchCV\n",
    "from sklearn.metrics import make_scorer, accuracy_score\n",
    "import random,os,sys\n",
    "from concurrent.futures import ProcessPoolExecutor\n",
    "import re\n",
    "import joblib\n",
    "\n",
    "from sklearn.linear_model import SGDOneClassSVM\n",
    "from sklearn.svm import OneClassSVM\n",
    "from sklearn.ensemble import IsolationForest\n",
    "from sklearn.neighbors import LocalOutlierFactor\n",
    "from sklearn.covariance import EllipticEnvelope\n",
    "\n",
    "import xgboost as xgb\n",
    "import catboost as ctb\n",
    "import lightgbm as lgb\n",
    "from lightgbm import LGBMClassifier\n",
    "from catboost import  CatBoostClassifier"
   ]
  },
  {
   "cell_type": "code",
   "execution_count": 2,
   "id": "e610449b",
   "metadata": {
    "execution": {
     "iopub.execute_input": "2023-12-10T13:19:11.406080Z",
     "iopub.status.busy": "2023-12-10T13:19:11.405559Z",
     "iopub.status.idle": "2023-12-10T13:19:18.564982Z",
     "shell.execute_reply": "2023-12-10T13:19:18.563381Z"
    },
    "papermill": {
     "duration": 7.182266,
     "end_time": "2023-12-10T13:19:18.568443",
     "exception": false,
     "start_time": "2023-12-10T13:19:11.386177",
     "status": "completed"
    },
    "tags": []
   },
   "outputs": [],
   "source": [
    "import sys\n",
    "import gc\n",
    "\n",
    "import pandas as pd\n",
    "from sklearn.model_selection import StratifiedKFold\n",
    "import numpy as np\n",
    "from sklearn.metrics import roc_auc_score\n",
    "import numpy as np\n",
    "\n",
    "from sklearn.feature_extraction.text import TfidfVectorizer\n",
    "\n",
    "from tokenizers import (\n",
    "    decoders,\n",
    "    models,\n",
    "    normalizers,\n",
    "    pre_tokenizers,\n",
    "    processors,\n",
    "    trainers,\n",
    "    Tokenizer,\n",
    ")\n",
    "\n",
    "from datasets import Dataset\n",
    "from tqdm.auto import tqdm\n",
    "from transformers import PreTrainedTokenizerFast"
   ]
  },
  {
   "cell_type": "code",
   "execution_count": 3,
   "id": "0f01c4b9",
   "metadata": {
    "execution": {
     "iopub.execute_input": "2023-12-10T13:19:18.604147Z",
     "iopub.status.busy": "2023-12-10T13:19:18.603148Z",
     "iopub.status.idle": "2023-12-10T13:19:18.610685Z",
     "shell.execute_reply": "2023-12-10T13:19:18.609438Z"
    },
    "papermill": {
     "duration": 0.028402,
     "end_time": "2023-12-10T13:19:18.613676",
     "exception": false,
     "start_time": "2023-12-10T13:19:18.585274",
     "status": "completed"
    },
    "tags": []
   },
   "outputs": [],
   "source": [
    "random.seed(42)\n",
    "np.random.seed(42)\n",
    "debug=False\n",
    "pseudo=False\n",
    "LOWERCASE = False\n",
    "VOCAB_SIZE = 30522"
   ]
  },
  {
   "cell_type": "code",
   "execution_count": 4,
   "id": "f78e722b",
   "metadata": {
    "execution": {
     "iopub.execute_input": "2023-12-10T13:19:18.648495Z",
     "iopub.status.busy": "2023-12-10T13:19:18.647186Z",
     "iopub.status.idle": "2023-12-10T13:19:18.653007Z",
     "shell.execute_reply": "2023-12-10T13:19:18.651753Z"
    },
    "papermill": {
     "duration": 0.026331,
     "end_time": "2023-12-10T13:19:18.655913",
     "exception": false,
     "start_time": "2023-12-10T13:19:18.629582",
     "status": "completed"
    },
    "tags": []
   },
   "outputs": [],
   "source": [
    "# !pip install -q language-tool-python --no-index --find-links ../input/daigt-misc/\n",
    "# !mkdir -p /root/.cache/language_tool_python/\n",
    "# !cp -r /kaggle/input/daigt-misc/lang57/LanguageTool-5.7 /root/.cache/language_tool_python/LanguageTool-5.7\n",
    "# import language_tool_python\n",
    "# tool = language_tool_python.LanguageTool('en-US')"
   ]
  },
  {
   "cell_type": "markdown",
   "id": "c639649a",
   "metadata": {
    "papermill": {
     "duration": 0.015674,
     "end_time": "2023-12-10T13:19:18.687998",
     "exception": false,
     "start_time": "2023-12-10T13:19:18.672324",
     "status": "completed"
    },
    "tags": []
   },
   "source": [
    "# Importing files and Feature Engineering"
   ]
  },
  {
   "cell_type": "code",
   "execution_count": 5,
   "id": "96c5c9bb",
   "metadata": {
    "execution": {
     "iopub.execute_input": "2023-12-10T13:19:18.722107Z",
     "iopub.status.busy": "2023-12-10T13:19:18.721658Z",
     "iopub.status.idle": "2023-12-10T13:19:18.727553Z",
     "shell.execute_reply": "2023-12-10T13:19:18.726222Z"
    },
    "papermill": {
     "duration": 0.026421,
     "end_time": "2023-12-10T13:19:18.730355",
     "exception": false,
     "start_time": "2023-12-10T13:19:18.703934",
     "status": "completed"
    },
    "tags": []
   },
   "outputs": [],
   "source": [
    "# def denoise_text(text):\n",
    "#     # Assuming 'tool' is defined elsewhere in your code\n",
    "#     corrected_text = tool.correct(text)\n",
    "#     return corrected_text\n",
    "\n",
    "# # Function to correct the 'text' column of a DataFrame or Series in parallel\n",
    "# def correct_df(input_data):\n",
    "#     if isinstance(input_data, pd.DataFrame):\n",
    "#         # If input is a DataFrame, correct the 'text' column\n",
    "#         with ProcessPoolExecutor() as executor:\n",
    "#             input_data['text'] = list(executor.map(denoise_text, input_data['text']))\n",
    "#     elif isinstance(input_data, pd.Series):\n",
    "#         # If input is a Series, correct the series\n",
    "#         with ProcessPoolExecutor() as executor:\n",
    "#             input_data = list(executor.map(denoise_text, input_data)) \n",
    "#     return input_data"
   ]
  },
  {
   "cell_type": "code",
   "execution_count": 6,
   "id": "655332c5",
   "metadata": {
    "execution": {
     "iopub.execute_input": "2023-12-10T13:19:18.767712Z",
     "iopub.status.busy": "2023-12-10T13:19:18.767229Z",
     "iopub.status.idle": "2023-12-10T13:19:18.773641Z",
     "shell.execute_reply": "2023-12-10T13:19:18.772182Z"
    },
    "papermill": {
     "duration": 0.028931,
     "end_time": "2023-12-10T13:19:18.776940",
     "exception": false,
     "start_time": "2023-12-10T13:19:18.748009",
     "status": "completed"
    },
    "tags": []
   },
   "outputs": [],
   "source": [
    "# import spacy\n",
    "\n",
    "# import torch\n",
    "# from transformers import AutoTokenizer, AutoModelForSeq2SeqLM\n",
    "\n",
    "# from collections import Counter\n",
    "\n",
    "# from tqdm import tqdm\n",
    "\n",
    "\n",
    "# @torch.no_grad()\n",
    "# def clean_essay(text): \n",
    "#     doc = nlp(text)\n",
    "#     inputs = tokenizer([s.text for s in doc.sents], truncation=True, padding=True, return_tensors=\"pt\")\n",
    "#     outputs = deobfuscator.generate(inputs.input_ids.to(DEVICE), max_length=300)\n",
    "#     sents = tokenizer.batch_decode(outputs, skip_special_tokens=True)\n",
    "#     return \" \".join([s.strip() for s in sents])\n",
    "\n",
    "\n",
    "# MODEL_PATH = \"/kaggle/input/essay-gec/deobfuscator-v1\"\n",
    "# DEVICE = \"cuda:0\"\n",
    "\n",
    "# tokenizer = AutoTokenizer.from_pretrained(MODEL_PATH)\n",
    "# deobfuscator = AutoModelForSeq2SeqLM.from_pretrained(MODEL_PATH).to(DEVICE).eval()\n",
    "\n",
    "# nlp = spacy.load(\"en_core_web_sm\")"
   ]
  },
  {
   "cell_type": "code",
   "execution_count": 7,
   "id": "e3dc2928",
   "metadata": {
    "execution": {
     "iopub.execute_input": "2023-12-10T13:19:18.810965Z",
     "iopub.status.busy": "2023-12-10T13:19:18.810447Z",
     "iopub.status.idle": "2023-12-10T13:19:21.530354Z",
     "shell.execute_reply": "2023-12-10T13:19:21.529030Z"
    },
    "papermill": {
     "duration": 2.74125,
     "end_time": "2023-12-10T13:19:21.534052",
     "exception": false,
     "start_time": "2023-12-10T13:19:18.792802",
     "status": "completed"
    },
    "tags": []
   },
   "outputs": [],
   "source": [
    "# trainx = pd.read_csv('/kaggle/input/daigt-v2-trainessays-cleaned/daigt-v2-train-cleaned.csv')\n",
    "\n",
    "train1 = pd.read_csv(\"/kaggle/input/daigt-v2-train-dataset/train_v2_drcat_02.csv\", sep=',')\n",
    "train1 = train1.drop_duplicates(subset=['text'])\n",
    "train1.reset_index(drop=True, inplace=True)"
   ]
  },
  {
   "cell_type": "code",
   "execution_count": 8,
   "id": "d881cbb0",
   "metadata": {
    "execution": {
     "iopub.execute_input": "2023-12-10T13:19:21.568393Z",
     "iopub.status.busy": "2023-12-10T13:19:21.567924Z",
     "iopub.status.idle": "2023-12-10T13:19:21.574428Z",
     "shell.execute_reply": "2023-12-10T13:19:21.572912Z"
    },
    "papermill": {
     "duration": 0.026953,
     "end_time": "2023-12-10T13:19:21.577279",
     "exception": false,
     "start_time": "2023-12-10T13:19:21.550326",
     "status": "completed"
    },
    "tags": []
   },
   "outputs": [],
   "source": [
    "# ## credit @nbroad\n",
    "# not_persuade_df = trainx[trainx['source'] != 'persuade_corpus']\n",
    "# persuade_df = trainx[trainx['source'] == 'persuade_corpus']\n",
    "# sampled_persuade_df = persuade_df.sample(n=6000, random_state=42) \n",
    "# all_human = set(list(''.join(sampled_persuade_df.text.to_list())))\n",
    "# other = set(list(''.join(not_persuade_df.text.to_list())))\n",
    "# chars_to_remove = ''.join([x for x in other if x not in all_human])\n",
    "# print(chars_to_remove)\n",
    "\n",
    "# translation_table = str.maketrans('', '', chars_to_remove)\n",
    "# def remove_chars(s):\n",
    "#     return s.translate(translation_table)  \n",
    "\n",
    "# trainx['text'] = trainx['text'].str.replace('\\n', '') \n",
    "# trainx['text'] = trainx['text'].apply(remove_chars) "
   ]
  },
  {
   "cell_type": "code",
   "execution_count": 9,
   "id": "9fc20b58",
   "metadata": {
    "execution": {
     "iopub.execute_input": "2023-12-10T13:19:21.611236Z",
     "iopub.status.busy": "2023-12-10T13:19:21.610734Z",
     "iopub.status.idle": "2023-12-10T13:19:21.616498Z",
     "shell.execute_reply": "2023-12-10T13:19:21.615040Z"
    },
    "papermill": {
     "duration": 0.026192,
     "end_time": "2023-12-10T13:19:21.619225",
     "exception": false,
     "start_time": "2023-12-10T13:19:21.593033",
     "status": "completed"
    },
    "tags": []
   },
   "outputs": [],
   "source": [
    "# # train = pd.read_csv('/kaggle/input/daigt-v2-train-dataset/train_v2_drcat_02.csv')\n",
    "# # train1 = pd.read_csv('/kaggle/input/llm-ai-detect-dataset-5/augmented-typos-introduced-ds5.csv')  # 15% typos on label==0 alone\n",
    "# # # train1 = pd.read_csv(\"/kaggle/input/llm-ai-detect-dataset-with-typos-2/daigt-v2-test-dataset-with-12%-typos-introduced.csv\") #12% typos on both labels\n",
    "# train2 = pd.read_csv('/kaggle/input/llm-detect-ai-generated-text/train_essays.csv')\n",
    "# train2.rename(columns={'generated':'label'},inplace=True)  \n",
    "# trainz = pd.concat([trainx,train2])\n",
    "\n",
    "# trainz['text'] = trainz['text'].str.replace('\\n', '')  \n",
    "# train1 = trainz.copy()\n",
    "# train1.label.value_counts() "
   ]
  },
  {
   "cell_type": "code",
   "execution_count": 10,
   "id": "4dfc2d3b",
   "metadata": {
    "execution": {
     "iopub.execute_input": "2023-12-10T13:19:21.653872Z",
     "iopub.status.busy": "2023-12-10T13:19:21.652434Z",
     "iopub.status.idle": "2023-12-10T13:19:21.668475Z",
     "shell.execute_reply": "2023-12-10T13:19:21.667155Z"
    },
    "papermill": {
     "duration": 0.036578,
     "end_time": "2023-12-10T13:19:21.671620",
     "exception": false,
     "start_time": "2023-12-10T13:19:21.635042",
     "status": "completed"
    },
    "tags": []
   },
   "outputs": [],
   "source": [
    "if debug:\n",
    "#     train1 = train1.sample(2000)\n",
    "    test = train1[train1.prompt_name=='Car-free cities']\n",
    "    train = train1.drop(test.index)\n",
    "else:\n",
    "    train = train1.copy()\n",
    "    test = pd.read_csv('/kaggle/input/llm-detect-ai-generated-text/test_essays.csv')\n",
    "#     test['text'] = test['text'].str.replace('\\n', '') \n",
    "#     test['text'] = test['text'].apply(remove_chars)  \n",
    "#     correct_df(test)"
   ]
  },
  {
   "cell_type": "code",
   "execution_count": 11,
   "id": "efac0217",
   "metadata": {
    "execution": {
     "iopub.execute_input": "2023-12-10T13:19:21.706409Z",
     "iopub.status.busy": "2023-12-10T13:19:21.705926Z",
     "iopub.status.idle": "2023-12-10T13:19:21.711661Z",
     "shell.execute_reply": "2023-12-10T13:19:21.710016Z"
    },
    "papermill": {
     "duration": 0.026628,
     "end_time": "2023-12-10T13:19:21.714632",
     "exception": false,
     "start_time": "2023-12-10T13:19:21.688004",
     "status": "completed"
    },
    "tags": []
   },
   "outputs": [],
   "source": [
    "\n",
    "# test = pd.read_csv('/kaggle/input/llm-detect-ai-generated-text/test_essays.csv')\n",
    "# test['text'] = test['text'].str.replace('\\n', '')  \n",
    "# correct_df(test)"
   ]
  },
  {
   "cell_type": "code",
   "execution_count": 12,
   "id": "fb8c4561",
   "metadata": {
    "execution": {
     "iopub.execute_input": "2023-12-10T13:19:21.751447Z",
     "iopub.status.busy": "2023-12-10T13:19:21.750487Z",
     "iopub.status.idle": "2023-12-10T13:19:21.756295Z",
     "shell.execute_reply": "2023-12-10T13:19:21.755359Z"
    },
    "papermill": {
     "duration": 0.027493,
     "end_time": "2023-12-10T13:19:21.759131",
     "exception": false,
     "start_time": "2023-12-10T13:19:21.731638",
     "status": "completed"
    },
    "tags": []
   },
   "outputs": [],
   "source": [
    "# clean_texts = []\n",
    "# for i, r in tqdm(test.iterrows(), total=len(test)):\n",
    "#     clean_texts.append(clean_essay(r.text))\n",
    "# test[\"text\"] = clean_texts\n",
    "\n",
    "# del deobfuscator\n",
    "# torch.cuda.empty_cache()"
   ]
  },
  {
   "cell_type": "code",
   "execution_count": 13,
   "id": "1e79c871",
   "metadata": {
    "execution": {
     "iopub.execute_input": "2023-12-10T13:19:21.792516Z",
     "iopub.status.busy": "2023-12-10T13:19:21.792008Z",
     "iopub.status.idle": "2023-12-10T13:19:21.797635Z",
     "shell.execute_reply": "2023-12-10T13:19:21.796271Z"
    },
    "papermill": {
     "duration": 0.025416,
     "end_time": "2023-12-10T13:19:21.800141",
     "exception": false,
     "start_time": "2023-12-10T13:19:21.774725",
     "status": "completed"
    },
    "tags": []
   },
   "outputs": [],
   "source": [
    "# trainx = train.groupby('label').apply(lambda x: x.sample(1000, random_state=42)).reset_index(drop=True)\n",
    "# data = pd.DataFrame()\n",
    "# data['text'] = pd.concat([test['text'],trainx['text']])"
   ]
  },
  {
   "cell_type": "code",
   "execution_count": 14,
   "id": "707757c5",
   "metadata": {
    "execution": {
     "iopub.execute_input": "2023-12-10T13:19:21.835473Z",
     "iopub.status.busy": "2023-12-10T13:19:21.834820Z",
     "iopub.status.idle": "2023-12-10T13:22:20.860498Z",
     "shell.execute_reply": "2023-12-10T13:22:20.859006Z"
    },
    "papermill": {
     "duration": 179.047276,
     "end_time": "2023-12-10T13:22:20.863432",
     "exception": false,
     "start_time": "2023-12-10T13:19:21.816156",
     "status": "completed"
    },
    "tags": []
   },
   "outputs": [
    {
     "name": "stdout",
     "output_type": "stream",
     "text": [
      "\n",
      "\n",
      "\n"
     ]
    },
    {
     "data": {
      "application/vnd.jupyter.widget-view+json": {
       "model_id": "c065884c596647fdb5676781245324c2",
       "version_major": 2,
       "version_minor": 0
      },
      "text/plain": [
       "  0%|          | 0/3 [00:00<?, ?it/s]"
      ]
     },
     "metadata": {},
     "output_type": "display_data"
    },
    {
     "data": {
      "application/vnd.jupyter.widget-view+json": {
       "model_id": "24efd4a69b98452da90c8a3fca699927",
       "version_major": 2,
       "version_minor": 0
      },
      "text/plain": [
       "  0%|          | 0/44868 [00:00<?, ?it/s]"
      ]
     },
     "metadata": {},
     "output_type": "display_data"
    }
   ],
   "source": [
    "# Creating Byte-Pair Encoding tokenizer\n",
    "raw_tokenizer = Tokenizer(models.BPE(unk_token=\"[UNK]\"))\n",
    "\n",
    "\n",
    "# Adding normalization and pre_tokenizer\n",
    "raw_tokenizer.normalizer = normalizers.Sequence([normalizers.NFC()] + [normalizers.Lowercase()] if LOWERCASE else [])\n",
    "raw_tokenizer.pre_tokenizer = pre_tokenizers.ByteLevel()\n",
    "\n",
    "# Adding special tokens and creating trainer instance\n",
    "special_tokens = [\"[UNK]\", \"[PAD]\", \"[CLS]\", \"[SEP]\", \"[MASK]\"]\n",
    "trainer = trainers.BpeTrainer(vocab_size=VOCAB_SIZE, special_tokens=special_tokens) \n",
    "\n",
    "# Creating huggingface dataset object\n",
    "dataset = Dataset.from_pandas(test[['text']]) \n",
    "\n",
    "def train_corp_iter():\n",
    "    \"\"\"\n",
    "    A generator function for iterating over a dataset in chunks.\n",
    "    \"\"\"    \n",
    "    for i in range(0, len(dataset), 1000):\n",
    "        yield dataset[i : i + 1000][\"text\"]\n",
    "\n",
    "# Training from iterator REMEMBER it's training on test set...\n",
    "raw_tokenizer.train_from_iterator(train_corp_iter(), trainer=trainer)\n",
    "\n",
    "tokenizer = PreTrainedTokenizerFast(\n",
    "    tokenizer_object=raw_tokenizer,\n",
    "    unk_token=\"[UNK]\",\n",
    "    pad_token=\"[PAD]\",\n",
    "    cls_token=\"[CLS]\",\n",
    "    sep_token=\"[SEP]\",\n",
    "    mask_token=\"[MASK]\",\n",
    ")\n",
    "\n",
    "\n",
    "tokenized_texts_test = []\n",
    "\n",
    "# Tokenize test set with new tokenizer\n",
    "for text in tqdm(test['text'].tolist()):\n",
    "    tokenized_texts_test.append(tokenizer.tokenize(text))\n",
    "\n",
    "\n",
    "# Tokenize train set\n",
    "tokenized_texts_train = []\n",
    "\n",
    "for text in tqdm(train['text'].tolist()):\n",
    "    tokenized_texts_train.append(tokenizer.tokenize(text))"
   ]
  },
  {
   "cell_type": "markdown",
   "id": "c83ad66b",
   "metadata": {
    "papermill": {
     "duration": 0.017208,
     "end_time": "2023-12-10T13:22:20.900412",
     "exception": false,
     "start_time": "2023-12-10T13:22:20.883204",
     "status": "completed"
    },
    "tags": []
   },
   "source": [
    "### Functions to vectorize and fit models"
   ]
  },
  {
   "cell_type": "code",
   "execution_count": 15,
   "id": "c79e9904",
   "metadata": {
    "execution": {
     "iopub.execute_input": "2023-12-10T13:22:20.938217Z",
     "iopub.status.busy": "2023-12-10T13:22:20.937684Z",
     "iopub.status.idle": "2023-12-10T13:27:28.239148Z",
     "shell.execute_reply": "2023-12-10T13:27:28.237513Z"
    },
    "papermill": {
     "duration": 307.348337,
     "end_time": "2023-12-10T13:27:28.266397",
     "exception": false,
     "start_time": "2023-12-10T13:22:20.918060",
     "status": "completed"
    },
    "tags": []
   },
   "outputs": [
    {
     "data": {
      "text/plain": [
       "23"
      ]
     },
     "execution_count": 15,
     "metadata": {},
     "output_type": "execute_result"
    }
   ],
   "source": [
    "def dummy(text): \n",
    "    return text\n",
    "\n",
    "# Fitting TfidfVectoizer on test set\n",
    "\n",
    "vectorizer = TfidfVectorizer(ngram_range=(3, 5), lowercase=False, sublinear_tf=True, analyzer = 'word',\n",
    "    tokenizer = dummy,\n",
    "    preprocessor = dummy,\n",
    "    token_pattern = None, strip_accents='unicode')\n",
    "                            \n",
    "\n",
    "vectorizer.fit(tokenized_texts_test)\n",
    "\n",
    "# Getting vocab\n",
    "vocab = vectorizer.vocabulary_ \n",
    "\n",
    "# Here we fit our vectorizer on train set but this time we use vocabulary from test fit.\n",
    "vectorizer = TfidfVectorizer(ngram_range=(3, 5), lowercase=False, sublinear_tf=True, vocabulary=vocab,\n",
    "                            analyzer = 'word',\n",
    "                            tokenizer = dummy,\n",
    "                            preprocessor = dummy,\n",
    "                            token_pattern = None, strip_accents='unicode'\n",
    "                            )\n",
    "\n",
    "tf_train = vectorizer.fit_transform(tokenized_texts_train)\n",
    "tf_test = vectorizer.transform(tokenized_texts_test)\n",
    "\n",
    "y_train = train['label'].values\n",
    "\n",
    "del vectorizer\n",
    "gc.collect()"
   ]
  },
  {
   "cell_type": "code",
   "execution_count": 16,
   "id": "5a90184e",
   "metadata": {
    "execution": {
     "iopub.execute_input": "2023-12-10T13:27:28.311881Z",
     "iopub.status.busy": "2023-12-10T13:27:28.310919Z",
     "iopub.status.idle": "2023-12-10T13:27:28.322967Z",
     "shell.execute_reply": "2023-12-10T13:27:28.321863Z"
    },
    "papermill": {
     "duration": 0.038562,
     "end_time": "2023-12-10T13:27:28.325923",
     "exception": false,
     "start_time": "2023-12-10T13:27:28.287361",
     "status": "completed"
    },
    "tags": []
   },
   "outputs": [],
   "source": [
    "from scipy.sparse import hstack, coo_matrix \n",
    "\n",
    "# Add the additional column to the sparse matrix\n",
    "X1 = hstack([tf_train, np.array(train.label).reshape(-1,1)],format='csr') #.tocsc()"
   ]
  },
  {
   "cell_type": "code",
   "execution_count": 17,
   "id": "aec87be1",
   "metadata": {
    "execution": {
     "iopub.execute_input": "2023-12-10T13:27:28.364161Z",
     "iopub.status.busy": "2023-12-10T13:27:28.363660Z",
     "iopub.status.idle": "2023-12-10T13:27:28.400890Z",
     "shell.execute_reply": "2023-12-10T13:27:28.399306Z"
    },
    "papermill": {
     "duration": 0.062286,
     "end_time": "2023-12-10T13:27:28.406526",
     "exception": false,
     "start_time": "2023-12-10T13:27:28.344240",
     "status": "completed"
    },
    "tags": []
   },
   "outputs": [
    {
     "name": "stdout",
     "output_type": "stream",
     "text": [
      "original number of rows  44868\n",
      "number of rows after outlier removal using SGDsvm 44868\n"
     ]
    }
   ],
   "source": [
    "svm = SGDOneClassSVM(nu=0.01, random_state=42)\n",
    "iso = IsolationForest(random_state=42,contamination=0.05)\n",
    "lo = LocalOutlierFactor(n_neighbors=10, contamination=0.05)\n",
    "# lo = EllipticEnvelope(random_state=42)   \n",
    "\n",
    "pred = svm.fit_predict(X1) #sdf.drop(['label'],axis=1))\n",
    "mask = pred != -1\n",
    "data = X1[mask, :] #.reset_index(drop=True)\n",
    "print(\"original number of rows \",X1.shape[0]) \n",
    "print('number of rows after outlier removal using SGDsvm',data.shape[0])\n",
    "\n",
    "# pred = iso.fit_predict(X1)\n",
    "# mask = pred != -1\n",
    "# data1 = X1[mask, :] #.reset_index(drop=True) \n",
    "# print('number of rows after outlier removal using isoforest',data1.shape[0])\n",
    "\n",
    "# pred = lo.fit_predict(data)\n",
    "# mask = pred != -1\n",
    "# data2 = data1[mask, :] #.reset_index(drop=True) \n",
    "# print('number of rows after outlier removal using localoutlier',data2.shape[0])"
   ]
  },
  {
   "cell_type": "code",
   "execution_count": 18,
   "id": "1cd2f580",
   "metadata": {
    "execution": {
     "iopub.execute_input": "2023-12-10T13:27:28.456750Z",
     "iopub.status.busy": "2023-12-10T13:27:28.455570Z",
     "iopub.status.idle": "2023-12-10T13:27:28.466038Z",
     "shell.execute_reply": "2023-12-10T13:27:28.464621Z"
    },
    "papermill": {
     "duration": 0.038602,
     "end_time": "2023-12-10T13:27:28.469129",
     "exception": false,
     "start_time": "2023-12-10T13:27:28.430527",
     "status": "completed"
    },
    "tags": []
   },
   "outputs": [],
   "source": [
    "y_train = data[:,-1]\n",
    "data = data[:, :-1]"
   ]
  },
  {
   "cell_type": "code",
   "execution_count": 19,
   "id": "e897fabe",
   "metadata": {
    "execution": {
     "iopub.execute_input": "2023-12-10T13:27:28.512749Z",
     "iopub.status.busy": "2023-12-10T13:27:28.511680Z",
     "iopub.status.idle": "2023-12-10T13:27:28.540523Z",
     "shell.execute_reply": "2023-12-10T13:27:28.539414Z"
    },
    "papermill": {
     "duration": 0.056884,
     "end_time": "2023-12-10T13:27:28.544095",
     "exception": false,
     "start_time": "2023-12-10T13:27:28.487211",
     "status": "completed"
    },
    "tags": []
   },
   "outputs": [],
   "source": [
    "sub = pd.read_csv('/kaggle/input/llm-detect-ai-generated-text/sample_submission.csv')\n",
    "if len(test.text.values) <= 5:\n",
    "    sub.to_csv('submission.csv', index=False)\n",
    "else:\n",
    "    \n",
    "    clf = MultinomialNB(alpha=0.02)\n",
    "#     clf2 = MultinomialNB(alpha=0.01)\n",
    "    sgd_model = SGDClassifier(max_iter=8000, tol=1e-4, loss=\"modified_huber\") \n",
    "    p6={'n_iter': 1500,'verbose': -1,'objective': 'binary','metric': 'auc','learning_rate': 0.05073909898961407, 'colsample_bytree': 0.726023996436955, 'colsample_bynode': 0.5803681307354022, 'lambda_l1': 8.562963348932286, 'lambda_l2': 4.893256185259296, 'min_data_in_leaf': 115, 'max_depth': 23, 'max_bin': 898}\n",
    "    lgb=LGBMClassifier(**p6)\n",
    "    cat=CatBoostClassifier(iterations=1000,\n",
    "                           verbose=0,\n",
    "                           l2_leaf_reg=6.6591278779517808,\n",
    "                           learning_rate=0.005689066836106983,\n",
    "                           allow_const_label=True,loss_function = 'CrossEntropy')\n",
    "    weights = [0.07,0.31,0.62]\n",
    " \n",
    "    ensemble = VotingClassifier(estimators=[('mnb',clf),\n",
    "                                            ('sgd', sgd_model),\n",
    "                                            ('lgb',lgb), \n",
    "#                                             ('cat', cat)\n",
    "                                           ],\n",
    "                                weights=weights, voting='soft', n_jobs=-1)\n",
    "    ensemble.fit(data, y_train.toarray()) \n",
    "    final_preds = ensemble.predict_proba(tf_test)[:,1]\n",
    "    if not debug:\n",
    "        sub['generated'] = final_preds\n",
    "        sub.to_csv('submission.csv', index=False)\n",
    "        sub"
   ]
  },
  {
   "cell_type": "code",
   "execution_count": 20,
   "id": "0f3be15c",
   "metadata": {
    "execution": {
     "iopub.execute_input": "2023-12-10T13:27:28.587657Z",
     "iopub.status.busy": "2023-12-10T13:27:28.587188Z",
     "iopub.status.idle": "2023-12-10T13:27:28.593917Z",
     "shell.execute_reply": "2023-12-10T13:27:28.592552Z"
    },
    "papermill": {
     "duration": 0.029432,
     "end_time": "2023-12-10T13:27:28.597094",
     "exception": false,
     "start_time": "2023-12-10T13:27:28.567662",
     "status": "completed"
    },
    "tags": []
   },
   "outputs": [],
   "source": [
    "# clf = MultinomialNB(alpha=0.02)\n",
    "# clf2 = MultinomialNB(alpha=0.01)\n",
    "# sgd_model = SGDClassifier(max_iter=10000, tol=1e-4, loss=\"modified_huber\") \n",
    "# p6={'n_iter': 3000,'verbose': -1,'objective': 'l2','learning_rate': 0.005670084478292278, 'colsample_bytree': 0.6440444070196796, 'colsample_bynode': 0.637635804565811, 'lambda_l1': 6.29090474401462, 'lambda_l2': 6.775341543233317, 'min_data_in_leaf': 95, 'max_depth': 26, 'max_bin': 630}\n",
    "\n",
    "\n",
    "# lgb=lgb.LGBMClassifier(**p6)\n",
    "\n",
    "# ensemble = VotingClassifier(estimators=[('mnb',clf),('sgd', sgd_model),('lgb',lgb)],\n",
    "#                             weights=[0.25,0.25,0.5], voting='soft', n_jobs=-1)\n",
    "# ensemble.fit(data, y_train.toarray())"
   ]
  },
  {
   "cell_type": "code",
   "execution_count": 21,
   "id": "7747e8d6",
   "metadata": {
    "execution": {
     "iopub.execute_input": "2023-12-10T13:27:28.638435Z",
     "iopub.status.busy": "2023-12-10T13:27:28.637968Z",
     "iopub.status.idle": "2023-12-10T13:27:28.644210Z",
     "shell.execute_reply": "2023-12-10T13:27:28.642850Z"
    },
    "papermill": {
     "duration": 0.028276,
     "end_time": "2023-12-10T13:27:28.646790",
     "exception": false,
     "start_time": "2023-12-10T13:27:28.618514",
     "status": "completed"
    },
    "tags": []
   },
   "outputs": [],
   "source": [
    "\n",
    "# mnb = MultinomialNB(alpha=0.02)\n",
    "     \n",
    "# sgd_model1 = SGDClassifier(max_iter=10000, tol=1e-4,loss=\"modified_huber\", random_state=42) \n",
    "# sgd_model2 = SGDClassifier(max_iter=10000, tol=3e-3,loss=\"modified_huber\",  class_weight=\"balanced\",random_state=42) \n",
    "# sgd_model3 = SGDClassifier(max_iter=15000, tol=5e-3,loss=\"modified_huber\", early_stopping=True,random_state=42) \n",
    "\n",
    "# ensemble = VotingClassifier(estimators=[\n",
    "                                         \n",
    "#                                         ('mnb', mnb),\n",
    "#                                         ('sgd1', sgd_model1),\n",
    "#                                         ('sgd2', sgd_model2),\n",
    "#                                         ('sgd3', sgd_model3),\n",
    "#                                        ],\n",
    "#                             weights=[0.1, 0.3,0.3,0.3],\n",
    "#                             voting='soft'\n",
    "#                            )\n",
    " \n",
    "# ensemble.fit(data, y_train.toarray())"
   ]
  },
  {
   "cell_type": "code",
   "execution_count": 22,
   "id": "951f4564",
   "metadata": {
    "execution": {
     "iopub.execute_input": "2023-12-10T13:27:28.684139Z",
     "iopub.status.busy": "2023-12-10T13:27:28.683207Z",
     "iopub.status.idle": "2023-12-10T13:27:28.688735Z",
     "shell.execute_reply": "2023-12-10T13:27:28.687795Z"
    },
    "papermill": {
     "duration": 0.027949,
     "end_time": "2023-12-10T13:27:28.691696",
     "exception": false,
     "start_time": "2023-12-10T13:27:28.663747",
     "status": "completed"
    },
    "tags": []
   },
   "outputs": [],
   "source": [
    "# preds_test = ensemble.predict_proba(tf_test)[:,1]"
   ]
  },
  {
   "cell_type": "code",
   "execution_count": 23,
   "id": "47d2c6d4",
   "metadata": {
    "execution": {
     "iopub.execute_input": "2023-12-10T13:27:28.727300Z",
     "iopub.status.busy": "2023-12-10T13:27:28.726792Z",
     "iopub.status.idle": "2023-12-10T13:27:28.732587Z",
     "shell.execute_reply": "2023-12-10T13:27:28.731542Z"
    },
    "papermill": {
     "duration": 0.027164,
     "end_time": "2023-12-10T13:27:28.735477",
     "exception": false,
     "start_time": "2023-12-10T13:27:28.708313",
     "status": "completed"
    },
    "tags": []
   },
   "outputs": [],
   "source": [
    "# preds_test"
   ]
  },
  {
   "cell_type": "markdown",
   "id": "1225f1ca",
   "metadata": {
    "papermill": {
     "duration": 0.017144,
     "end_time": "2023-12-10T13:27:28.771913",
     "exception": false,
     "start_time": "2023-12-10T13:27:28.754769",
     "status": "completed"
    },
    "tags": []
   },
   "source": [
    "## Submit"
   ]
  },
  {
   "cell_type": "code",
   "execution_count": 24,
   "id": "7d1d966b",
   "metadata": {
    "execution": {
     "iopub.execute_input": "2023-12-10T13:27:28.807965Z",
     "iopub.status.busy": "2023-12-10T13:27:28.807449Z",
     "iopub.status.idle": "2023-12-10T13:27:28.812969Z",
     "shell.execute_reply": "2023-12-10T13:27:28.811683Z"
    },
    "papermill": {
     "duration": 0.026881,
     "end_time": "2023-12-10T13:27:28.815698",
     "exception": false,
     "start_time": "2023-12-10T13:27:28.788817",
     "status": "completed"
    },
    "tags": []
   },
   "outputs": [],
   "source": [
    "# if debug==False:\n",
    "#     pd.DataFrame({'id':test[\"id\"],'generated':preds_test}).to_csv('submission.csv', index=False)\n",
    "#     pd.read_csv('/kaggle/working/submission.csv')\n",
    "#     sub=pd.read_csv('/kaggle/working/submission.csv')\n",
    "#     print(sub)"
   ]
  },
  {
   "cell_type": "code",
   "execution_count": null,
   "id": "757f77be",
   "metadata": {
    "papermill": {
     "duration": 0.018234,
     "end_time": "2023-12-10T13:27:28.851273",
     "exception": false,
     "start_time": "2023-12-10T13:27:28.833039",
     "status": "completed"
    },
    "tags": []
   },
   "outputs": [],
   "source": []
  }
 ],
 "metadata": {
  "kaggle": {
   "accelerator": "none",
   "dataSources": [
    {
     "databundleVersionId": 6888007,
     "sourceId": 61542,
     "sourceType": "competition"
    },
    {
     "datasetId": 3945154,
     "sourceId": 6865136,
     "sourceType": "datasetVersion"
    },
    {
     "datasetId": 4005256,
     "sourceId": 6977472,
     "sourceType": "datasetVersion"
    },
    {
     "datasetId": 4035516,
     "sourceId": 7018354,
     "sourceType": "datasetVersion"
    },
    {
     "datasetId": 4064898,
     "sourceId": 7060860,
     "sourceType": "datasetVersion"
    },
    {
     "datasetId": 4070722,
     "sourceId": 7069044,
     "sourceType": "datasetVersion"
    },
    {
     "datasetId": 4091539,
     "sourceId": 7098487,
     "sourceType": "datasetVersion"
    },
    {
     "sourceId": 152459920,
     "sourceType": "kernelVersion"
    }
   ],
   "dockerImageVersionId": 30587,
   "isGpuEnabled": false,
   "isInternetEnabled": false,
   "language": "python",
   "sourceType": "notebook"
  },
  "kernelspec": {
   "display_name": "Python 3",
   "language": "python",
   "name": "python3"
  },
  "language_info": {
   "codemirror_mode": {
    "name": "ipython",
    "version": 3
   },
   "file_extension": ".py",
   "mimetype": "text/x-python",
   "name": "python",
   "nbconvert_exporter": "python",
   "pygments_lexer": "ipython3",
   "version": "3.10.12"
  },
  "papermill": {
   "default_parameters": {},
   "duration": 510.416129,
   "end_time": "2023-12-10T13:27:31.897955",
   "environment_variables": {},
   "exception": null,
   "input_path": "__notebook__.ipynb",
   "output_path": "__notebook__.ipynb",
   "parameters": {},
   "start_time": "2023-12-10T13:19:01.481826",
   "version": "2.4.0"
  },
  "widgets": {
   "application/vnd.jupyter.widget-state+json": {
    "state": {
     "0105ad6395754ab093bd2e609514ccaf": {
      "model_module": "@jupyter-widgets/controls",
      "model_module_version": "1.5.0",
      "model_name": "ProgressStyleModel",
      "state": {
       "_model_module": "@jupyter-widgets/controls",
       "_model_module_version": "1.5.0",
       "_model_name": "ProgressStyleModel",
       "_view_count": null,
       "_view_module": "@jupyter-widgets/base",
       "_view_module_version": "1.2.0",
       "_view_name": "StyleView",
       "bar_color": null,
       "description_width": ""
      }
     },
     "1a334ae89ff945979c687b90679c21b8": {
      "model_module": "@jupyter-widgets/base",
      "model_module_version": "1.2.0",
      "model_name": "LayoutModel",
      "state": {
       "_model_module": "@jupyter-widgets/base",
       "_model_module_version": "1.2.0",
       "_model_name": "LayoutModel",
       "_view_count": null,
       "_view_module": "@jupyter-widgets/base",
       "_view_module_version": "1.2.0",
       "_view_name": "LayoutView",
       "align_content": null,
       "align_items": null,
       "align_self": null,
       "border": null,
       "bottom": null,
       "display": null,
       "flex": null,
       "flex_flow": null,
       "grid_area": null,
       "grid_auto_columns": null,
       "grid_auto_flow": null,
       "grid_auto_rows": null,
       "grid_column": null,
       "grid_gap": null,
       "grid_row": null,
       "grid_template_areas": null,
       "grid_template_columns": null,
       "grid_template_rows": null,
       "height": null,
       "justify_content": null,
       "justify_items": null,
       "left": null,
       "margin": null,
       "max_height": null,
       "max_width": null,
       "min_height": null,
       "min_width": null,
       "object_fit": null,
       "object_position": null,
       "order": null,
       "overflow": null,
       "overflow_x": null,
       "overflow_y": null,
       "padding": null,
       "right": null,
       "top": null,
       "visibility": null,
       "width": null
      }
     },
     "1af7fde995004403809662e8993c9b9f": {
      "model_module": "@jupyter-widgets/controls",
      "model_module_version": "1.5.0",
      "model_name": "HTMLModel",
      "state": {
       "_dom_classes": [],
       "_model_module": "@jupyter-widgets/controls",
       "_model_module_version": "1.5.0",
       "_model_name": "HTMLModel",
       "_view_count": null,
       "_view_module": "@jupyter-widgets/controls",
       "_view_module_version": "1.5.0",
       "_view_name": "HTMLView",
       "description": "",
       "description_tooltip": null,
       "layout": "IPY_MODEL_ca5563cb776b42f290f7f96feeac2986",
       "placeholder": "​",
       "style": "IPY_MODEL_4c9d820d5a63468f8e57e41b4c1db73d",
       "value": "100%"
      }
     },
     "24efd4a69b98452da90c8a3fca699927": {
      "model_module": "@jupyter-widgets/controls",
      "model_module_version": "1.5.0",
      "model_name": "HBoxModel",
      "state": {
       "_dom_classes": [],
       "_model_module": "@jupyter-widgets/controls",
       "_model_module_version": "1.5.0",
       "_model_name": "HBoxModel",
       "_view_count": null,
       "_view_module": "@jupyter-widgets/controls",
       "_view_module_version": "1.5.0",
       "_view_name": "HBoxView",
       "box_style": "",
       "children": [
        "IPY_MODEL_1af7fde995004403809662e8993c9b9f",
        "IPY_MODEL_a7a6d813c26e46738273960a9b7cdeb6",
        "IPY_MODEL_938bcbcd4bde46fcb1d8f4face7b42d2"
       ],
       "layout": "IPY_MODEL_bebda75fe31d44af93de72cbb4799c8a"
      }
     },
     "2fd96087cd084877bd3773c2c6fb0a69": {
      "model_module": "@jupyter-widgets/base",
      "model_module_version": "1.2.0",
      "model_name": "LayoutModel",
      "state": {
       "_model_module": "@jupyter-widgets/base",
       "_model_module_version": "1.2.0",
       "_model_name": "LayoutModel",
       "_view_count": null,
       "_view_module": "@jupyter-widgets/base",
       "_view_module_version": "1.2.0",
       "_view_name": "LayoutView",
       "align_content": null,
       "align_items": null,
       "align_self": null,
       "border": null,
       "bottom": null,
       "display": null,
       "flex": null,
       "flex_flow": null,
       "grid_area": null,
       "grid_auto_columns": null,
       "grid_auto_flow": null,
       "grid_auto_rows": null,
       "grid_column": null,
       "grid_gap": null,
       "grid_row": null,
       "grid_template_areas": null,
       "grid_template_columns": null,
       "grid_template_rows": null,
       "height": null,
       "justify_content": null,
       "justify_items": null,
       "left": null,
       "margin": null,
       "max_height": null,
       "max_width": null,
       "min_height": null,
       "min_width": null,
       "object_fit": null,
       "object_position": null,
       "order": null,
       "overflow": null,
       "overflow_x": null,
       "overflow_y": null,
       "padding": null,
       "right": null,
       "top": null,
       "visibility": null,
       "width": null
      }
     },
     "3615268d458f4583b94cb1e6407acc9f": {
      "model_module": "@jupyter-widgets/controls",
      "model_module_version": "1.5.0",
      "model_name": "DescriptionStyleModel",
      "state": {
       "_model_module": "@jupyter-widgets/controls",
       "_model_module_version": "1.5.0",
       "_model_name": "DescriptionStyleModel",
       "_view_count": null,
       "_view_module": "@jupyter-widgets/base",
       "_view_module_version": "1.2.0",
       "_view_name": "StyleView",
       "description_width": ""
      }
     },
     "4c9d820d5a63468f8e57e41b4c1db73d": {
      "model_module": "@jupyter-widgets/controls",
      "model_module_version": "1.5.0",
      "model_name": "DescriptionStyleModel",
      "state": {
       "_model_module": "@jupyter-widgets/controls",
       "_model_module_version": "1.5.0",
       "_model_name": "DescriptionStyleModel",
       "_view_count": null,
       "_view_module": "@jupyter-widgets/base",
       "_view_module_version": "1.2.0",
       "_view_name": "StyleView",
       "description_width": ""
      }
     },
     "52b3edb1f58a447c8ac3ffffec66539f": {
      "model_module": "@jupyter-widgets/controls",
      "model_module_version": "1.5.0",
      "model_name": "HTMLModel",
      "state": {
       "_dom_classes": [],
       "_model_module": "@jupyter-widgets/controls",
       "_model_module_version": "1.5.0",
       "_model_name": "HTMLModel",
       "_view_count": null,
       "_view_module": "@jupyter-widgets/controls",
       "_view_module_version": "1.5.0",
       "_view_name": "HTMLView",
       "description": "",
       "description_tooltip": null,
       "layout": "IPY_MODEL_cf72ad46d3544b538fd4efbec3521809",
       "placeholder": "​",
       "style": "IPY_MODEL_9cf0c8f5a2a949379e3ffb803b27c7c3",
       "value": " 3/3 [00:00&lt;00:00, 92.12it/s]"
      }
     },
     "6251154527ad4ffdb29ec241307f5bb9": {
      "model_module": "@jupyter-widgets/controls",
      "model_module_version": "1.5.0",
      "model_name": "HTMLModel",
      "state": {
       "_dom_classes": [],
       "_model_module": "@jupyter-widgets/controls",
       "_model_module_version": "1.5.0",
       "_model_name": "HTMLModel",
       "_view_count": null,
       "_view_module": "@jupyter-widgets/controls",
       "_view_module_version": "1.5.0",
       "_view_name": "HTMLView",
       "description": "",
       "description_tooltip": null,
       "layout": "IPY_MODEL_79c3fb105b304a28a26857fdad856057",
       "placeholder": "​",
       "style": "IPY_MODEL_d7996baf332943b99b70cb649bdb7522",
       "value": "100%"
      }
     },
     "70549dc05f7442e587eb6142996f348b": {
      "model_module": "@jupyter-widgets/base",
      "model_module_version": "1.2.0",
      "model_name": "LayoutModel",
      "state": {
       "_model_module": "@jupyter-widgets/base",
       "_model_module_version": "1.2.0",
       "_model_name": "LayoutModel",
       "_view_count": null,
       "_view_module": "@jupyter-widgets/base",
       "_view_module_version": "1.2.0",
       "_view_name": "LayoutView",
       "align_content": null,
       "align_items": null,
       "align_self": null,
       "border": null,
       "bottom": null,
       "display": null,
       "flex": null,
       "flex_flow": null,
       "grid_area": null,
       "grid_auto_columns": null,
       "grid_auto_flow": null,
       "grid_auto_rows": null,
       "grid_column": null,
       "grid_gap": null,
       "grid_row": null,
       "grid_template_areas": null,
       "grid_template_columns": null,
       "grid_template_rows": null,
       "height": null,
       "justify_content": null,
       "justify_items": null,
       "left": null,
       "margin": null,
       "max_height": null,
       "max_width": null,
       "min_height": null,
       "min_width": null,
       "object_fit": null,
       "object_position": null,
       "order": null,
       "overflow": null,
       "overflow_x": null,
       "overflow_y": null,
       "padding": null,
       "right": null,
       "top": null,
       "visibility": null,
       "width": null
      }
     },
     "79c3fb105b304a28a26857fdad856057": {
      "model_module": "@jupyter-widgets/base",
      "model_module_version": "1.2.0",
      "model_name": "LayoutModel",
      "state": {
       "_model_module": "@jupyter-widgets/base",
       "_model_module_version": "1.2.0",
       "_model_name": "LayoutModel",
       "_view_count": null,
       "_view_module": "@jupyter-widgets/base",
       "_view_module_version": "1.2.0",
       "_view_name": "LayoutView",
       "align_content": null,
       "align_items": null,
       "align_self": null,
       "border": null,
       "bottom": null,
       "display": null,
       "flex": null,
       "flex_flow": null,
       "grid_area": null,
       "grid_auto_columns": null,
       "grid_auto_flow": null,
       "grid_auto_rows": null,
       "grid_column": null,
       "grid_gap": null,
       "grid_row": null,
       "grid_template_areas": null,
       "grid_template_columns": null,
       "grid_template_rows": null,
       "height": null,
       "justify_content": null,
       "justify_items": null,
       "left": null,
       "margin": null,
       "max_height": null,
       "max_width": null,
       "min_height": null,
       "min_width": null,
       "object_fit": null,
       "object_position": null,
       "order": null,
       "overflow": null,
       "overflow_x": null,
       "overflow_y": null,
       "padding": null,
       "right": null,
       "top": null,
       "visibility": null,
       "width": null
      }
     },
     "80c3133e28f64c99b8918a733d885430": {
      "model_module": "@jupyter-widgets/controls",
      "model_module_version": "1.5.0",
      "model_name": "ProgressStyleModel",
      "state": {
       "_model_module": "@jupyter-widgets/controls",
       "_model_module_version": "1.5.0",
       "_model_name": "ProgressStyleModel",
       "_view_count": null,
       "_view_module": "@jupyter-widgets/base",
       "_view_module_version": "1.2.0",
       "_view_name": "StyleView",
       "bar_color": null,
       "description_width": ""
      }
     },
     "903f790c0b674e78ab3fbd13be3c30db": {
      "model_module": "@jupyter-widgets/base",
      "model_module_version": "1.2.0",
      "model_name": "LayoutModel",
      "state": {
       "_model_module": "@jupyter-widgets/base",
       "_model_module_version": "1.2.0",
       "_model_name": "LayoutModel",
       "_view_count": null,
       "_view_module": "@jupyter-widgets/base",
       "_view_module_version": "1.2.0",
       "_view_name": "LayoutView",
       "align_content": null,
       "align_items": null,
       "align_self": null,
       "border": null,
       "bottom": null,
       "display": null,
       "flex": null,
       "flex_flow": null,
       "grid_area": null,
       "grid_auto_columns": null,
       "grid_auto_flow": null,
       "grid_auto_rows": null,
       "grid_column": null,
       "grid_gap": null,
       "grid_row": null,
       "grid_template_areas": null,
       "grid_template_columns": null,
       "grid_template_rows": null,
       "height": null,
       "justify_content": null,
       "justify_items": null,
       "left": null,
       "margin": null,
       "max_height": null,
       "max_width": null,
       "min_height": null,
       "min_width": null,
       "object_fit": null,
       "object_position": null,
       "order": null,
       "overflow": null,
       "overflow_x": null,
       "overflow_y": null,
       "padding": null,
       "right": null,
       "top": null,
       "visibility": null,
       "width": null
      }
     },
     "938bcbcd4bde46fcb1d8f4face7b42d2": {
      "model_module": "@jupyter-widgets/controls",
      "model_module_version": "1.5.0",
      "model_name": "HTMLModel",
      "state": {
       "_dom_classes": [],
       "_model_module": "@jupyter-widgets/controls",
       "_model_module_version": "1.5.0",
       "_model_name": "HTMLModel",
       "_view_count": null,
       "_view_module": "@jupyter-widgets/controls",
       "_view_module_version": "1.5.0",
       "_view_name": "HTMLView",
       "description": "",
       "description_tooltip": null,
       "layout": "IPY_MODEL_903f790c0b674e78ab3fbd13be3c30db",
       "placeholder": "​",
       "style": "IPY_MODEL_3615268d458f4583b94cb1e6407acc9f",
       "value": " 44868/44868 [02:58&lt;00:00, 238.30it/s]"
      }
     },
     "9cf0c8f5a2a949379e3ffb803b27c7c3": {
      "model_module": "@jupyter-widgets/controls",
      "model_module_version": "1.5.0",
      "model_name": "DescriptionStyleModel",
      "state": {
       "_model_module": "@jupyter-widgets/controls",
       "_model_module_version": "1.5.0",
       "_model_name": "DescriptionStyleModel",
       "_view_count": null,
       "_view_module": "@jupyter-widgets/base",
       "_view_module_version": "1.2.0",
       "_view_name": "StyleView",
       "description_width": ""
      }
     },
     "a7a6d813c26e46738273960a9b7cdeb6": {
      "model_module": "@jupyter-widgets/controls",
      "model_module_version": "1.5.0",
      "model_name": "FloatProgressModel",
      "state": {
       "_dom_classes": [],
       "_model_module": "@jupyter-widgets/controls",
       "_model_module_version": "1.5.0",
       "_model_name": "FloatProgressModel",
       "_view_count": null,
       "_view_module": "@jupyter-widgets/controls",
       "_view_module_version": "1.5.0",
       "_view_name": "ProgressView",
       "bar_style": "success",
       "description": "",
       "description_tooltip": null,
       "layout": "IPY_MODEL_70549dc05f7442e587eb6142996f348b",
       "max": 44868.0,
       "min": 0.0,
       "orientation": "horizontal",
       "style": "IPY_MODEL_0105ad6395754ab093bd2e609514ccaf",
       "value": 44868.0
      }
     },
     "aa7fabb145464e5686239abb0665effd": {
      "model_module": "@jupyter-widgets/controls",
      "model_module_version": "1.5.0",
      "model_name": "FloatProgressModel",
      "state": {
       "_dom_classes": [],
       "_model_module": "@jupyter-widgets/controls",
       "_model_module_version": "1.5.0",
       "_model_name": "FloatProgressModel",
       "_view_count": null,
       "_view_module": "@jupyter-widgets/controls",
       "_view_module_version": "1.5.0",
       "_view_name": "ProgressView",
       "bar_style": "success",
       "description": "",
       "description_tooltip": null,
       "layout": "IPY_MODEL_1a334ae89ff945979c687b90679c21b8",
       "max": 3.0,
       "min": 0.0,
       "orientation": "horizontal",
       "style": "IPY_MODEL_80c3133e28f64c99b8918a733d885430",
       "value": 3.0
      }
     },
     "bebda75fe31d44af93de72cbb4799c8a": {
      "model_module": "@jupyter-widgets/base",
      "model_module_version": "1.2.0",
      "model_name": "LayoutModel",
      "state": {
       "_model_module": "@jupyter-widgets/base",
       "_model_module_version": "1.2.0",
       "_model_name": "LayoutModel",
       "_view_count": null,
       "_view_module": "@jupyter-widgets/base",
       "_view_module_version": "1.2.0",
       "_view_name": "LayoutView",
       "align_content": null,
       "align_items": null,
       "align_self": null,
       "border": null,
       "bottom": null,
       "display": null,
       "flex": null,
       "flex_flow": null,
       "grid_area": null,
       "grid_auto_columns": null,
       "grid_auto_flow": null,
       "grid_auto_rows": null,
       "grid_column": null,
       "grid_gap": null,
       "grid_row": null,
       "grid_template_areas": null,
       "grid_template_columns": null,
       "grid_template_rows": null,
       "height": null,
       "justify_content": null,
       "justify_items": null,
       "left": null,
       "margin": null,
       "max_height": null,
       "max_width": null,
       "min_height": null,
       "min_width": null,
       "object_fit": null,
       "object_position": null,
       "order": null,
       "overflow": null,
       "overflow_x": null,
       "overflow_y": null,
       "padding": null,
       "right": null,
       "top": null,
       "visibility": null,
       "width": null
      }
     },
     "c065884c596647fdb5676781245324c2": {
      "model_module": "@jupyter-widgets/controls",
      "model_module_version": "1.5.0",
      "model_name": "HBoxModel",
      "state": {
       "_dom_classes": [],
       "_model_module": "@jupyter-widgets/controls",
       "_model_module_version": "1.5.0",
       "_model_name": "HBoxModel",
       "_view_count": null,
       "_view_module": "@jupyter-widgets/controls",
       "_view_module_version": "1.5.0",
       "_view_name": "HBoxView",
       "box_style": "",
       "children": [
        "IPY_MODEL_6251154527ad4ffdb29ec241307f5bb9",
        "IPY_MODEL_aa7fabb145464e5686239abb0665effd",
        "IPY_MODEL_52b3edb1f58a447c8ac3ffffec66539f"
       ],
       "layout": "IPY_MODEL_2fd96087cd084877bd3773c2c6fb0a69"
      }
     },
     "ca5563cb776b42f290f7f96feeac2986": {
      "model_module": "@jupyter-widgets/base",
      "model_module_version": "1.2.0",
      "model_name": "LayoutModel",
      "state": {
       "_model_module": "@jupyter-widgets/base",
       "_model_module_version": "1.2.0",
       "_model_name": "LayoutModel",
       "_view_count": null,
       "_view_module": "@jupyter-widgets/base",
       "_view_module_version": "1.2.0",
       "_view_name": "LayoutView",
       "align_content": null,
       "align_items": null,
       "align_self": null,
       "border": null,
       "bottom": null,
       "display": null,
       "flex": null,
       "flex_flow": null,
       "grid_area": null,
       "grid_auto_columns": null,
       "grid_auto_flow": null,
       "grid_auto_rows": null,
       "grid_column": null,
       "grid_gap": null,
       "grid_row": null,
       "grid_template_areas": null,
       "grid_template_columns": null,
       "grid_template_rows": null,
       "height": null,
       "justify_content": null,
       "justify_items": null,
       "left": null,
       "margin": null,
       "max_height": null,
       "max_width": null,
       "min_height": null,
       "min_width": null,
       "object_fit": null,
       "object_position": null,
       "order": null,
       "overflow": null,
       "overflow_x": null,
       "overflow_y": null,
       "padding": null,
       "right": null,
       "top": null,
       "visibility": null,
       "width": null
      }
     },
     "cf72ad46d3544b538fd4efbec3521809": {
      "model_module": "@jupyter-widgets/base",
      "model_module_version": "1.2.0",
      "model_name": "LayoutModel",
      "state": {
       "_model_module": "@jupyter-widgets/base",
       "_model_module_version": "1.2.0",
       "_model_name": "LayoutModel",
       "_view_count": null,
       "_view_module": "@jupyter-widgets/base",
       "_view_module_version": "1.2.0",
       "_view_name": "LayoutView",
       "align_content": null,
       "align_items": null,
       "align_self": null,
       "border": null,
       "bottom": null,
       "display": null,
       "flex": null,
       "flex_flow": null,
       "grid_area": null,
       "grid_auto_columns": null,
       "grid_auto_flow": null,
       "grid_auto_rows": null,
       "grid_column": null,
       "grid_gap": null,
       "grid_row": null,
       "grid_template_areas": null,
       "grid_template_columns": null,
       "grid_template_rows": null,
       "height": null,
       "justify_content": null,
       "justify_items": null,
       "left": null,
       "margin": null,
       "max_height": null,
       "max_width": null,
       "min_height": null,
       "min_width": null,
       "object_fit": null,
       "object_position": null,
       "order": null,
       "overflow": null,
       "overflow_x": null,
       "overflow_y": null,
       "padding": null,
       "right": null,
       "top": null,
       "visibility": null,
       "width": null
      }
     },
     "d7996baf332943b99b70cb649bdb7522": {
      "model_module": "@jupyter-widgets/controls",
      "model_module_version": "1.5.0",
      "model_name": "DescriptionStyleModel",
      "state": {
       "_model_module": "@jupyter-widgets/controls",
       "_model_module_version": "1.5.0",
       "_model_name": "DescriptionStyleModel",
       "_view_count": null,
       "_view_module": "@jupyter-widgets/base",
       "_view_module_version": "1.2.0",
       "_view_name": "StyleView",
       "description_width": ""
      }
     }
    },
    "version_major": 2,
    "version_minor": 0
   }
  }
 },
 "nbformat": 4,
 "nbformat_minor": 5
}
